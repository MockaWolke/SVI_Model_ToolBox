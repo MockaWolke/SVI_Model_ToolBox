{
 "cells": [
  {
   "cell_type": "code",
   "execution_count": 25,
   "metadata": {},
   "outputs": [],
   "source": [
    "import pandas as pd\n",
    "import tensorflow_datasets as tfds\n",
    "import numpy as np\n",
    "import tqdm\n",
    "import tensorflow as tf"
   ]
  },
  {
   "cell_type": "code",
   "execution_count": 26,
   "metadata": {},
   "outputs": [],
   "source": [
    "df = pd.read_csv(\"nights_data.csv\",index_col=0)\n",
    "df = df[df[\"ds_type\"]==\"test\"]\n",
    "\n",
    "mask = df[\"night_name\"].apply(lambda x:x==\"Night\")\n"
   ]
  },
  {
   "cell_type": "code",
   "execution_count": 27,
   "metadata": {},
   "outputs": [],
   "source": [
    "def mapping(path,key):\n",
    "    image = tf.io.read_file(path)\n",
    "    image = tf.io.decode_jpeg(image, channels=3)\n",
    "    image = tf.image.resize(image, [260,260])\n",
    "    return image, key\n",
    "\n",
    "def copy_data(df,path_out):\n",
    "\n",
    "    image_paths = \"../\" + df[\"Path\"] + \"/images/\" + df[\"key\"] + \".jpg\"\n",
    "\n",
    "    ds = tf.data.Dataset.from_tensor_slices((image_paths,df[\"key\"]))\n",
    "    ds = ds.map(mapping,num_parallel_calls=tf.data.AUTOTUNE)\n",
    "\n",
    "    for img, path in tqdm.tqdm(tfds.as_numpy(ds)):\n",
    "        \n",
    "        tf.keras.utils.save_img(path_out + path.decode(\"utf-8\") + \".jpg\", img)"
   ]
  },
  {
   "cell_type": "code",
   "execution_count": 28,
   "metadata": {},
   "outputs": [
    {
     "name": "stderr",
     "output_type": "stream",
     "text": [
      "100%|██████████| 870/870 [00:03<00:00, 237.32it/s]\n",
      "100%|██████████| 1608/1608 [00:06<00:00, 230.59it/s]\n"
     ]
    }
   ],
   "source": [
    "# copy_data(df[mask],f\"Relabeled_Test_DS/Night/\")\n",
    "# copy_data(df[np.logical_not(mask)],f\"Relabeled_Test_DS/Day/\")"
   ]
  },
  {
   "cell_type": "code",
   "execution_count": 39,
   "metadata": {},
   "outputs": [],
   "source": [
    "import os\n",
    "data = dict()\n",
    "\n",
    "for i in os.listdir(\"Relabeled_Test_DS/Night\"):\n",
    "    data[i[:-4]]=\"Night\"\n",
    "\n",
    "for i in os.listdir(\"Relabeled_Test_DS/Day\"):\n",
    "    data[i[:-4]]=\"Day\"\n",
    "\n",
    "\n",
    "df = pd.DataFrame(data.values(),index=data.keys(),columns=[\"Label\"]).to_csv(\"Relabeled_Test_DS/cleaned_data.csv\")"
   ]
  },
  {
   "cell_type": "code",
   "execution_count": null,
   "metadata": {},
   "outputs": [],
   "source": []
  }
 ],
 "metadata": {
  "kernelspec": {
   "display_name": "Python 3.10.4 ('r')",
   "language": "python",
   "name": "python3"
  },
  "language_info": {
   "codemirror_mode": {
    "name": "ipython",
    "version": 3
   },
   "file_extension": ".py",
   "mimetype": "text/x-python",
   "name": "python",
   "nbconvert_exporter": "python",
   "pygments_lexer": "ipython3",
   "version": "3.10.4"
  },
  "orig_nbformat": 4,
  "vscode": {
   "interpreter": {
    "hash": "2b1fae9b4f84de5a0151293b92063dea66447e44ce8e797ae8cc1ec46d1c2819"
   }
  }
 },
 "nbformat": 4,
 "nbformat_minor": 2
}
