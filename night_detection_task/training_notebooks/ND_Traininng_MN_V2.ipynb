{
  "nbformat": 4,
  "nbformat_minor": 0,
  "metadata": {
    "colab": {
      "name": "ND_Traininng_MN_V2.ipynb",
      "provenance": [],
      "collapsed_sections": [],
      "authorship_tag": "ABX9TyPchHgjiQxbsyPp5/sGBq9C",
      "include_colab_link": true
    },
    "kernelspec": {
      "name": "python3",
      "display_name": "Python 3"
    },
    "language_info": {
      "name": "python"
    },
    "accelerator": "GPU",
    "gpuClass": "standard"
  },
  "cells": [
    {
      "cell_type": "markdown",
      "metadata": {
        "id": "view-in-github",
        "colab_type": "text"
      },
      "source": [
        "<a href=\"https://colab.research.google.com/github/MockaWolke/Deep_Places/blob/master/ND_Traininng_MN_V2.ipynb\" target=\"_parent\"><img src=\"https://colab.research.google.com/assets/colab-badge.svg\" alt=\"Open In Colab\"/></a>"
      ]
    },
    {
      "cell_type": "code",
      "execution_count": 1,
      "metadata": {
        "colab": {
          "base_uri": "https://localhost:8080/"
        },
        "id": "E5wMo4CX9J4a",
        "outputId": "99f11501-191a-4f2f-d273-a5f0ccea3309"
      },
      "outputs": [
        {
          "output_type": "stream",
          "name": "stdout",
          "text": [
            "Cloning into 'Deep_Places'...\n",
            "remote: Enumerating objects: 134, done.\u001b[K\n",
            "remote: Counting objects: 100% (44/44), done.\u001b[K\n",
            "remote: Compressing objects: 100% (35/35), done.\u001b[K\n",
            "remote: Total 134 (delta 11), reused 37 (delta 9), pack-reused 90\u001b[K\n",
            "Receiving objects: 100% (134/134), 101.57 MiB | 16.80 MiB/s, done.\n",
            "Resolving deltas: 100% (30/30), done.\n",
            "Checking out files: 100% (72/72), done.\n",
            "Mounted at /content/drive\n"
          ]
        }
      ],
      "source": [
        "!git clone https://github.com/MockaWolke/Deep_Places.git\n",
        "from google.colab import drive\n",
        "drive.mount('/content/drive')\n",
        "!cp drive/MyDrive/UAL/ND_Data.zip ND_Data.zip \n",
        "!unzip -q ND_Data.zip -d Deep_Places\n",
        "!rm  ND_Data.zip\n",
        "!mkdir Deep_Places/model_info\n",
        "!mkdir Deep_Places/model_info/logs\n",
        "!mkdir Deep_Places/model_info/weights\n",
        "!mkdir Deep_Places/model_info/models\n",
        "\n",
        "import tensorflow as tf\n",
        "import pandas as pd\n",
        "import numpy as np\n",
        "import tensorflow_datasets as tfds\n",
        "import os\n",
        "os.chdir(\"Deep_Places\")\n",
        "import ds_generator\n",
        "import models\n",
        "import plotting"
      ]
    },
    {
      "cell_type": "code",
      "source": [
        "df = pd.read_csv(\"ND_Data/data.csv\",index_col = 0)\n",
        "train_df = df.loc[df[\"ds_type\"]==\"train\"]\n",
        "val_df = df.loc[df[\"ds_type\"]==\"val\"]"
      ],
      "metadata": {
        "id": "lgtlts1B_Ht_"
      },
      "execution_count": 2,
      "outputs": []
    },
    {
      "cell_type": "code",
      "source": [
        "df.head()"
      ],
      "metadata": {
        "colab": {
          "base_uri": "https://localhost:8080/",
          "height": 206
        },
        "id": "ldECfJvZ_aDp",
        "outputId": "20731963-6253-458c-f43a-3449377d1379"
      },
      "execution_count": 3,
      "outputs": [
        {
          "output_type": "execute_result",
          "data": {
            "text/plain": [
              "                      key        easting      northing view_direction  \\\n",
              "0  08X75PE9Ij8oqD9SH2GJZw  415481.066516  6.188003e+06        Forward   \n",
              "1  sf9VFjm2v6Apae8ASW3MTA  330192.964011 -4.197296e+06        Forward   \n",
              "2  CrIzVu-uN3Ri8R30Exjo_g  623775.788294  5.804146e+06        Forward   \n",
              "3  tWUUxtJHfAvnGkD4wGzn2Q  411252.605886  3.716269e+06        Forward   \n",
              "4  rJ91PhdsaVVVYSUDWpiQhg  382706.691773  6.671440e+06        Forward   \n",
              "\n",
              "             sequence_key                                      Path  \\\n",
              "0  qqbnlmi5l2fv5z7ktpxqa0     Places_Data/train_val/moscow/database   \n",
              "1  ppvzgiujnoc1eoeyi2j1zk     Places_Data/train_val/melbourne/query   \n",
              "2  E7PW3VQOLaw2vS44WjULkw  Places_Data/train_val/amsterdam/database   \n",
              "3  ZWzBdDt6Rqu3obfFvHOdEA    Places_Data/train_val/phoenix/database   \n",
              "4  qVzgSOt-Be6mKEy_zVAomw   Places_Data/train_val/helsinki/database   \n",
              "\n",
              "        City night_name ds_type  \n",
              "0     moscow      Night   train  \n",
              "1  melbourne        Day   train  \n",
              "2  amsterdam        Day   train  \n",
              "3    phoenix        Day   train  \n",
              "4   helsinki        Day   train  "
            ],
            "text/html": [
              "\n",
              "  <div id=\"df-027f5999-c5e5-4c1d-9584-49094330be0b\">\n",
              "    <div class=\"colab-df-container\">\n",
              "      <div>\n",
              "<style scoped>\n",
              "    .dataframe tbody tr th:only-of-type {\n",
              "        vertical-align: middle;\n",
              "    }\n",
              "\n",
              "    .dataframe tbody tr th {\n",
              "        vertical-align: top;\n",
              "    }\n",
              "\n",
              "    .dataframe thead th {\n",
              "        text-align: right;\n",
              "    }\n",
              "</style>\n",
              "<table border=\"1\" class=\"dataframe\">\n",
              "  <thead>\n",
              "    <tr style=\"text-align: right;\">\n",
              "      <th></th>\n",
              "      <th>key</th>\n",
              "      <th>easting</th>\n",
              "      <th>northing</th>\n",
              "      <th>view_direction</th>\n",
              "      <th>sequence_key</th>\n",
              "      <th>Path</th>\n",
              "      <th>City</th>\n",
              "      <th>night_name</th>\n",
              "      <th>ds_type</th>\n",
              "    </tr>\n",
              "  </thead>\n",
              "  <tbody>\n",
              "    <tr>\n",
              "      <th>0</th>\n",
              "      <td>08X75PE9Ij8oqD9SH2GJZw</td>\n",
              "      <td>415481.066516</td>\n",
              "      <td>6.188003e+06</td>\n",
              "      <td>Forward</td>\n",
              "      <td>qqbnlmi5l2fv5z7ktpxqa0</td>\n",
              "      <td>Places_Data/train_val/moscow/database</td>\n",
              "      <td>moscow</td>\n",
              "      <td>Night</td>\n",
              "      <td>train</td>\n",
              "    </tr>\n",
              "    <tr>\n",
              "      <th>1</th>\n",
              "      <td>sf9VFjm2v6Apae8ASW3MTA</td>\n",
              "      <td>330192.964011</td>\n",
              "      <td>-4.197296e+06</td>\n",
              "      <td>Forward</td>\n",
              "      <td>ppvzgiujnoc1eoeyi2j1zk</td>\n",
              "      <td>Places_Data/train_val/melbourne/query</td>\n",
              "      <td>melbourne</td>\n",
              "      <td>Day</td>\n",
              "      <td>train</td>\n",
              "    </tr>\n",
              "    <tr>\n",
              "      <th>2</th>\n",
              "      <td>CrIzVu-uN3Ri8R30Exjo_g</td>\n",
              "      <td>623775.788294</td>\n",
              "      <td>5.804146e+06</td>\n",
              "      <td>Forward</td>\n",
              "      <td>E7PW3VQOLaw2vS44WjULkw</td>\n",
              "      <td>Places_Data/train_val/amsterdam/database</td>\n",
              "      <td>amsterdam</td>\n",
              "      <td>Day</td>\n",
              "      <td>train</td>\n",
              "    </tr>\n",
              "    <tr>\n",
              "      <th>3</th>\n",
              "      <td>tWUUxtJHfAvnGkD4wGzn2Q</td>\n",
              "      <td>411252.605886</td>\n",
              "      <td>3.716269e+06</td>\n",
              "      <td>Forward</td>\n",
              "      <td>ZWzBdDt6Rqu3obfFvHOdEA</td>\n",
              "      <td>Places_Data/train_val/phoenix/database</td>\n",
              "      <td>phoenix</td>\n",
              "      <td>Day</td>\n",
              "      <td>train</td>\n",
              "    </tr>\n",
              "    <tr>\n",
              "      <th>4</th>\n",
              "      <td>rJ91PhdsaVVVYSUDWpiQhg</td>\n",
              "      <td>382706.691773</td>\n",
              "      <td>6.671440e+06</td>\n",
              "      <td>Forward</td>\n",
              "      <td>qVzgSOt-Be6mKEy_zVAomw</td>\n",
              "      <td>Places_Data/train_val/helsinki/database</td>\n",
              "      <td>helsinki</td>\n",
              "      <td>Day</td>\n",
              "      <td>train</td>\n",
              "    </tr>\n",
              "  </tbody>\n",
              "</table>\n",
              "</div>\n",
              "      <button class=\"colab-df-convert\" onclick=\"convertToInteractive('df-027f5999-c5e5-4c1d-9584-49094330be0b')\"\n",
              "              title=\"Convert this dataframe to an interactive table.\"\n",
              "              style=\"display:none;\">\n",
              "        \n",
              "  <svg xmlns=\"http://www.w3.org/2000/svg\" height=\"24px\"viewBox=\"0 0 24 24\"\n",
              "       width=\"24px\">\n",
              "    <path d=\"M0 0h24v24H0V0z\" fill=\"none\"/>\n",
              "    <path d=\"M18.56 5.44l.94 2.06.94-2.06 2.06-.94-2.06-.94-.94-2.06-.94 2.06-2.06.94zm-11 1L8.5 8.5l.94-2.06 2.06-.94-2.06-.94L8.5 2.5l-.94 2.06-2.06.94zm10 10l.94 2.06.94-2.06 2.06-.94-2.06-.94-.94-2.06-.94 2.06-2.06.94z\"/><path d=\"M17.41 7.96l-1.37-1.37c-.4-.4-.92-.59-1.43-.59-.52 0-1.04.2-1.43.59L10.3 9.45l-7.72 7.72c-.78.78-.78 2.05 0 2.83L4 21.41c.39.39.9.59 1.41.59.51 0 1.02-.2 1.41-.59l7.78-7.78 2.81-2.81c.8-.78.8-2.07 0-2.86zM5.41 20L4 18.59l7.72-7.72 1.47 1.35L5.41 20z\"/>\n",
              "  </svg>\n",
              "      </button>\n",
              "      \n",
              "  <style>\n",
              "    .colab-df-container {\n",
              "      display:flex;\n",
              "      flex-wrap:wrap;\n",
              "      gap: 12px;\n",
              "    }\n",
              "\n",
              "    .colab-df-convert {\n",
              "      background-color: #E8F0FE;\n",
              "      border: none;\n",
              "      border-radius: 50%;\n",
              "      cursor: pointer;\n",
              "      display: none;\n",
              "      fill: #1967D2;\n",
              "      height: 32px;\n",
              "      padding: 0 0 0 0;\n",
              "      width: 32px;\n",
              "    }\n",
              "\n",
              "    .colab-df-convert:hover {\n",
              "      background-color: #E2EBFA;\n",
              "      box-shadow: 0px 1px 2px rgba(60, 64, 67, 0.3), 0px 1px 3px 1px rgba(60, 64, 67, 0.15);\n",
              "      fill: #174EA6;\n",
              "    }\n",
              "\n",
              "    [theme=dark] .colab-df-convert {\n",
              "      background-color: #3B4455;\n",
              "      fill: #D2E3FC;\n",
              "    }\n",
              "\n",
              "    [theme=dark] .colab-df-convert:hover {\n",
              "      background-color: #434B5C;\n",
              "      box-shadow: 0px 1px 3px 1px rgba(0, 0, 0, 0.15);\n",
              "      filter: drop-shadow(0px 1px 2px rgba(0, 0, 0, 0.3));\n",
              "      fill: #FFFFFF;\n",
              "    }\n",
              "  </style>\n",
              "\n",
              "      <script>\n",
              "        const buttonEl =\n",
              "          document.querySelector('#df-027f5999-c5e5-4c1d-9584-49094330be0b button.colab-df-convert');\n",
              "        buttonEl.style.display =\n",
              "          google.colab.kernel.accessAllowed ? 'block' : 'none';\n",
              "\n",
              "        async function convertToInteractive(key) {\n",
              "          const element = document.querySelector('#df-027f5999-c5e5-4c1d-9584-49094330be0b');\n",
              "          const dataTable =\n",
              "            await google.colab.kernel.invokeFunction('convertToInteractive',\n",
              "                                                     [key], {});\n",
              "          if (!dataTable) return;\n",
              "\n",
              "          const docLinkHtml = 'Like what you see? Visit the ' +\n",
              "            '<a target=\"_blank\" href=https://colab.research.google.com/notebooks/data_table.ipynb>data table notebook</a>'\n",
              "            + ' to learn more about interactive tables.';\n",
              "          element.innerHTML = '';\n",
              "          dataTable['output_type'] = 'display_data';\n",
              "          await google.colab.output.renderOutput(dataTable, element);\n",
              "          const docLink = document.createElement('div');\n",
              "          docLink.innerHTML = docLinkHtml;\n",
              "          element.appendChild(docLink);\n",
              "        }\n",
              "      </script>\n",
              "    </div>\n",
              "  </div>\n",
              "  "
            ]
          },
          "metadata": {},
          "execution_count": 3
        }
      ]
    },
    {
      "cell_type": "code",
      "source": [
        "\"\"\"\n",
        "Generate tf Datasets for training\n",
        "\"\"\"\n",
        "\n",
        "import pandas as pd\n",
        "import numpy as np\n",
        "import tensorflow as tf\n",
        "import tensorflow_datasets as tfds\n",
        "\n",
        "label_dict = {\"Night\":1, \"Day\":0}\n",
        "batch_size = 64\n",
        "\n",
        "def mapping(path,label):\n",
        "\n",
        "    image = tf.io.read_file(path)\n",
        "    image = tf.cast(tf.io.decode_jpeg(image, channels=3),tf.float32)/ 127.5 -1\n",
        "    label = tf.one_hot(label,2)\n",
        "    return image, label\n",
        "\n",
        "\n",
        "\n",
        "def get_ds(df, kind = \"train\"): \n",
        "\n",
        "    path = f\"ND_Data/{kind}/\"\n",
        "    imgs = df[\"key\"] + \".jpg\"\n",
        "\n",
        "    #assert all([img in os.listdir(path) for img in imgs]), \"Immage not found\"\n",
        "\n",
        "    image_paths = path + imgs\n",
        "\n",
        "    labels = df[\"night_name\"].map(label_dict)\n",
        "\n",
        "    ds = tf.data.Dataset.from_tensor_slices((image_paths,labels))\n",
        "\n",
        "    ds = ds.map(mapping)\n",
        "    ds = ds.batch(batch_size=batch_size, drop_remainder=True)\n",
        "    ds = ds.prefetch(tf.data.AUTOTUNE)\n",
        "\n",
        "    return ds\n",
        "\n",
        "\n",
        "def get_train_and_val():\n",
        "\n",
        "    train_ds = get_ds(train_df,kind=\"train\")\n",
        "    val_ds = get_ds(val_df,kind=\"val\")\n",
        "\n",
        "    return train_ds,val_ds\n",
        "\n",
        "\n",
        "train_ds, val_ds = get_train_and_val()"
      ],
      "metadata": {
        "id": "Qt0JuCyG_ZX6"
      },
      "execution_count": 4,
      "outputs": []
    },
    {
      "cell_type": "code",
      "source": [
        "import tensorflow.keras.layers as layers\n",
        "\n",
        "# some img_augmentation\n",
        "img_augmentation = tf.keras.models.Sequential(\n",
        "    [\n",
        "        tf.keras.layers.RandomRotation(factor=0.15),\n",
        "        tf.keras.layers.RandomTranslation(height_factor=0.1, width_factor=0.1),\n",
        "        tf.keras.layers.RandomFlip(mode=\"horizontal\"),\n",
        "        tf.keras.layers.RandomContrast(factor=0.1),\n",
        "    ],\n",
        "    name=\"img_augmentation\",\n",
        ")\n",
        "\n",
        "def transfer_model(number_classes,loss,architecture = tf.keras.applications.efficientnet.EfficientNetB2,name=None):\n",
        "\n",
        "    inputs = tf.keras.Input([260,260,3])\n",
        "    x = tf.keras.layers.Resizing(224,224)(inputs)\n",
        "\n",
        "    x = img_augmentation(x) # apply image augmentaion\n",
        "\n",
        "    print(x.shape)\n",
        "\n",
        "    model = architecture(\n",
        "        include_top=False,\n",
        "        weights='imagenet',\n",
        "        input_tensor= x)\n",
        "\n",
        "    # Freeze the pretrained weights\n",
        "    model.trainable = False\n",
        "\n",
        "    # Rebuild top\n",
        "    x = layers.GlobalAveragePooling2D(name=\"avg_pool\")(model.output)\n",
        "    x = layers.BatchNormalization()(x)\n",
        "\n",
        "    top_dropout_rate = 0.2\n",
        "    x = layers.Dropout(top_dropout_rate, name=\"top_dropout\")(x)\n",
        "    outputs = layers.Dense(number_classes, activation=\"softmax\", name=\"pred\",kernel_regularizer=tf.keras.regularizers.L2())(x)\n",
        "\n",
        "    # Compile\n",
        "    model = tf.keras.Model(inputs, outputs, name=name)\n",
        "\n",
        "    return model\n"
      ],
      "metadata": {
        "id": "XLy1bknGJ_ro"
      },
      "execution_count": 16,
      "outputs": []
    },
    {
      "cell_type": "code",
      "source": [
        "# model = models.transfer_model(2,\"binary_entropy\",architecture = tf.keras.applications.MobileNetV2,name=\"MNV2_F\")\n",
        "model = transfer_model(2,\"binary_entropy\",architecture = tf.keras.applications.MobileNetV2,name=\"MNV2_F\")\n",
        "model.compile(optimizer=tf.keras.optimizers.Adam(0.001),loss=tf.keras.losses.BinaryCrossentropy(),metrics=[\"accuracy\"])"
      ],
      "metadata": {
        "colab": {
          "base_uri": "https://localhost:8080/"
        },
        "id": "9qL3C0rN_yVJ",
        "outputId": "a9848c78-4948-4b9f-ee2a-9d5362c87dd4"
      },
      "execution_count": 17,
      "outputs": [
        {
          "output_type": "stream",
          "name": "stdout",
          "text": [
            "(None, 224, 224, 3)\n",
            "WARNING:tensorflow:`input_shape` is undefined or non-square, or `rows` is not in [96, 128, 160, 192, 224]. Weights for input shape (224, 224) will be loaded as the default.\n"
          ]
        }
      ]
    },
    {
      "cell_type": "code",
      "source": [
        "log_dir = f\"model_info/logs/\" + model.name \n",
        "checkpoint_path = f\"model_info/weights/{model.name}/\"\n",
        "last_model = f\"model_info/models/{model.name}\"\n",
        "\n",
        "os.makedirs(log_dir)\n",
        "os.makedirs(checkpoint_path)\n",
        "os.makedirs(last_model)\n",
        "\n",
        "tensorboard_callback = tf.keras.callbacks.TensorBoard(log_dir=log_dir)\n",
        "\n",
        "cp_callback = tf.keras.callbacks.ModelCheckpoint(\n",
        "    filepath=checkpoint_path+ \"weights\",\n",
        "    verbose=1,\n",
        "    monitor='val_accuracy',\n",
        "    save_weights_only=True,\n",
        "    save_best_only=True)\n",
        "\n",
        "early_stopping_callback = tf.keras.callbacks.EarlyStopping(\n",
        "    monitor='val_accuracy',\n",
        "    min_delta=0.02,\n",
        "    patience=4,\n",
        "    verbose=1,\n",
        "    mode='auto',\n",
        "    restore_best_weights=True\n",
        ") "
      ],
      "metadata": {
        "id": "yMO4IWtsA26a"
      },
      "execution_count": 18,
      "outputs": []
    },
    {
      "cell_type": "code",
      "source": [
        "hist = model.fit(train_ds, epochs=5, validation_data=val_ds,callbacks=[tensorboard_callback,cp_callback,early_stopping_callback])"
      ],
      "metadata": {
        "colab": {
          "base_uri": "https://localhost:8080/"
        },
        "id": "7wxjhNPfA-vh",
        "outputId": "54f6d1bd-1040-4f8c-8853-7f6f4bddd5fd"
      },
      "execution_count": 19,
      "outputs": [
        {
          "output_type": "stream",
          "name": "stdout",
          "text": [
            "Epoch 1/5\n",
            "347/347 [==============================] - ETA: 0s - loss: 0.1191 - accuracy: 0.9785\n",
            "Epoch 1: val_accuracy improved from -inf to 0.89087, saving model to model_info/weights/MNV2_F/weights\n",
            "347/347 [==============================] - 49s 100ms/step - loss: 0.1191 - accuracy: 0.9785 - val_loss: 0.2686 - val_accuracy: 0.8909\n",
            "Epoch 2/5\n",
            "347/347 [==============================] - ETA: 0s - loss: 0.0663 - accuracy: 0.9888\n",
            "Epoch 2: val_accuracy improved from 0.89087 to 0.92560, saving model to model_info/weights/MNV2_F/weights\n",
            "347/347 [==============================] - 36s 103ms/step - loss: 0.0663 - accuracy: 0.9888 - val_loss: 0.2075 - val_accuracy: 0.9256\n",
            "Epoch 3/5\n",
            "347/347 [==============================] - ETA: 0s - loss: 0.0592 - accuracy: 0.9885\n",
            "Epoch 3: val_accuracy did not improve from 0.92560\n",
            "347/347 [==============================] - 34s 98ms/step - loss: 0.0592 - accuracy: 0.9885 - val_loss: 0.2226 - val_accuracy: 0.9209\n",
            "Epoch 4/5\n",
            "347/347 [==============================] - ETA: 0s - loss: 0.0572 - accuracy: 0.9889\n",
            "Epoch 4: val_accuracy did not improve from 0.92560\n",
            "347/347 [==============================] - 34s 99ms/step - loss: 0.0572 - accuracy: 0.9889 - val_loss: 0.2084 - val_accuracy: 0.9246\n",
            "Epoch 5/5\n",
            "347/347 [==============================] - ETA: 0s - loss: 0.0555 - accuracy: 0.9894\n",
            "Epoch 5: val_accuracy improved from 0.92560 to 0.93279, saving model to model_info/weights/MNV2_F/weights\n",
            "347/347 [==============================] - 34s 98ms/step - loss: 0.0555 - accuracy: 0.9894 - val_loss: 0.1993 - val_accuracy: 0.9328\n"
          ]
        }
      ]
    },
    {
      "cell_type": "code",
      "source": [
        "model = models.unfreeze_model(model,n_layers = 54)\n",
        "model._name = \"MNV2_A\"\n",
        "model.compile(optimizer=tf.keras.optimizers.Adam(0.001),loss=tf.keras.losses.BinaryCrossentropy(),metrics=[\"accuracy\"])"
      ],
      "metadata": {
        "id": "nij_w1P1GLHD"
      },
      "execution_count": 20,
      "outputs": []
    },
    {
      "cell_type": "code",
      "source": [
        "log_dir = f\"model_info/logs/\" + model.name \n",
        "checkpoint_path = f\"model_info/weights/{model.name}/\"\n",
        "last_model = f\"model_info/models/{model.name}\"\n",
        "\n",
        "os.makedirs(log_dir)\n",
        "os.makedirs(checkpoint_path)\n",
        "os.makedirs(last_model)\n",
        "\n",
        "tensorboard_callback = tf.keras.callbacks.TensorBoard(log_dir=log_dir)\n",
        "\n",
        "cp_callback = tf.keras.callbacks.ModelCheckpoint(\n",
        "    filepath=checkpoint_path+ \"weights\",\n",
        "    verbose=1,\n",
        "    monitor='val_accuracy',\n",
        "    save_weights_only=True,\n",
        "    save_best_only=True)\n",
        "\n",
        "early_stopping_callback = tf.keras.callbacks.EarlyStopping(\n",
        "    monitor='val_accuracy',\n",
        "    min_delta=0.02,\n",
        "    patience=4,\n",
        "    verbose=1,\n",
        "    mode='auto',\n",
        "    restore_best_weights=True\n",
        ") "
      ],
      "metadata": {
        "id": "YcxCOMmpMD6S"
      },
      "execution_count": 21,
      "outputs": []
    },
    {
      "cell_type": "code",
      "source": [
        "hist_a = model.fit(train_ds, epochs=15, validation_data=val_ds,callbacks=[tensorboard_callback,cp_callback,early_stopping_callback],initial_epoch = 5)"
      ],
      "metadata": {
        "colab": {
          "base_uri": "https://localhost:8080/"
        },
        "id": "b-QK9mDVMG4U",
        "outputId": "0fd27d0c-7269-4991-e65f-ccd02bb8f76a"
      },
      "execution_count": 22,
      "outputs": [
        {
          "output_type": "stream",
          "name": "stdout",
          "text": [
            "Epoch 6/15\n",
            "347/347 [==============================] - ETA: 0s - loss: 0.0818 - accuracy: 0.9863\n",
            "Epoch 6: val_accuracy improved from -inf to 0.62029, saving model to model_info/weights/MNV2_A/weights\n",
            "347/347 [==============================] - 54s 135ms/step - loss: 0.0818 - accuracy: 0.9863 - val_loss: 13.4428 - val_accuracy: 0.6203\n",
            "Epoch 7/15\n",
            "347/347 [==============================] - ETA: 0s - loss: 0.0721 - accuracy: 0.9888\n",
            "Epoch 7: val_accuracy did not improve from 0.62029\n",
            "347/347 [==============================] - 42s 120ms/step - loss: 0.0721 - accuracy: 0.9888 - val_loss: 8.4943 - val_accuracy: 0.3797\n",
            "Epoch 8/15\n",
            "347/347 [==============================] - ETA: 0s - loss: 0.1058 - accuracy: 0.9842\n",
            "Epoch 8: val_accuracy did not improve from 0.62029\n",
            "347/347 [==============================] - 43s 124ms/step - loss: 0.1058 - accuracy: 0.9842 - val_loss: 19.1680 - val_accuracy: 0.3797\n",
            "Epoch 9/15\n",
            "347/347 [==============================] - ETA: 0s - loss: 0.3656 - accuracy: 0.8487\n",
            "Epoch 9: val_accuracy did not improve from 0.62029\n",
            "347/347 [==============================] - 42s 122ms/step - loss: 0.3656 - accuracy: 0.8487 - val_loss: 85.5223 - val_accuracy: 0.6203\n",
            "Epoch 10/15\n",
            "347/347 [==============================] - ETA: 0s - loss: 0.6808 - accuracy: 0.6314\n",
            "Epoch 10: val_accuracy did not improve from 0.62029\n",
            "Restoring model weights from the end of the best epoch: 6.\n",
            "347/347 [==============================] - 43s 124ms/step - loss: 0.6808 - accuracy: 0.6314 - val_loss: 2.4909 - val_accuracy: 0.6203\n",
            "Epoch 10: early stopping\n"
          ]
        }
      ]
    },
    {
      "cell_type": "code",
      "source": [
        "import matplotlib.pyplot as plt\n",
        "acc = hist.history['accuracy']\n",
        "val_acc = hist.history['val_accuracy']\n",
        "\n",
        "loss = hist.history['loss']\n",
        "val_loss = hist.history['val_loss']\n",
        "\n",
        "plt.figure(figsize=(8, 8))\n",
        "plt.subplot(2, 1, 1)\n",
        "plt.plot(acc, label='Training Accuracy')\n",
        "plt.plot(val_acc, label='Validation Accuracy')\n",
        "plt.legend(loc='lower right')\n",
        "plt.ylabel('Accuracy')\n",
        "plt.ylim([min(plt.ylim()),1])\n",
        "plt.title('Training and Validation Accuracy')\n",
        "\n",
        "plt.subplot(2, 1, 2)\n",
        "plt.plot(loss, label='Training Loss')\n",
        "plt.plot(val_loss, label='Validation Loss')\n",
        "plt.legend(loc='upper right')\n",
        "plt.ylabel('Cross Entropy')\n",
        "plt.ylim([0,1.0])\n",
        "plt.title('Training and Validation Loss')\n",
        "plt.xlabel('epoch')\n",
        "plt.show()"
      ],
      "metadata": {
        "colab": {
          "base_uri": "https://localhost:8080/",
          "height": 513
        },
        "id": "0qIh9LRVOheg",
        "outputId": "b2bd4bda-599e-4791-d324-b3ec073542f6"
      },
      "execution_count": 26,
      "outputs": [
        {
          "output_type": "display_data",
          "data": {
            "text/plain": [
              "<Figure size 576x576 with 2 Axes>"
            ],
            "image/png": "[encoded data removed]"
          },
          "metadata": {
            "needs_background": "light"
          }
        }
      ]
    },
    {
      "cell_type": "code",
      "source": [
        "acc += hist_a.history['accuracy']\n",
        "val_acc += hist_a.history['val_accuracy']\n",
        "\n",
        "loss += hist_a.history['loss']\n",
        "val_loss += hist_a.history['val_loss']\n",
        "\n",
        "initial_epochs = 5\n",
        "\n",
        "plt.figure(figsize=(8, 8))\n",
        "plt.subplot(2, 1, 1)\n",
        "plt.plot(acc, label='Training Accuracy')\n",
        "plt.plot(val_acc, label='Validation Accuracy')\n",
        "plt.plot([initial_epochs-1,initial_epochs-1],\n",
        "          plt.ylim(), label='Start Fine Tuning')\n",
        "plt.legend(loc='lower right')\n",
        "plt.title('Training and Validation Accuracy')\n",
        "\n",
        "plt.subplot(2, 1, 2)\n",
        "plt.plot(loss, label='Training Loss')\n",
        "plt.plot(val_loss, label='Validation Loss')\n",
        "plt.ylim([0, 1.0])\n",
        "plt.plot([initial_epochs-1,initial_epochs-1],\n",
        "         plt.ylim(), label='Start Fine Tuning')\n",
        "plt.legend(loc='upper right')\n",
        "plt.title('Training and Validation Loss')\n",
        "plt.xlabel('epoch')\n",
        "plt.show()"
      ],
      "metadata": {
        "colab": {
          "base_uri": "https://localhost:8080/",
          "height": 513
        },
        "id": "-lrNqk0qOCPY",
        "outputId": "035f97e4-fb42-44e4-f814-6879a8cb83cb"
      },
      "execution_count": 30,
      "outputs": [
        {
          "output_type": "display_data",
          "data": {
            "text/plain": [
              "<Figure size 576x576 with 2 Axes>"
            ],
            "image/png": "[encoded data removed]"
          },
          "metadata": {
            "needs_background": "light"
          }
        }
      ]
    },
    {
      "cell_type": "code",
      "source": [
        "cp -r model_info ../drive/MyDrive/UAL/model_info"
      ],
      "metadata": {
        "id": "GOWudJzNP4ru"
      },
      "execution_count": 36,
      "outputs": []
    },
    {
      "cell_type": "code",
      "source": [
        "ls model_info "
      ],
      "metadata": {
        "colab": {
          "base_uri": "https://localhost:8080/"
        },
        "id": "UImyHE6YP01X",
        "outputId": "de27ff56-b01e-408f-b143-6c47458462f6"
      },
      "execution_count": 33,
      "outputs": [
        {
          "output_type": "stream",
          "name": "stdout",
          "text": [
            "ls: cannot access '../drive/MyDrive/UAL/model_info': No such file or directory\n",
            "model_info:\n",
            "\u001b[0m\u001b[01;34mlogs\u001b[0m/  \u001b[01;34mmodels\u001b[0m/  \u001b[01;34mweights\u001b[0m/\n"
          ]
        }
      ]
    }
  ]
}