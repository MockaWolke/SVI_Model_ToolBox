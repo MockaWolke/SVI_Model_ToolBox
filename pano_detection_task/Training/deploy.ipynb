{
 "cells": [
  {
   "cell_type": "code",
   "execution_count": 2,
   "metadata": {},
   "outputs": [],
   "source": [
    "import tensorflow as tf\n",
    "import pano_generator\n",
    "\n",
    "model = tf.keras.models.load_model(\"../final_model_without_aug/\")\n"
   ]
  },
  {
   "cell_type": "code",
   "execution_count": 7,
   "metadata": {},
   "outputs": [],
   "source": [
    "inputs = tf.keras.Input([260,260,3])\n",
    "output = model(inputs)[:,1]\n",
    "new = tf.keras.Model(inputs, output, name=\"Pano\")\n",
    "new.compile('Adam',loss=tf.keras.losses.BinaryCrossentropy(),metrics=['accuracy'])"
   ]
  },
  {
   "cell_type": "code",
   "execution_count": 10,
   "metadata": {},
   "outputs": [],
   "source": [
    "train_df,val_df,df = pano_generator.get_csv()\n",
    "\n",
    "def mapping(path,label):\n",
    "\n",
    "    image = tf.io.read_file(path)\n",
    "    image = tf.io.decode_jpeg(image, channels=3)\n",
    "    return image, label\n",
    "\n",
    "path = f\"../Pano_Data/test/\"\n",
    "imgs = df[\"key\"] + \".jpg\"\n",
    "\n",
    "image_paths = path + imgs\n",
    "\n",
    "labels = df[\"pano\"].apply(int)\n",
    "\n",
    "ds = tf.data.Dataset.from_tensor_slices((image_paths,labels))\n",
    "\n",
    "ds = ds.map(mapping)\n",
    "ds = ds.batch(batch_size=128)\n",
    "ds = ds.prefetch(tf.data.AUTOTUNE)"
   ]
  },
  {
   "cell_type": "code",
   "execution_count": 12,
   "metadata": {},
   "outputs": [],
   "source": [
    "preds = new.predict(ds)"
   ]
  },
  {
   "cell_type": "code",
   "execution_count": 16,
   "metadata": {},
   "outputs": [
    {
     "data": {
      "text/plain": [
       "0.9991697799916978"
      ]
     },
     "execution_count": 16,
     "metadata": {},
     "output_type": "execute_result"
    }
   ],
   "source": [
    "((df.pano == True) == (preds > 0.5)).mean()"
   ]
  },
  {
   "cell_type": "code",
   "execution_count": 17,
   "metadata": {},
   "outputs": [
    {
     "name": "stdout",
     "output_type": "stream",
     "text": [
      "INFO:tensorflow:Assets written to: ../deploy_model\\assets\n"
     ]
    }
   ],
   "source": [
    "new.save('../deploy_model')"
   ]
  }
 ],
 "metadata": {
  "kernelspec": {
   "display_name": "Python 3.10.5 ('felix')",
   "language": "python",
   "name": "python3"
  },
  "language_info": {
   "codemirror_mode": {
    "name": "ipython",
    "version": 3
   },
   "file_extension": ".py",
   "mimetype": "text/x-python",
   "name": "python",
   "nbconvert_exporter": "python",
   "pygments_lexer": "ipython3",
   "version": "3.10.5"
  },
  "orig_nbformat": 4,
  "vscode": {
   "interpreter": {
    "hash": "64aad402826e5067045a3f2545cdf45209700db649eac24e1eb71cad2d7c755c"
   }
  }
 },
 "nbformat": 4,
 "nbformat_minor": 2
}
