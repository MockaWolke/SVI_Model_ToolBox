{
 "cells": [
  {
   "cell_type": "code",
   "execution_count": 26,
   "metadata": {},
   "outputs": [],
   "source": [
    "import os \n",
    "\n",
    "import pandas as pd\n",
    "import numpy as np\n",
    "import tqdm\n",
    "\n",
    "import matplotlib.pyplot as plt\n",
    "from models import get_models\n",
    "from preprocessing import general_preprocessing, view_direction_preprocessing\n",
    "\n"
   ]
  },
  {
   "cell_type": "code",
   "execution_count": 27,
   "metadata": {},
   "outputs": [],
   "source": [
    "df = pd.read_csv(r\"C:\\Felix\\weather_dataset\\Student Labeled\\student_labelled.csv\")\n",
    "df[\"Weather\"] = df.Weather.replace({\"snowfall\":\"Snowy\",\"rainfall\":\"Rainy\",\"clear\":\"Clear\",\"cloudy\":\"Cloudy\"})\n",
    "df.loc[df.Cover == \"snow\",\"Weather\"] = \"Snowy\"\n",
    "df.loc[df.Cover == \"rain\",\"Weather\"] = \"Rainy\"\n",
    "df = df.loc[(df.Weather != 'unobservable') & (df.Lighting_Condition == \"day\")] \n",
    "df.value_counts(\"Weather\")\n",
    "\n",
    "df[\"path\"] = [os.path.join(r\"C:\\Felix\\weather_dataset\\Student Labeled\\images_renamed\",str(i))+\".jpeg\" for i in df.id]\n",
    "df = df.loc[df.path.apply(os.path.exists)]\n",
    "df[\"origin\"] = \"Student_samples\""
   ]
  },
  {
   "cell_type": "code",
   "execution_count": 28,
   "metadata": {},
   "outputs": [],
   "source": [
    "paths = [\n",
    "    (r\"C:\\Felix\\weather_dataset\\SSLAD-2D\\Clear\",'Clear',\"SSLAD-2D\"),\n",
    "    (r\"C:\\Felix\\weather_dataset\\SSLAD-2D\\Overcast\",'Cloudy',\"SSLAD-2D\"),\n",
    "    (r\"C:\\Felix\\weather_dataset\\SSLAD-2D\\Rainy\",'Rainy',\"SSLAD-2D\"),\n",
    "    (r\"C:\\Felix\\weather_dataset\\Raidar\\test\",\"Rainy\",\"Raidar\"),\n",
    "    (r\"C:\\Felix\\weather_dataset\\Raidar\\train\",\"Rainy\",\"Raidar\"),\n",
    "    (r\"C:\\Felix\\weather_dataset\\mapilar snow\\images\",\"Snowy\",\"Yujun-Mapilarly\"),\n",
    "    (r\"C:\\Felix\\weather_dataset\\Foggy Cityscapes\",\"Foggy\",\"Foggy Cityscapes\"),\n",
    "    (r\"C:\\Felix\\weather_dataset\\Duckduckgo\\fog\",\"Foggy\",\"Duckduckgo\"),\n",
    "    (r\"C:\\Felix\\weather_dataset\\Duckduckgo\\snow\",\"Snowy\",\"Duckduckgo\"),\n",
    "    (r\"C:\\Felix\\weather_dataset\\DAWN\\Rain\",\"Rainy\",\"Dawn\"),\n",
    "    (r\"C:\\Felix\\weather_dataset\\DAWN\\Snow\",\"Snowy\",\"Dawn\"),\n",
    "    (r\"C:\\Felix\\weather_dataset\\DAWN\\Fog\",\"Foggy\",\"Dawn\"),\n",
    "]\n",
    "\n",
    "erg = []\n",
    "\n",
    "for folder, weather, origin in paths:\n",
    "\n",
    "    for img in os.listdir(folder):\n",
    "        if \".jpg\" in img or \".jpeg\" in img:\n",
    "            erg.append((os.path.join(folder,img),weather,origin))   \n",
    "\n",
    "new = pd.DataFrame(erg,columns=[\"path\",\"weather\",\"origin\"])\n",
    "df = pd.concat([df[[\"path\",\"Weather\",\"origin\"]].rename(columns={\"Weather\":\"weather\"}),new])\n",
    "df.index = range(len(df))"
   ]
  },
  {
   "cell_type": "code",
   "execution_count": 29,
   "metadata": {},
   "outputs": [],
   "source": [
    "# ds = general_preprocessing.get_ds(df,64)\n",
    "\n",
    "# model = get_models.get_pano()\n",
    "# preds = model.predict(ds,verbose=1) > .5"
   ]
  },
  {
   "cell_type": "code",
   "execution_count": 30,
   "metadata": {},
   "outputs": [],
   "source": [
    "# tf.keras.backend.clear_session()\n",
    "# model = get_models.get_night_day()\n",
    "# night_preds = model.predict(ds,verbose=1) > .5\n",
    "# np.save(\"../weather_dataset/night_pred.npy\",night_preds)\n",
    "# np.save(\"../weather_dataset/pano_pred.npy\",preds)"
   ]
  },
  {
   "cell_type": "code",
   "execution_count": 31,
   "metadata": {},
   "outputs": [],
   "source": [
    "# out = r\"C:\\Felix\\weather_dataset\\night\"\n",
    "# import tqdm\n",
    "# night = df.loc[night_preds]\n",
    "# for i in tqdm.tqdm(range(len(night))):\n",
    "#     row = night.iloc[i]\n",
    "#     img = plt.imread(row.loc[\"path\"])\n",
    "#     plt.imshow(img)\n",
    "#     plt.savefig(os.path.join(out,f\"{i}_{row['origin']}\")+\".jpg\")\n",
    "#     plt.close()"
   ]
  },
  {
   "cell_type": "code",
   "execution_count": 32,
   "metadata": {},
   "outputs": [],
   "source": [
    "night_preds = np.load(\"../weather_dataset/night_pred.npy\")\n",
    "pano_preds = np.load(\"../weather_dataset/pano_pred.npy\")\n",
    "df = df.loc[(~pano_preds) & (~night_preds)]"
   ]
  },
  {
   "cell_type": "code",
   "execution_count": 33,
   "metadata": {},
   "outputs": [],
   "source": [
    "paths = [os.path.join(r'C:\\Felix\\weather_dataset\\clear',i) for i in os.listdir(r'C:\\Felix\\weather_dataset\\clear')]\n",
    "df.index = range(len(df))\n",
    "origin = [\"Student_samples\" for i in range(len(paths))]\n",
    "weather = [\"Clear\" for i in range(len(paths))]\n",
    "vals = list(zip(paths,weather,origin))\n",
    "df= pd.concat([df,pd.DataFrame(vals,columns=[\"path\",\"weather\",\"origin\"])])\n",
    "df.index = range(len(df))"
   ]
  },
  {
   "cell_type": "code",
   "execution_count": 34,
   "metadata": {},
   "outputs": [
    {
     "data": {
      "text/plain": [
       "origin            weather\n",
       "Raidar            Rainy      18212\n",
       "SSLAD-2D          Clear       9402\n",
       "Student_samples   Clear       5224\n",
       "SSLAD-2D          Cloudy      4453\n",
       "                  Rainy       2107\n",
       "Yujun-Mapilarly   Snowy       1963\n",
       "Duckduckgo        Snowy       1080\n",
       "                  Foggy       1008\n",
       "Dawn              Foggy        294\n",
       "Student_samples   Cloudy       264\n",
       "Dawn              Snowy        203\n",
       "                  Rainy        195\n",
       "Foggy Cityscapes  Foggy        101\n",
       "Student_samples   Snowy         29\n",
       "                  Rainy         10\n",
       "dtype: int64"
      ]
     },
     "execution_count": 34,
     "metadata": {},
     "output_type": "execute_result"
    }
   ],
   "source": [
    "df.value_counts([\"origin\",\"weather\"])"
   ]
  },
  {
   "cell_type": "code",
   "execution_count": 35,
   "metadata": {},
   "outputs": [
    {
     "data": {
      "text/html": [
       "<div>\n",
       "<style scoped>\n",
       "    .dataframe tbody tr th:only-of-type {\n",
       "        vertical-align: middle;\n",
       "    }\n",
       "\n",
       "    .dataframe tbody tr th {\n",
       "        vertical-align: top;\n",
       "    }\n",
       "\n",
       "    .dataframe thead th {\n",
       "        text-align: right;\n",
       "    }\n",
       "</style>\n",
       "<table border=\"1\" class=\"dataframe\">\n",
       "  <thead>\n",
       "    <tr style=\"text-align: right;\">\n",
       "      <th></th>\n",
       "      <th>path</th>\n",
       "      <th>weather</th>\n",
       "      <th>origin</th>\n",
       "      <th>ds_type</th>\n",
       "    </tr>\n",
       "  </thead>\n",
       "  <tbody>\n",
       "    <tr>\n",
       "      <th>0</th>\n",
       "      <td>C:\\Felix\\weather_dataset\\Student Labeled\\image...</td>\n",
       "      <td>Clear</td>\n",
       "      <td>Student_samples</td>\n",
       "      <td>test</td>\n",
       "    </tr>\n",
       "    <tr>\n",
       "      <th>21</th>\n",
       "      <td>C:\\Felix\\weather_dataset\\Student Labeled\\image...</td>\n",
       "      <td>Clear</td>\n",
       "      <td>Student_samples</td>\n",
       "      <td>test</td>\n",
       "    </tr>\n",
       "    <tr>\n",
       "      <th>24</th>\n",
       "      <td>C:\\Felix\\weather_dataset\\Student Labeled\\image...</td>\n",
       "      <td>Clear</td>\n",
       "      <td>Student_samples</td>\n",
       "      <td>test</td>\n",
       "    </tr>\n",
       "    <tr>\n",
       "      <th>25</th>\n",
       "      <td>C:\\Felix\\weather_dataset\\Student Labeled\\image...</td>\n",
       "      <td>Clear</td>\n",
       "      <td>Student_samples</td>\n",
       "      <td>test</td>\n",
       "    </tr>\n",
       "    <tr>\n",
       "      <th>63</th>\n",
       "      <td>C:\\Felix\\weather_dataset\\Student Labeled\\image...</td>\n",
       "      <td>Clear</td>\n",
       "      <td>Student_samples</td>\n",
       "      <td>test</td>\n",
       "    </tr>\n",
       "    <tr>\n",
       "      <th>...</th>\n",
       "      <td>...</td>\n",
       "      <td>...</td>\n",
       "      <td>...</td>\n",
       "      <td>...</td>\n",
       "    </tr>\n",
       "    <tr>\n",
       "      <th>37335</th>\n",
       "      <td>C:\\Felix\\weather_dataset\\mapilar snow\\images\\9...</td>\n",
       "      <td>Snowy</td>\n",
       "      <td>Yujun-Mapilarly</td>\n",
       "      <td>val</td>\n",
       "    </tr>\n",
       "    <tr>\n",
       "      <th>37338</th>\n",
       "      <td>C:\\Felix\\weather_dataset\\mapilar snow\\images\\9...</td>\n",
       "      <td>Snowy</td>\n",
       "      <td>Yujun-Mapilarly</td>\n",
       "      <td>val</td>\n",
       "    </tr>\n",
       "    <tr>\n",
       "      <th>37344</th>\n",
       "      <td>C:\\Felix\\weather_dataset\\mapilar snow\\images\\9...</td>\n",
       "      <td>Snowy</td>\n",
       "      <td>Yujun-Mapilarly</td>\n",
       "      <td>val</td>\n",
       "    </tr>\n",
       "    <tr>\n",
       "      <th>37347</th>\n",
       "      <td>C:\\Felix\\weather_dataset\\mapilar snow\\images\\9...</td>\n",
       "      <td>Snowy</td>\n",
       "      <td>Yujun-Mapilarly</td>\n",
       "      <td>val</td>\n",
       "    </tr>\n",
       "    <tr>\n",
       "      <th>37364</th>\n",
       "      <td>C:\\Felix\\weather_dataset\\mapilar snow\\images\\9...</td>\n",
       "      <td>Snowy</td>\n",
       "      <td>Yujun-Mapilarly</td>\n",
       "      <td>val</td>\n",
       "    </tr>\n",
       "  </tbody>\n",
       "</table>\n",
       "<p>19850 rows × 4 columns</p>\n",
       "</div>"
      ],
      "text/plain": [
       "                                                    path weather  \\\n",
       "0      C:\\Felix\\weather_dataset\\Student Labeled\\image...   Clear   \n",
       "21     C:\\Felix\\weather_dataset\\Student Labeled\\image...   Clear   \n",
       "24     C:\\Felix\\weather_dataset\\Student Labeled\\image...   Clear   \n",
       "25     C:\\Felix\\weather_dataset\\Student Labeled\\image...   Clear   \n",
       "63     C:\\Felix\\weather_dataset\\Student Labeled\\image...   Clear   \n",
       "...                                                  ...     ...   \n",
       "37335  C:\\Felix\\weather_dataset\\mapilar snow\\images\\9...   Snowy   \n",
       "37338  C:\\Felix\\weather_dataset\\mapilar snow\\images\\9...   Snowy   \n",
       "37344  C:\\Felix\\weather_dataset\\mapilar snow\\images\\9...   Snowy   \n",
       "37347  C:\\Felix\\weather_dataset\\mapilar snow\\images\\9...   Snowy   \n",
       "37364  C:\\Felix\\weather_dataset\\mapilar snow\\images\\9...   Snowy   \n",
       "\n",
       "                origin ds_type  \n",
       "0      Student_samples    test  \n",
       "21     Student_samples    test  \n",
       "24     Student_samples    test  \n",
       "25     Student_samples    test  \n",
       "63     Student_samples    test  \n",
       "...                ...     ...  \n",
       "37335  Yujun-Mapilarly     val  \n",
       "37338  Yujun-Mapilarly     val  \n",
       "37344  Yujun-Mapilarly     val  \n",
       "37347  Yujun-Mapilarly     val  \n",
       "37364  Yujun-Mapilarly     val  \n",
       "\n",
       "[19850 rows x 4 columns]"
      ]
     },
     "execution_count": 35,
     "metadata": {},
     "output_type": "execute_result"
    }
   ],
   "source": [
    "df[\"ds_type\"] = \"train\"\n",
    "df.loc[df.origin==\"Student_samples\",\"ds_type\"] = \"test\"\n",
    "test = df.loc[(df.origin == \"Dawn\" )& (df.weather==\"Foggy\")].sample(n=60,random_state=0).index.tolist()\n",
    "foggy_city = ( df.loc[(df.origin == \"Foggy Cityscapes\" )].sample(frac=1,random_state=0).index.tolist())\n",
    "\n",
    "\n",
    "\n",
    "test.extend( df.loc[(df.origin == \"Dawn\" )& (df.weather==\"Snowy\")].sample(n=150,random_state=0).index.tolist())\n",
    "test.extend( df.loc[(df.origin == \"Duckduckgo\" )& (df.weather==\"Snowy\")].sample(n=150,random_state=0).index.tolist())\n",
    "test.extend( df.loc[(df.origin == \"Dawn\" )& (df.weather==\"Rainy\")].index.tolist())\n",
    "test.extend( df.loc[(df.origin == \"SSLAD-2D\" )& (df.weather==\"Rainy\")].sample(n=150,random_state=0).index.tolist())\n",
    "clear_student= ( df.loc[(df.origin == \"Student_samples\" )& (df.weather==\"Clear\")].sample(n=5200-520,random_state=0).index.tolist())\n",
    "val = df.loc[(df.origin == \"Raidar\") &(df.path.str.contains(\"test\"))].sample(n=300,random_state=0).index.tolist()\n",
    "train = clear_student[:-520]\n",
    "\n",
    "test.extend(foggy_city[:len(foggy_city)//2])\n",
    "val.extend(foggy_city[len(foggy_city)//2:])\n",
    "val.extend(clear_student[-520:])\n",
    "\n",
    "df.loc[test,\"ds_type\"] = 'test'\n",
    "df.loc[train,\"ds_type\"] = 'train'\n",
    "\n",
    "rest = df.loc[df.ds_type==\"train\"]\n",
    "val.extend(rest.loc[(rest.origin == \"Duckduckgo\" )& (rest.weather==\"Foggy\")].sample(n=60,random_state=0).index.tolist())\n",
    "\n",
    "val.extend(rest.loc[(rest.origin == \"Duckduckgo\" )& (rest.weather==\"Snowy\")].sample(n=150,random_state=0).index.tolist())\n",
    "val.extend(rest.loc[(rest.origin == \"Yujun-Mapilarly\" )& (rest.weather==\"Snowy\")].sample(n=150,random_state=0).index.tolist())\n",
    "\n",
    "val_raidar_to_trop =[i for i in rest.loc[(rest.origin == \"Raidar\") &(rest.path.str.contains(\"test\"))].index if i not in val]\n",
    "df.loc[val_raidar_to_trop[:150],\"ds_type\"] = \"test\"\n",
    "\n",
    "df.loc[val,\"ds_type\"] = 'val'\n",
    "val_raidar_to_trop.extend(df.query(\"ds_type == 'train' & weather=='Rainy'\").sample(n=12000,random_state=0).index.tolist())\n",
    "df = df.drop(index= val_raidar_to_trop[150:])\n",
    "\n",
    "to_val = (df.loc[(df.origin == \"Student_samples\" )& (df.weather==\"Cloudy\")].sample(n=100,random_state=0).index.tolist())\n",
    "df.loc[to_val,\"ds_type\"]=\"val\"\n",
    "\n",
    "cloudy_to_spread = (df.loc[(df.origin == \"SSLAD-2D\" )& (df.weather==\"Cloudy\")].sample(n=300,random_state=0).index.tolist())\n",
    "df.loc[cloudy_to_spread[:150],\"ds_type\"]=\"val\"\n",
    "df.loc[cloudy_to_spread[150:],\"ds_type\"]=\"test\"\n",
    "\n",
    "trop_clear = df.loc[(df.ds_type==\"train\") & (df.weather==\"Clear\") & (df.origin !=\"Student_samples\")].index.tolist()\n",
    "df = df.drop(index= trop_clear)\n",
    "\n",
    "train_raidar = df.loc[(df.ds_type==\"train\")  & (df.origin ==\"Raidar\")].sample(n=2000,random_state=0).index.tolist()\n",
    "df = df.drop(index= train_raidar)\n",
    "\n",
    "to_val = df.loc[(df.weather==\"Rainy\")  & (df.origin ==\"Dawn\")].sample(n=90,random_state=0).index.tolist()\n",
    "df.loc[to_val,\"ds_type\"] = 'val'\n",
    "\n",
    "df.sort_values([\"ds_type\",\"weather\",\"origin\"])"
   ]
  },
  {
   "cell_type": "code",
   "execution_count": 36,
   "metadata": {},
   "outputs": [
    {
     "data": {
      "text/plain": [
       "weather  origin          \n",
       "Clear    Student_samples     520\n",
       "Rainy    Raidar              300\n",
       "Cloudy   SSLAD-2D            150\n",
       "Snowy    Duckduckgo          150\n",
       "         Yujun-Mapilarly     150\n",
       "Cloudy   Student_samples     100\n",
       "Rainy    Dawn                 90\n",
       "Foggy    Duckduckgo           60\n",
       "         Foggy Cityscapes     51\n",
       "dtype: int64"
      ]
     },
     "execution_count": 36,
     "metadata": {},
     "output_type": "execute_result"
    }
   ],
   "source": [
    "df.query(\"ds_type == 'val'\").value_counts([\"weather\",\"origin\"])"
   ]
  },
  {
   "cell_type": "code",
   "execution_count": 37,
   "metadata": {},
   "outputs": [
    {
     "data": {
      "text/plain": [
       "weather  origin          \n",
       "Clear    Student_samples     544\n",
       "Cloudy   Student_samples     164\n",
       "         SSLAD-2D            150\n",
       "Rainy    Raidar              150\n",
       "         SSLAD-2D            150\n",
       "Snowy    Dawn                150\n",
       "         Duckduckgo          150\n",
       "Rainy    Dawn                105\n",
       "Foggy    Dawn                 60\n",
       "         Foggy Cityscapes     50\n",
       "Snowy    Student_samples      29\n",
       "Rainy    Student_samples      10\n",
       "dtype: int64"
      ]
     },
     "execution_count": 37,
     "metadata": {},
     "output_type": "execute_result"
    }
   ],
   "source": [
    "df.query(\"ds_type == 'test'\").value_counts([\"weather\",\"origin\"])\n"
   ]
  },
  {
   "cell_type": "code",
   "execution_count": 38,
   "metadata": {},
   "outputs": [
    {
     "data": {
      "text/plain": [
       "weather  origin         \n",
       "Clear    Student_samples    4160\n",
       "Cloudy   SSLAD-2D           4153\n",
       "Rainy    Raidar             3644\n",
       "Snowy    Yujun-Mapilarly    1813\n",
       "Foggy    Duckduckgo          948\n",
       "Rainy    SSLAD-2D            782\n",
       "Snowy    Duckduckgo          780\n",
       "Foggy    Dawn                234\n",
       "Snowy    Dawn                 53\n",
       "dtype: int64"
      ]
     },
     "execution_count": 38,
     "metadata": {},
     "output_type": "execute_result"
    }
   ],
   "source": [
    "df.query(\"ds_type == 'train'\").value_counts([\"weather\",\"origin\"])"
   ]
  },
  {
   "cell_type": "code",
   "execution_count": 39,
   "metadata": {},
   "outputs": [
    {
     "data": {
      "text/plain": [
       "weather\n",
       "Rainy      4426\n",
       "Clear      4160\n",
       "Cloudy     4153\n",
       "Snowy      2646\n",
       "Foggy      1182\n",
       "dtype: int64"
      ]
     },
     "execution_count": 39,
     "metadata": {},
     "output_type": "execute_result"
    }
   ],
   "source": [
    "df.query(\"ds_type == 'train'\").value_counts([\"weather\"])"
   ]
  },
  {
   "cell_type": "code",
   "execution_count": 40,
   "metadata": {},
   "outputs": [
    {
     "data": {
      "text/plain": [
       "weather\n",
       "Rainy      0.267158\n",
       "Clear      0.251102\n",
       "Cloudy     0.250679\n",
       "Snowy      0.159715\n",
       "Foggy      0.071347\n",
       "dtype: float64"
      ]
     },
     "execution_count": 40,
     "metadata": {},
     "output_type": "execute_result"
    }
   ],
   "source": [
    "df.query(\"ds_type == 'train'\").value_counts([\"weather\"],normalize=True)\n"
   ]
  },
  {
   "cell_type": "code",
   "execution_count": 41,
   "metadata": {},
   "outputs": [
    {
     "data": {
      "text/plain": [
       "weather\n",
       "Clear      0.330999\n",
       "Rainy      0.248250\n",
       "Snowy      0.190961\n",
       "Cloudy     0.159134\n",
       "Foggy      0.070656\n",
       "dtype: float64"
      ]
     },
     "execution_count": 41,
     "metadata": {},
     "output_type": "execute_result"
    }
   ],
   "source": [
    "df.query(\"ds_type == 'val'\").value_counts([\"weather\"],normalize=True)\n"
   ]
  },
  {
   "cell_type": "code",
   "execution_count": 42,
   "metadata": {},
   "outputs": [
    {
     "data": {
      "text/plain": [
       "weather\n",
       "Clear      0.317757\n",
       "Rainy      0.242407\n",
       "Snowy      0.192173\n",
       "Cloudy     0.183411\n",
       "Foggy      0.064252\n",
       "dtype: float64"
      ]
     },
     "execution_count": 42,
     "metadata": {},
     "output_type": "execute_result"
    }
   ],
   "source": [
    "df.query(\"ds_type == 'test'\").value_counts([\"weather\"],normalize=True)"
   ]
  },
  {
   "cell_type": "code",
   "execution_count": 43,
   "metadata": {},
   "outputs": [
    {
     "data": {
      "image/png": "[encoded data removed]",
      "text/plain": [
       "<Figure size 720x720 with 1 Axes>"
      ]
     },
     "metadata": {},
     "output_type": "display_data"
    },
    {
     "data": {
      "image/png": "[encoded data removed]",
      "text/plain": [
       "<Figure size 720x720 with 1 Axes>"
      ]
     },
     "metadata": {},
     "output_type": "display_data"
    },
    {
     "data": {
      "image/png": "[encoded data removed]",
      "text/plain": [
       "<Figure size 720x720 with 1 Axes>"
      ]
     },
     "metadata": {},
     "output_type": "display_data"
    }
   ],
   "source": [
    "for t in df.ds_type.unique():\n",
    "    plt.figure(figsize=(10,10))\n",
    "    l = df.query('ds_type == @t')\n",
    "    l.value_counts(\"weather\").plot.pie()\n",
    "    plt.title(t)\n",
    "    plt.show()"
   ]
  },
  {
   "cell_type": "code",
   "execution_count": 44,
   "metadata": {},
   "outputs": [
    {
     "data": {
      "text/plain": [
       "ds_type\n",
       "train      0.834610\n",
       "test       0.086247\n",
       "val        0.079144\n",
       "dtype: float64"
      ]
     },
     "execution_count": 44,
     "metadata": {},
     "output_type": "execute_result"
    }
   ],
   "source": [
    "df.value_counts([\"ds_type\"],normalize=True)"
   ]
  },
  {
   "cell_type": "code",
   "execution_count": 45,
   "metadata": {},
   "outputs": [
    {
     "name": "stderr",
     "output_type": "stream",
     "text": [
      "100%|██████████| 19850/19850 [06:39<00:00, 49.69it/s] \n"
     ]
    }
   ],
   "source": [
    "import hashlib\n",
    "import tqdm\n",
    "import cv2\n",
    "df[\"id\"] = df.path.apply(lambda x:hashlib.sha224(str.encode(x)).hexdigest()+\".jpg\")\n",
    "\n",
    "out = r\"C:\\Felix\\weather_data_set_ready_to_train\"\n",
    "for t in df.ds_type.unique():\n",
    "    for w in df.weather.unique():\n",
    "        os.makedirs(os.path.join(out,t,w),exist_ok=True)\n",
    "for i in tqdm.tqdm(range(len(df))):\n",
    "    row= df.iloc[i]\n",
    "\n",
    "    img = cv2.imread(row.path)\n",
    "    if img.shape[0] > 400 or img.shape[1] > 400:\n",
    "        img = cv2.resize(img, [400,400], interpolation= cv2.INTER_LINEAR)\n",
    "    cv2.imwrite(os.path.join(out,row.ds_type,row.weather,row.id),img)"
   ]
  },
  {
   "cell_type": "code",
   "execution_count": 46,
   "metadata": {},
   "outputs": [],
   "source": [
    "df.reset_index().to_feather(os.path.join(out,\"df.feather\"))"
   ]
  },
  {
   "cell_type": "code",
   "execution_count": 47,
   "metadata": {},
   "outputs": [
    {
     "data": {
      "text/plain": [
       "False"
      ]
     },
     "execution_count": 47,
     "metadata": {},
     "output_type": "execute_result"
    }
   ],
   "source": [
    "df.path.duplicated().any()"
   ]
  },
  {
   "cell_type": "code",
   "execution_count": null,
   "metadata": {},
   "outputs": [],
   "source": []
  }
 ],
 "metadata": {
  "kernelspec": {
   "display_name": "Python 3.10.5 ('felix')",
   "language": "python",
   "name": "python3"
  },
  "language_info": {
   "codemirror_mode": {
    "name": "ipython",
    "version": 3
   },
   "file_extension": ".py",
   "mimetype": "text/x-python",
   "name": "python",
   "nbconvert_exporter": "python",
   "pygments_lexer": "ipython3",
   "version": "3.10.5"
  },
  "orig_nbformat": 4,
  "vscode": {
   "interpreter": {
    "hash": "64aad402826e5067045a3f2545cdf45209700db649eac24e1eb71cad2d7c755c"
   }
  }
 },
 "nbformat": 4,
 "nbformat_minor": 2
}
