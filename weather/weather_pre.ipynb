{
 "cells": [
  {
   "cell_type": "code",
   "execution_count": 1,
   "metadata": {},
   "outputs": [],
   "source": [
    "import os \n",
    "import pandas as pd\n",
    "import numpy as np\n",
    "import tqdm\n",
    "import matplotlib.pyplot as plt\n",
    "np.random.seed  = 0"
   ]
  },
  {
   "cell_type": "code",
   "execution_count": 2,
   "metadata": {},
   "outputs": [],
   "source": [
    "df = pd.read_csv(r\"C:\\Felix\\weather_dataset\\Student Labeled\\student_labelled.csv\")\n",
    "df[\"Weather\"] = df.Weather.replace({\"snowfall\":\"Snowy\",\"rainfall\":\"Rainy\",\"clear\":\"Clear\",\"cloudy\":\"Cloudy\"})\n",
    "df.loc[df.Cover == \"snow\",\"Weather\"] = \"Snowy\"\n",
    "df.loc[df.Cover == \"rain\",\"Weather\"] = \"Rainy\"\n",
    "df = df.loc[(df.Weather != 'unobservable') & (df.Lighting_Condition == \"day\")] \n",
    "df.value_counts(\"Weather\")\n",
    "\n",
    "df[\"path\"] = [os.path.join(r\"C:\\Felix\\weather_dataset\\Student Labeled\\images_renamed\",str(i))+\".jpeg\" for i in df.id]\n",
    "df = df.loc[df.path.apply(os.path.exists)]\n",
    "df[\"origin\"] = \"Student_samples\""
   ]
  },
  {
   "cell_type": "code",
   "execution_count": 3,
   "metadata": {},
   "outputs": [],
   "source": [
    "paths = [\n",
    "    (r\"C:\\Felix\\weather_dataset\\SSLAD-2D\\Clear\",'Clear',\"SSLAD-2D\"),\n",
    "    (r\"C:\\Felix\\weather_dataset\\SSLAD-2D\\Overcast\",'Cloudy',\"SSLAD-2D\"),\n",
    "    (r\"C:\\Felix\\weather_dataset\\SSLAD-2D\\Rainy\",'Rainy',\"SSLAD-2D\"),\n",
    "    (r\"C:\\Felix\\weather_dataset\\Raidar\\test\",\"Rainy\",\"Raidar\"),\n",
    "    (r\"C:\\Felix\\weather_dataset\\Raidar\\train\",\"Rainy\",\"Raidar\"),\n",
    "    (r\"C:\\Felix\\weather_dataset\\mapilar snow\\images\",\"Snowy\",\"Yujun-Mapilarly\"),\n",
    "    (r\"C:\\Felix\\weather_dataset\\Foggy Cityscapes\",\"Foggy\",\"Foggy Cityscapes\"),\n",
    "    (r\"C:\\Felix\\weather_dataset\\Duckduckgo\\fog\",\"Foggy\",\"Duckduckgo\"),\n",
    "    (r\"C:\\Felix\\weather_dataset\\Duckduckgo\\snow\",\"Snowy\",\"Duckduckgo\"),\n",
    "    (r\"C:\\Felix\\weather_dataset\\DAWN\\Rain\",\"Rainy\",\"Dawn\"),\n",
    "    (r\"C:\\Felix\\weather_dataset\\DAWN\\Snow\",\"Snowy\",\"Dawn\"),\n",
    "    (r\"C:\\Felix\\weather_dataset\\DAWN\\Fog\",\"Foggy\",\"Dawn\"),\n",
    "    (r\"C:\\Felix\\weather_dataset\\rain\",\"Rainy\",\"Yujun-Mapilarly\"),\n",
    "    (r\"C:\\Felix\\weather_dataset\\fog\",\"Foggy\",\"Yujun-Mapilarly\"),\n",
    "    (r\"C:\\Felix\\weather_dataset\\clear\",\"Clear\",\"Yujun-Mapilarly\"),\n",
    "    (r\"C:\\Felix\\weather_dataset\\mapilar snow\\images2\",\"Snowy\",\"Yujun-Mapilarly\"),\n",
    "    (r\"C:\\Felix\\weather_dataset\\cloudy\",\"Cloudy\",\"Yujun-Mapilarly\"),\n",
    "]\n",
    "\n",
    "erg = []\n",
    "\n",
    "for folder, weather, origin in paths:\n",
    "\n",
    "    for img in os.listdir(folder):\n",
    "        if \".jpg\" in img or \".jpeg\" in img:\n",
    "            erg.append((os.path.join(folder,img),weather,origin))   \n",
    "\n",
    "new = pd.DataFrame(erg,columns=[\"path\",\"weather\",\"origin\"])\n",
    "df = pd.concat([df[[\"path\",\"Weather\",\"origin\"]].rename(columns={\"Weather\":\"weather\"}),new])\n",
    "df.index = range(len(df))"
   ]
  },
  {
   "cell_type": "code",
   "execution_count": 4,
   "metadata": {},
   "outputs": [],
   "source": [
    "# import tensorflow as tf\n",
    "# with tf.device('Gpu:0'):\n",
    "#     ds = general_preprocessing.get_ds(df,6)\n",
    "\n",
    "#     model = get_models.get_pano()\n",
    "#     preds = model.predict(ds,verbose=1) > .5"
   ]
  },
  {
   "cell_type": "code",
   "execution_count": 5,
   "metadata": {},
   "outputs": [],
   "source": [
    "# tf.keras.backend.clear_session()\n",
    "# model = get_models.get_night_day()\n",
    "# night_preds = model.predict(ds,verbose=1) > .5\n",
    "# np.save(\"../weather_dataset/night_pred.npy\",night_preds)\n",
    "# np.save(\"../weather_dataset/pano_pred.npy\",preds)"
   ]
  },
  {
   "cell_type": "code",
   "execution_count": 6,
   "metadata": {},
   "outputs": [],
   "source": [
    "# out = r\"C:\\Felix\\weather_dataset\\night\"\n",
    "# import tqdm\n",
    "# night = df.loc[night_preds]\n",
    "# for i in tqdm.tqdm(range(len(night))):\n",
    "#     row = night.iloc[i]\n",
    "#     img = plt.imread(row.loc[\"path\"])\n",
    "#     plt.imshow(img)\n",
    "#     plt.savefig(os.path.join(out,f\"{i}_{row['origin']}\")+\".jpg\")\n",
    "#     plt.close()"
   ]
  },
  {
   "cell_type": "code",
   "execution_count": 7,
   "metadata": {},
   "outputs": [],
   "source": [
    "night_preds = np.load(\"../../weather_dataset/night_pred.npy\")\n",
    "pano_preds = np.load(\"../../weather_dataset/pano_pred.npy\")\n",
    "new_student_labeled = ((df.origin ==\"Yujun-Mapilarly\") & (df.weather ==\"Rainy\")).values.argmax()\n",
    "\n",
    "old = df.loc[:new_student_labeled]\n",
    "old = old.loc[(pano_preds) | (night_preds)].index\n",
    "df = df.drop(index=old)\n",
    "df.index = range(len(df))"
   ]
  },
  {
   "cell_type": "code",
   "execution_count": 8,
   "metadata": {},
   "outputs": [
    {
     "data": {
      "text/plain": [
       "origin            weather\n",
       "Raidar            Rainy      18212\n",
       "SSLAD-2D          Clear       9402\n",
       "Yujun-Mapilarly   Cloudy      6987\n",
       "SSLAD-2D          Cloudy      4453\n",
       "Yujun-Mapilarly   Clear       4281\n",
       "                  Snowy       3607\n",
       "SSLAD-2D          Rainy       2107\n",
       "Yujun-Mapilarly   Rainy       1486\n",
       "Duckduckgo        Snowy       1080\n",
       "                  Foggy       1008\n",
       "Student_samples   Clear        943\n",
       "Dawn              Foggy        294\n",
       "Student_samples   Cloudy       264\n",
       "Dawn              Snowy        203\n",
       "                  Rainy        195\n",
       "Foggy Cityscapes  Foggy        101\n",
       "Yujun-Mapilarly   Foggy         66\n",
       "Student_samples   Snowy         29\n",
       "                  Rainy         10\n",
       "dtype: int64"
      ]
     },
     "execution_count": 8,
     "metadata": {},
     "output_type": "execute_result"
    }
   ],
   "source": [
    "df.value_counts([\"origin\",\"weather\"])"
   ]
  },
  {
   "cell_type": "code",
   "execution_count": 9,
   "metadata": {},
   "outputs": [
    {
     "data": {
      "text/plain": [
       "weather\n",
       "Cloudy     7251\n",
       "Clear      5224\n",
       "Snowy      3839\n",
       "Rainy      1691\n",
       "Foggy       461\n",
       "dtype: int64"
      ]
     },
     "execution_count": 9,
     "metadata": {},
     "output_type": "execute_result"
    }
   ],
   "source": [
    "gold_standard = [\"Student_samples\",\"Yujun-Mapilarly\",\"Dawn\",\"Foggy Cityscapes\"]\n",
    "df[\"gold_standard\"] = df.origin.apply(lambda x: x in gold_standard)\n",
    "gold = df.loc[df.origin.apply(lambda x: x in gold_standard)]\n",
    "gold.value_counts([\"weather\"])"
   ]
  },
  {
   "cell_type": "markdown",
   "metadata": {},
   "source": [
    "Clear, Cloudy are enough to be spread all over train, val & test. Snowy will be a bit supported in training as well as Rainy & Foggy."
   ]
  },
  {
   "cell_type": "markdown",
   "metadata": {},
   "source": [
    "Cloudy "
   ]
  },
  {
   "cell_type": "code",
   "execution_count": 10,
   "metadata": {},
   "outputs": [],
   "source": [
    "split = 7251 // 10\n",
    "\n",
    "pool = df.loc[df.gold_standard & (df.weather == \"Cloudy\")].index.tolist()\n",
    "np.random.shuffle(pool)\n",
    "\n",
    "def assign_split(pool,split,df):\n",
    "    val,test,train = pool[:split],pool[split:split+split],pool[split+split:]\n",
    "\n",
    "    df.loc[val,\"ds_type\"] = \"val\"\n",
    "    df.loc[test,\"ds_type\"] = \"test\"\n",
    "    df.loc[train,\"ds_type\"] = \"train\"\n",
    "\n",
    "assign_split(pool,split,df)"
   ]
  },
  {
   "cell_type": "markdown",
   "metadata": {},
   "source": [
    "Clear"
   ]
  },
  {
   "cell_type": "code",
   "execution_count": 11,
   "metadata": {},
   "outputs": [],
   "source": [
    "split = 5224 // 10\n",
    "\n",
    "pool = df.loc[df.gold_standard & (df.weather == \"Clear\")].index.tolist()\n",
    "np.random.shuffle(pool)\n",
    "\n",
    "def assign_split(pool,split,df):\n",
    "    val,test,train = pool[:split],pool[split:split+split],pool[split+split:]\n",
    "\n",
    "    df.loc[val,\"ds_type\"] = \"val\"\n",
    "    df.loc[test,\"ds_type\"] = \"test\"\n",
    "    df.loc[train,\"ds_type\"] = \"train\"\n",
    "\n",
    "assign_split(pool,split,df)"
   ]
  },
  {
   "cell_type": "markdown",
   "metadata": {},
   "source": [
    "Snowy"
   ]
  },
  {
   "cell_type": "code",
   "execution_count": 12,
   "metadata": {},
   "outputs": [
    {
     "name": "stdout",
     "output_type": "stream",
     "text": [
      "3839\n"
     ]
    },
    {
     "data": {
      "text/plain": [
       "train    0.804838\n",
       "test     0.097581\n",
       "val      0.097581\n",
       "Name: ds_type, dtype: float64"
      ]
     },
     "execution_count": 12,
     "metadata": {},
     "output_type": "execute_result"
    }
   ],
   "source": [
    "split = 4800//10\n",
    "\n",
    "pool = df.loc[df.gold_standard & (df.weather == \"Snowy\")].index.tolist()\n",
    "np.random.shuffle(pool)\n",
    "print(len(pool))\n",
    "def assign_split(pool,split,df):\n",
    "    val,test,train = pool[:split],pool[split:split+split],pool[split+split:]\n",
    "\n",
    "    df.loc[val,\"ds_type\"] = \"val\"\n",
    "    df.loc[test,\"ds_type\"] = \"test\"\n",
    "    df.loc[train,\"ds_type\"] = \"train\"\n",
    "\n",
    "assign_split(pool,split,df)\n",
    "\n",
    "df.loc[(df.origin == \"Duckduckgo\") & (df.weather == \"Snowy\"),\"ds_type\"] = \"train\"\n",
    "df.query(\"weather == 'Snowy'\").ds_type.value_counts(normalize = True)"
   ]
  },
  {
   "cell_type": "markdown",
   "metadata": {},
   "source": [
    "Rainy"
   ]
  },
  {
   "cell_type": "code",
   "execution_count": 13,
   "metadata": {},
   "outputs": [
    {
     "name": "stdout",
     "output_type": "stream",
     "text": [
      "3642 14570\n",
      "1691\n"
     ]
    },
    {
     "data": {
      "text/plain": [
       "train    0.805762\n",
       "test     0.097180\n",
       "val      0.097058\n",
       "Name: ds_type, dtype: float64"
      ]
     },
     "execution_count": 13,
     "metadata": {},
     "output_type": "execute_result"
    }
   ],
   "source": [
    "raidar_train= df.loc[(df.origin == \"Raidar\") & (df.path.str.contains(\"train\"))].index.tolist()\n",
    "raidar_test= df.loc[(df.origin == \"Raidar\") & (df.path.str.contains(\"test\"))].index.tolist()\n",
    "print(len(raidar_test),len(raidar_train))\n",
    "\n",
    "gold_standard = df.loc[(df.gold_standard) & (df.weather == \"Rainy\")].sample(frac = 1,random_state= 0).index.tolist()\n",
    "# 600 fist to train\n",
    "print(len(gold_standard))\n",
    "df.loc[gold_standard[:600],\"ds_type\"]= \"train\"\n",
    "val_test = gold_standard[600:]\n",
    "np.random.shuffle(raidar_train)\n",
    "np.random.shuffle(raidar_test)\n",
    "\n",
    "df.loc[raidar_train[:6000],\"ds_type\"]= \"train\"\n",
    "val_test.extend(raidar_test[:500])\n",
    "np.random.shuffle(val_test)\n",
    "df.loc[val_test[:len(val_test)//2],\"ds_type\"] = \"val\"\n",
    "df.loc[val_test[len(val_test)//2:],\"ds_type\"] = \"test\"\n",
    "df.query(\"weather == 'Rainy'\").ds_type.value_counts(normalize = True)\n"
   ]
  },
  {
   "cell_type": "code",
   "execution_count": 14,
   "metadata": {},
   "outputs": [
    {
     "data": {
      "text/plain": [
       "train    0.795779\n",
       "test     0.102110\n",
       "val      0.102110\n",
       "Name: ds_type, dtype: float64"
      ]
     },
     "execution_count": 14,
     "metadata": {},
     "output_type": "execute_result"
    }
   ],
   "source": [
    "split = 1500//10\n",
    "\n",
    "pool = df.loc[df.gold_standard & (df.weather == \"Foggy\")].index.tolist()\n",
    "np.random.shuffle(pool)\n",
    "\n",
    "def assign_split(pool,split,df):\n",
    "    val,test,train = pool[:split],pool[split:split+split],pool[split+split:]\n",
    "\n",
    "    df.loc[val,\"ds_type\"] = \"val\"\n",
    "    df.loc[test,\"ds_type\"] = \"test\"\n",
    "    df.loc[train,\"ds_type\"] = \"train\"\n",
    "\n",
    "assign_split(pool,split,df)\n",
    "\n",
    "df.loc[(df.origin == \"Duckduckgo\") & (df.weather == \"Foggy\"),\"ds_type\"] = \"train\"\n",
    "df.query(\"weather == 'Foggy'\").ds_type.value_counts(normalize = True)"
   ]
  },
  {
   "cell_type": "code",
   "execution_count": 15,
   "metadata": {},
   "outputs": [],
   "source": [
    "df = df.loc[df.ds_type.notna()]"
   ]
  },
  {
   "cell_type": "code",
   "execution_count": 16,
   "metadata": {},
   "outputs": [
    {
     "data": {
      "text/plain": [
       "weather  origin          \n",
       "Cloudy   Yujun-Mapilarly     704\n",
       "Rainy    Yujun-Mapilarly     480\n",
       "Snowy    Yujun-Mapilarly     446\n",
       "Clear    Yujun-Mapilarly     417\n",
       "Rainy    Raidar              252\n",
       "Clear    Student_samples     105\n",
       "Foggy    Dawn                103\n",
       "Rainy    Dawn                 62\n",
       "Snowy    Dawn                 29\n",
       "Foggy    Foggy Cityscapes     25\n",
       "         Yujun-Mapilarly      22\n",
       "Cloudy   Student_samples      21\n",
       "Snowy    Student_samples       5\n",
       "Rainy    Student_samples       1\n",
       "dtype: int64"
      ]
     },
     "execution_count": 16,
     "metadata": {},
     "output_type": "execute_result"
    }
   ],
   "source": [
    "df.query(\"ds_type == 'val'\").value_counts([\"weather\",\"origin\"])\n"
   ]
  },
  {
   "cell_type": "code",
   "execution_count": 17,
   "metadata": {},
   "outputs": [
    {
     "data": {
      "text/plain": [
       "weather  origin          \n",
       "Cloudy   Yujun-Mapilarly     698\n",
       "Rainy    Yujun-Mapilarly     477\n",
       "Snowy    Yujun-Mapilarly     443\n",
       "Clear    Yujun-Mapilarly     420\n",
       "Rainy    Raidar              248\n",
       "Clear    Student_samples     102\n",
       "Foggy    Dawn                 97\n",
       "Rainy    Dawn                 69\n",
       "Snowy    Dawn                 34\n",
       "Foggy    Foggy Cityscapes     32\n",
       "Cloudy   Student_samples      27\n",
       "Foggy    Yujun-Mapilarly      21\n",
       "Snowy    Student_samples       3\n",
       "Rainy    Student_samples       2\n",
       "dtype: int64"
      ]
     },
     "execution_count": 17,
     "metadata": {},
     "output_type": "execute_result"
    }
   ],
   "source": [
    "df.query(\"ds_type == 'test'\").value_counts([\"weather\",\"origin\"])\n"
   ]
  },
  {
   "cell_type": "code",
   "execution_count": 18,
   "metadata": {},
   "outputs": [
    {
     "data": {
      "text/plain": [
       "weather  origin          \n",
       "Rainy    Raidar              6000\n",
       "Cloudy   Yujun-Mapilarly     5585\n",
       "Clear    Yujun-Mapilarly     3444\n",
       "Snowy    Yujun-Mapilarly     2718\n",
       "         Duckduckgo          1080\n",
       "Foggy    Duckduckgo          1008\n",
       "Clear    Student_samples      736\n",
       "Rainy    Yujun-Mapilarly      529\n",
       "Cloudy   Student_samples      216\n",
       "Snowy    Dawn                 140\n",
       "Foggy    Dawn                  94\n",
       "Rainy    Dawn                  64\n",
       "Foggy    Foggy Cityscapes      44\n",
       "         Yujun-Mapilarly       23\n",
       "Snowy    Student_samples       21\n",
       "Rainy    Student_samples        7\n",
       "dtype: int64"
      ]
     },
     "execution_count": 18,
     "metadata": {},
     "output_type": "execute_result"
    }
   ],
   "source": [
    "df.query(\"ds_type == 'train'\").value_counts([\"weather\",\"origin\"])"
   ]
  },
  {
   "cell_type": "code",
   "execution_count": 19,
   "metadata": {},
   "outputs": [
    {
     "data": {
      "text/plain": [
       "weather\n",
       "Rainy      0.304021\n",
       "Cloudy     0.267216\n",
       "Clear      0.192547\n",
       "Snowy      0.182367\n",
       "Foggy      0.053849\n",
       "dtype: float64"
      ]
     },
     "execution_count": 19,
     "metadata": {},
     "output_type": "execute_result"
    }
   ],
   "source": [
    "df.query(\"ds_type == 'train'\").value_counts([\"weather\"],normalize=True)\n"
   ]
  },
  {
   "cell_type": "code",
   "execution_count": 20,
   "metadata": {},
   "outputs": [
    {
     "data": {
      "text/plain": [
       "weather\n",
       "Rainy      0.297530\n",
       "Cloudy     0.271332\n",
       "Clear      0.195359\n",
       "Snowy      0.179641\n",
       "Foggy      0.056138\n",
       "dtype: float64"
      ]
     },
     "execution_count": 20,
     "metadata": {},
     "output_type": "execute_result"
    }
   ],
   "source": [
    "df.query(\"ds_type == 'val'\").value_counts([\"weather\"],normalize=True)\n"
   ]
  },
  {
   "cell_type": "code",
   "execution_count": 21,
   "metadata": {},
   "outputs": [
    {
     "data": {
      "text/plain": [
       "weather\n",
       "Rainy      0.297793\n",
       "Cloudy     0.271231\n",
       "Clear      0.195286\n",
       "Snowy      0.179574\n",
       "Foggy      0.056117\n",
       "dtype: float64"
      ]
     },
     "execution_count": 21,
     "metadata": {},
     "output_type": "execute_result"
    }
   ],
   "source": [
    "df.query(\"ds_type == 'test'\").value_counts([\"weather\"],normalize=True)"
   ]
  },
  {
   "cell_type": "code",
   "execution_count": 22,
   "metadata": {},
   "outputs": [
    {
     "data": {
      "image/png": "[encoded data removed]",
      "text/plain": [
       "<Figure size 720x720 with 1 Axes>"
      ]
     },
     "metadata": {},
     "output_type": "display_data"
    },
    {
     "data": {
      "image/png": "[encoded data removed]",
      "text/plain": [
       "<Figure size 720x720 with 1 Axes>"
      ]
     },
     "metadata": {},
     "output_type": "display_data"
    },
    {
     "data": {
      "image/png": "[encoded data removed]",
      "text/plain": [
       "<Figure size 720x720 with 1 Axes>"
      ]
     },
     "metadata": {},
     "output_type": "display_data"
    }
   ],
   "source": [
    "for t in df.ds_type.unique():\n",
    "    plt.figure(figsize=(10,10))\n",
    "    l = df.query('ds_type == @t')\n",
    "    l.value_counts(\"weather\").plot.pie()\n",
    "    plt.title(t)\n",
    "    plt.show()"
   ]
  },
  {
   "cell_type": "code",
   "execution_count": 32,
   "metadata": {},
   "outputs": [
    {
     "name": "stderr",
     "output_type": "stream",
     "text": [
      "100%|██████████| 27054/27054 [00:02<00:00, 9964.51it/s] \n"
     ]
    }
   ],
   "source": [
    "df[\"id\"] = df.path.apply(lambda x:hashlib.sha224(str.encode(x)).hexdigest()+\".jpg\")\n",
    "\n",
    "out = r\"C:\\Felix\\weather_data_set_ready_to_train\"\n",
    "new_paths = []\n",
    "for i in tqdm.tqdm(range(len(df))):\n",
    "    row = df.iloc[i]\n",
    "    new_paths.append(os.path.join(out,row.ds_type,row.weather,row.id))"
   ]
  },
  {
   "cell_type": "code",
   "execution_count": 40,
   "metadata": {},
   "outputs": [],
   "source": [
    "old_paths = []\n",
    "for i in [\"train\",\"val\",\"test\"]:\n",
    "    for w in df.weather.unique():\n",
    "        di = os.path.join(out,i,w)\n",
    "        for p in os.listdir(di):\n",
    "            old_paths.append(os.path.join(di,p))"
   ]
  },
  {
   "cell_type": "code",
   "execution_count": 41,
   "metadata": {},
   "outputs": [
    {
     "data": {
      "text/plain": [
       "0"
      ]
     },
     "execution_count": 41,
     "metadata": {},
     "output_type": "execute_result"
    }
   ],
   "source": [
    "to_del = set(old_paths).difference(new_paths)\n",
    "len(to_del)"
   ]
  },
  {
   "cell_type": "code",
   "execution_count": 38,
   "metadata": {},
   "outputs": [
    {
     "data": {
      "text/plain": [
       "14737"
      ]
     },
     "execution_count": 38,
     "metadata": {},
     "output_type": "execute_result"
    }
   ],
   "source": [
    "to_add = set(new_paths).difference(old_paths)\n",
    "len(to_add)"
   ]
  },
  {
   "cell_type": "code",
   "execution_count": 39,
   "metadata": {},
   "outputs": [
    {
     "name": "stderr",
     "output_type": "stream",
     "text": [
      "100%|██████████| 9164/9164 [00:01<00:00, 5419.24it/s]\n"
     ]
    }
   ],
   "source": [
    "for p in tqdm.tqdm(to_del):\n",
    "    os.remove(p)"
   ]
  },
  {
   "cell_type": "code",
   "execution_count": 44,
   "metadata": {},
   "outputs": [
    {
     "name": "stderr",
     "output_type": "stream",
     "text": [
      "100%|██████████| 27054/27054 [07:07<00:00, 63.21it/s]  \n"
     ]
    }
   ],
   "source": [
    "import hashlib\n",
    "import tqdm\n",
    "import cv2\n",
    "\n",
    "for i in tqdm.tqdm(range(len(df))):\n",
    "    row= df.iloc[i]\n",
    "    new_path = os.path.join(out,row.ds_type,row.weather,row.id)\n",
    "    if new_path in to_add:\n",
    "\n",
    "        img = cv2.imread(row.path)\n",
    "        if img.shape[0] > 400 or img.shape[1] > 400:\n",
    "            img = cv2.resize(img, [400,400], interpolation= cv2.INTER_LINEAR)\n",
    "        cv2.imwrite(new_path,img)"
   ]
  },
  {
   "cell_type": "code",
   "execution_count": 42,
   "metadata": {},
   "outputs": [],
   "source": [
    "df.reset_index().to_feather(os.path.join(out,\"df.feather\"))"
   ]
  },
  {
   "cell_type": "code",
   "execution_count": 43,
   "metadata": {},
   "outputs": [
    {
     "data": {
      "text/plain": [
       "False"
      ]
     },
     "execution_count": 43,
     "metadata": {},
     "output_type": "execute_result"
    }
   ],
   "source": [
    "df.path.duplicated().any()"
   ]
  },
  {
   "cell_type": "code",
   "execution_count": 45,
   "metadata": {},
   "outputs": [
    {
     "data": {
      "text/plain": [
       "ds_type\n",
       "train    21709\n",
       "test      2673\n",
       "val       2672\n",
       "dtype: int64"
      ]
     },
     "execution_count": 45,
     "metadata": {},
     "output_type": "execute_result"
    }
   ],
   "source": [
    "df.value_counts(\"ds_type\")"
   ]
  }
 ],
 "metadata": {
  "kernelspec": {
   "display_name": "Python 3.10.5 ('felix')",
   "language": "python",
   "name": "python3"
  },
  "language_info": {
   "codemirror_mode": {
    "name": "ipython",
    "version": 3
   },
   "file_extension": ".py",
   "mimetype": "text/x-python",
   "name": "python",
   "nbconvert_exporter": "python",
   "pygments_lexer": "ipython3",
   "version": "3.10.5"
  },
  "orig_nbformat": 4,
  "vscode": {
   "interpreter": {
    "hash": "64aad402826e5067045a3f2545cdf45209700db649eac24e1eb71cad2d7c755c"
   }
  }
 },
 "nbformat": 4,
 "nbformat_minor": 2
}
