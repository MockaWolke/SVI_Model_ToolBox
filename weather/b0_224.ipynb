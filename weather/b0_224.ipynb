{
 "cells": [
  {
   "cell_type": "code",
   "execution_count": 1,
   "metadata": {},
   "outputs": [],
   "source": [
    "import tensorflow as tf\n",
    "import os\n",
    "import seaborn as sns\n",
    "import matplotlib.pyplot as plt\n",
    "import sklearn\n",
    "import numpy as np\n",
    "exp_pat = \"B0_244\"\n",
    "Image_shape = 224\n",
    "BATCH_SIZE = 64\n"
   ]
  },
  {
   "cell_type": "code",
   "execution_count": 2,
   "metadata": {},
   "outputs": [
    {
     "name": "stdout",
     "output_type": "stream",
     "text": [
      "Found 16820 files belonging to 5 classes.\n",
      "Found 1411 files belonging to 5 classes.\n"
     ]
    }
   ],
   "source": [
    "train_ds = tf.keras.utils.image_dataset_from_directory(r\"C:\\Felix\\weather_data_set_ready_to_train\\train\",\n",
    "shuffle=True,\n",
    "batch_size=BATCH_SIZE,\n",
    "image_size=(Image_shape,Image_shape))\n",
    "val_ds = tf.keras.utils.image_dataset_from_directory(r\"C:\\Felix\\weather_data_set_ready_to_train\\val\",\n",
    "shuffle=False,\n",
    "batch_size=BATCH_SIZE,\n",
    "image_size=(Image_shape,Image_shape))\n",
    "\n",
    "\n",
    "y_train = np.concatenate(list(train_ds.map(lambda x,y: y)))\n",
    "class_weights = sklearn.utils.class_weight.compute_class_weight(class_weight='balanced', classes=np.unique(y_train),  y=y_train)\n",
    "class_weights = {i:o for i,o in enumerate(class_weights)}"
   ]
  },
  {
   "cell_type": "code",
   "execution_count": 3,
   "metadata": {},
   "outputs": [],
   "source": [
    "inputs = tf.keras.Input((Image_shape,Image_shape ,3))\n",
    "\n",
    "img_augmentation = tf.keras.models.Sequential(\n",
    "[\n",
    "    tf.keras.layers.RandomRotation(factor=0.2),\n",
    "    tf.keras.layers.RandomTranslation(height_factor=0.15, width_factor=0.15),\n",
    "    tf.keras.layers.RandomFlip(mode=\"horizontal\"),\n",
    "    tf.keras.layers.RandomContrast(factor=0.2)\n",
    "\n",
    "],\n",
    "name=\"img_augmentation\",\n",
    ")\n",
    "\n",
    "x = img_augmentation(inputs)\n",
    "\n",
    "\n",
    "base = tf.keras.applications.EfficientNetV2B0(\n",
    "include_top=False,\n",
    "weights='imagenet',\n",
    "pooling=\"avg\"\n",
    ")\n",
    "\n",
    "base.trainable = False\n",
    "x = base(x)\n",
    "\n",
    "x = tf.keras.layers.BatchNormalization()(x)\n",
    "x = tf.keras.layers.Dropout(.2, name=\"top_dropout\")(x)\n",
    "outputs = tf.keras.layers.Dense(5, activation=\"softmax\", name=\"pred\",kernel_regularizer=tf.keras.regularizers.L2())(x)\n",
    "model = tf.keras.Model(inputs, outputs)\n",
    "\n",
    "def unfreeze_model(model,n_layers = 20):\n",
    "    # We unfreeze the top 20 layers while leaving BatchNorm layers frozen\n",
    "    for layer in model.layers[-n_layers:]:\n",
    "        if not isinstance(layer, tf.keras.layers.BatchNormalization) and not isinstance(layer, tf.keras.layers.LayerNormalization):\n",
    "            layer.trainable = True\n",
    "    return model\n"
   ]
  },
  {
   "cell_type": "code",
   "execution_count": 4,
   "metadata": {},
   "outputs": [
    {
     "name": "stdout",
     "output_type": "stream",
     "text": [
      "Epoch 1/2\n",
      "263/263 [==============================] - 25s 65ms/step - loss: 0.6651 - accuracy: 0.7857 - val_loss: 0.5563 - val_accuracy: 0.8625\n",
      "Epoch 2/2\n",
      "263/263 [==============================] - 16s 60ms/step - loss: 0.4318 - accuracy: 0.8701 - val_loss: 0.4801 - val_accuracy: 0.8724\n",
      "Epoch 3/12\n",
      "263/263 [==============================] - 45s 146ms/step - loss: 0.3556 - accuracy: 0.8971 - val_loss: 0.4994 - val_accuracy: 0.8653\n",
      "Epoch 4/12\n",
      "263/263 [==============================] - 37s 140ms/step - loss: 0.2139 - accuracy: 0.9478 - val_loss: 0.3680 - val_accuracy: 0.9178\n",
      "Epoch 5/12\n",
      "263/263 [==============================] - 36s 137ms/step - loss: 0.1763 - accuracy: 0.9618 - val_loss: 0.2965 - val_accuracy: 0.9369\n",
      "Epoch 6/12\n",
      "263/263 [==============================] - 37s 139ms/step - loss: 0.1427 - accuracy: 0.9702 - val_loss: 0.3405 - val_accuracy: 0.9192\n",
      "Epoch 7/12\n",
      "263/263 [==============================] - 37s 139ms/step - loss: 0.1226 - accuracy: 0.9765 - val_loss: 0.3551 - val_accuracy: 0.8738\n"
     ]
    }
   ],
   "source": [
    "model.compile(tf.optimizers.Adam(1e-3),loss = tf.keras.losses.SparseCategoricalCrossentropy(),metrics=[\"accuracy\"])\n",
    "\n",
    "hist1 = model.fit(train_ds,epochs = 2,validation_data=val_ds,initial_epoch=0,class_weight=class_weights)\n",
    "model = unfreeze_model(model)\n",
    "model.compile(tf.optimizers.Adam(1e-4),loss = tf.keras.losses.SparseCategoricalCrossentropy(),metrics=[\"accuracy\"])\n",
    "\n",
    "early_stop = tf.keras.callbacks.EarlyStopping(\n",
    "    monitor='val_loss',\n",
    "    min_delta=0,\n",
    "    patience=2,\n",
    "    restore_best_weights=True)\n",
    "\n",
    "\n",
    "hist2 = model.fit(train_ds,epochs = 12,validation_data=val_ds,initial_epoch=2, callbacks= [early_stop],class_weight=class_weights)\n"
   ]
  },
  {
   "cell_type": "code",
   "execution_count": 13,
   "metadata": {},
   "outputs": [],
   "source": [
    "os.makedirs(exp_pat,exist_ok=True)\n",
    "model.save_weights(os.path.join(exp_pat,\"warm.cpkt\"))"
   ]
  },
  {
   "cell_type": "code",
   "execution_count": 9,
   "metadata": {},
   "outputs": [
    {
     "name": "stdout",
     "output_type": "stream",
     "text": [
      "23/23 [==============================] - 1s 56ms/step\n"
     ]
    }
   ],
   "source": [
    "labels = np.concatenate(list(val_ds.map(lambda x,y: y)))\n",
    "pred = model.predict(val_ds,verbose=1)\n",
    "\n",
    "confusion_mtx = tf.math.confusion_matrix(labels,np.argmax(pred,axis=-1))\n"
   ]
  },
  {
   "cell_type": "code",
   "execution_count": 10,
   "metadata": {},
   "outputs": [
    {
     "data": {
      "text/plain": [
       "(array([0, 1, 2, 3, 4]), array([300, 300, 111, 400, 300], dtype=int64))"
      ]
     },
     "execution_count": 10,
     "metadata": {},
     "output_type": "execute_result"
    }
   ],
   "source": [
    "np.unique(labels,return_counts=True,)"
   ]
  },
  {
   "cell_type": "code",
   "execution_count": 11,
   "metadata": {},
   "outputs": [
    {
     "name": "stdout",
     "output_type": "stream",
     "text": [
      "Clear 0.8566666666666667\n",
      "Cloudy 0.9933333333333333\n",
      "Foggy 0.8378378378378378\n",
      "Rainy 0.98\n",
      "Snowy 0.94\n"
     ]
    }
   ],
   "source": [
    "p = np.argmax(pred,axis=1)\n",
    "for i in range(5):\n",
    "\n",
    "    mask = labels == i\n",
    "    acc = (labels[mask]==p[mask]).mean()\n",
    "    print(val_ds.class_names[i],acc)"
   ]
  },
  {
   "cell_type": "code",
   "execution_count": 12,
   "metadata": {},
   "outputs": [
    {
     "data": {
      "image/png": "[encoded data removed]",
      "text/plain": [
       "<Figure size 720x576 with 2 Axes>"
      ]
     },
     "metadata": {
      "needs_background": "light"
     },
     "output_type": "display_data"
    }
   ],
   "source": [
    "\n",
    "plt.figure(figsize=(10, 8))\n",
    "\n",
    "names =val_ds.class_names\n",
    "\n",
    "\n",
    "sns.heatmap(confusion_mtx, xticklabels=names, yticklabels=names, \n",
    "          annot=True, fmt='g')\n",
    "#plt.title(f\"Val Confusion Matrix - ACC {acc*100:.2f}%\",fontsize=18)\n",
    "plt.xlabel('Prediction')\n",
    "plt.ylabel('Label')\n",
    "\n",
    "plt.show()"
   ]
  },
  {
   "cell_type": "code",
   "execution_count": null,
   "metadata": {},
   "outputs": [
    {
     "data": {
      "text/plain": [
       "<BatchDataset element_spec=(TensorSpec(shape=(None, 224, 224, 3), dtype=tf.float32, name=None), TensorSpec(shape=(None,), dtype=tf.int32, name=None))>"
      ]
     },
     "execution_count": 8,
     "metadata": {},
     "output_type": "execute_result"
    }
   ],
   "source": [
    "val_ds"
   ]
  },
  {
   "cell_type": "code",
   "execution_count": null,
   "metadata": {},
   "outputs": [
    {
     "name": "stdout",
     "output_type": "stream",
     "text": [
      "Epoch 14/16\n",
      "193/193 [==============================] - 32s 143ms/step - loss: 0.1462 - accuracy: 0.9716 - val_loss: 0.9352 - val_accuracy: 0.7434\n",
      "Epoch 15/16\n",
      "193/193 [==============================] - 28s 142ms/step - loss: 0.1243 - accuracy: 0.9786 - val_loss: 1.3113 - val_accuracy: 0.6924\n",
      "Epoch 16/16\n",
      "193/193 [==============================] - 28s 143ms/step - loss: 0.1098 - accuracy: 0.9851 - val_loss: 1.2677 - val_accuracy: 0.7023\n"
     ]
    }
   ],
   "source": [
    "hist2 = model.fit(train_ds,epochs = 16,validation_data=val_ds,initial_epoch=13, callbacks= [early_stop])\n"
   ]
  },
  {
   "cell_type": "code",
   "execution_count": null,
   "metadata": {},
   "outputs": [],
   "source": []
  }
 ],
 "metadata": {
  "kernelspec": {
   "display_name": "Python 3.10.5 ('felix')",
   "language": "python",
   "name": "python3"
  },
  "language_info": {
   "codemirror_mode": {
    "name": "ipython",
    "version": 3
   },
   "file_extension": ".py",
   "mimetype": "text/x-python",
   "name": "python",
   "nbconvert_exporter": "python",
   "pygments_lexer": "ipython3",
   "version": "3.10.5"
  },
  "orig_nbformat": 4,
  "vscode": {
   "interpreter": {
    "hash": "64aad402826e5067045a3f2545cdf45209700db649eac24e1eb71cad2d7c755c"
   }
  }
 },
 "nbformat": 4,
 "nbformat_minor": 2
}
