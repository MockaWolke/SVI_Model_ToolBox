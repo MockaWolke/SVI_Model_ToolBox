{
 "cells": [
  {
   "cell_type": "code",
   "execution_count": 12,
   "metadata": {},
   "outputs": [],
   "source": [
    "import tensorflow as tf\n",
    "import os\n",
    "import seaborn as sns\n",
    "import matplotlib.pyplot as plt\n",
    "import sklearn\n",
    "import numpy as np\n",
    "exp_pat = \"ensemble\"\n",
    "Image_shape = 224\n",
    "BATCH_SIZE = 64\n",
    "tf.keras.backend.clear_session()\n"
   ]
  },
  {
   "cell_type": "code",
   "execution_count": 13,
   "metadata": {},
   "outputs": [
    {
     "name": "stdout",
     "output_type": "stream",
     "text": [
      "Found 21709 files belonging to 5 classes.\n",
      "Found 2672 files belonging to 5 classes.\n"
     ]
    },
    {
     "data": {
      "text/plain": [
       "{0: 1.0387081339712918,\n",
       " 1: 0.7484571625581796,\n",
       " 2: 3.714114627887083,\n",
       " 3: 0.6578484848484848,\n",
       " 4: 1.0966910836069714}"
      ]
     },
     "execution_count": 13,
     "metadata": {},
     "output_type": "execute_result"
    }
   ],
   "source": [
    "train_ds = tf.keras.utils.image_dataset_from_directory(r\"C:\\Felix\\weather_data_set_ready_to_train\\train\",\n",
    "shuffle=True,\n",
    "batch_size=BATCH_SIZE,\n",
    "image_size=(Image_shape,Image_shape))\n",
    "val_ds = tf.keras.utils.image_dataset_from_directory(r\"C:\\Felix\\weather_data_set_ready_to_train\\val\",\n",
    "shuffle=False,\n",
    "batch_size=BATCH_SIZE,\n",
    "image_size=(Image_shape,Image_shape))\n",
    "\n",
    "\n",
    "y_train = np.concatenate(list(train_ds.map(lambda x,y: y)))\n",
    "class_weights = sklearn.utils.class_weight.compute_class_weight(class_weight='balanced', classes=np.unique(y_train),  y=y_train)\n",
    "class_weights = {i:o for i,o in enumerate(class_weights)}\n",
    "class_weights"
   ]
  },
  {
   "cell_type": "code",
   "execution_count": 14,
   "metadata": {},
   "outputs": [],
   "source": [
    "def get_model(weights=None):\n",
    "\n",
    "    inputs = tf.keras.Input((Image_shape,Image_shape ,3))\n",
    "\n",
    "    img_augmentation = tf.keras.models.Sequential(\n",
    "    [\n",
    "        tf.keras.layers.RandomRotation(factor=0.2),\n",
    "        tf.keras.layers.RandomTranslation(height_factor=0.15, width_factor=0.15),\n",
    "        tf.keras.layers.RandomFlip(mode=\"horizontal\"),\n",
    "        tf.keras.layers.RandomContrast(factor=0.2)\n",
    "\n",
    "    ],\n",
    "    name=\"img_augmentation\",\n",
    "    )\n",
    "\n",
    "    x = img_augmentation(inputs)\n",
    "\n",
    "\n",
    "    base = tf.keras.applications.EfficientNetV2B0(\n",
    "    include_top=False,\n",
    "    weights='imagenet',\n",
    "    pooling=\"avg\"\n",
    "    )\n",
    "\n",
    "    base.trainable = False\n",
    "    x = base(x)\n",
    "\n",
    "    x = tf.keras.layers.BatchNormalization()(x)\n",
    "    x = tf.keras.layers.Dropout(.3, name=\"top_dropout\")(x)\n",
    "    outputs = tf.keras.layers.Dense(5, activation=\"softmax\", name=\"pred\",kernel_regularizer=tf.keras.regularizers.L2())(x)\n",
    "    model = tf.keras.Model(inputs, outputs)\n",
    "    if weights:\n",
    "        model.compile(tf.optimizers.Adam(1e-4 * 5),loss = tf.keras.losses.SparseCategoricalCrossentropy(),metrics=[\"accuracy\"])\n",
    "        model.load_weights(weights)\n",
    "    return model\n",
    "\n",
    "def unfreeze_model(model,n_layers = 20):\n",
    "    # We unfreeze the top 20 layers while leaving BatchNorm layers frozen\n",
    "    for layer in model.layers[-n_layers:]:\n",
    "        if not isinstance(layer, tf.keras.layers.BatchNormalization) and not isinstance(layer, tf.keras.layers.LayerNormalization):\n",
    "            layer.trainable = True\n",
    "    return model\n"
   ]
  },
  {
   "cell_type": "code",
   "execution_count": 15,
   "metadata": {},
   "outputs": [
    {
     "name": "stdout",
     "output_type": "stream",
     "text": [
      "Epoch 1/2\n",
      "340/340 [==============================] - 33s 70ms/step - loss: 0.6790 - accuracy: 0.7998 - val_loss: 0.9348 - val_accuracy: 0.7189\n",
      "Epoch 2/2\n",
      "340/340 [==============================] - 22s 65ms/step - loss: 0.3983 - accuracy: 0.8947 - val_loss: 0.8862 - val_accuracy: 0.7403\n",
      "Epoch 3/20\n",
      "340/340 [==============================] - 60s 154ms/step - loss: 0.2351 - accuracy: 0.9507 - val_loss: 0.3634 - val_accuracy: 0.9038\n",
      "Epoch 4/20\n",
      "340/340 [==============================] - 51s 149ms/step - loss: 0.1256 - accuracy: 0.9772 - val_loss: 0.2339 - val_accuracy: 0.9427\n",
      "Epoch 5/20\n",
      "340/340 [==============================] - 51s 149ms/step - loss: 0.1018 - accuracy: 0.9803 - val_loss: 0.1864 - val_accuracy: 0.9555\n",
      "Epoch 6/20\n",
      "340/340 [==============================] - 51s 150ms/step - loss: 0.0781 - accuracy: 0.9860 - val_loss: 0.1536 - val_accuracy: 0.9637\n",
      "Epoch 7/20\n",
      "340/340 [==============================] - 51s 148ms/step - loss: 0.0615 - accuracy: 0.9884 - val_loss: 0.1470 - val_accuracy: 0.9659\n",
      "Epoch 8/20\n",
      "340/340 [==============================] - 51s 150ms/step - loss: 0.0500 - accuracy: 0.9897 - val_loss: 0.1137 - val_accuracy: 0.9760\n",
      "Epoch 9/20\n",
      "340/340 [==============================] - 48s 142ms/step - loss: 0.0439 - accuracy: 0.9913 - val_loss: 0.1105 - val_accuracy: 0.9712\n",
      "Epoch 10/20\n",
      "340/340 [==============================] - 51s 149ms/step - loss: 0.0382 - accuracy: 0.9922 - val_loss: 0.1944 - val_accuracy: 0.9435\n",
      "Epoch 11/20\n",
      "340/340 [==============================] - 51s 149ms/step - loss: 0.0502 - accuracy: 0.9881 - val_loss: 0.1097 - val_accuracy: 0.9768\n",
      "Epoch 12/20\n",
      "340/340 [==============================] - 51s 148ms/step - loss: 0.0715 - accuracy: 0.9826 - val_loss: 0.1516 - val_accuracy: 0.9588\n",
      "Epoch 13/20\n",
      "340/340 [==============================] - 51s 148ms/step - loss: 0.0388 - accuracy: 0.9917 - val_loss: 0.1254 - val_accuracy: 0.9712\n",
      "Epoch 14/20\n",
      "340/340 [==============================] - 51s 149ms/step - loss: 0.0337 - accuracy: 0.9926 - val_loss: 0.1086 - val_accuracy: 0.9712\n",
      "Epoch 15/20\n",
      "340/340 [==============================] - 51s 148ms/step - loss: 0.0371 - accuracy: 0.9920 - val_loss: 0.1171 - val_accuracy: 0.9686\n",
      "Epoch 16/20\n",
      "340/340 [==============================] - 51s 149ms/step - loss: 0.0484 - accuracy: 0.9888 - val_loss: 0.1749 - val_accuracy: 0.9663\n",
      "Epoch 17/20\n",
      "340/340 [==============================] - 51s 148ms/step - loss: 0.0383 - accuracy: 0.9920 - val_loss: 0.1206 - val_accuracy: 0.9742\n",
      "Epoch 18/20\n",
      "340/340 [==============================] - 51s 148ms/step - loss: 0.0290 - accuracy: 0.9939 - val_loss: 0.0959 - val_accuracy: 0.9787\n",
      "Epoch 19/20\n",
      "340/340 [==============================] - 50s 147ms/step - loss: 0.0474 - accuracy: 0.9903 - val_loss: 0.2396 - val_accuracy: 0.9416\n",
      "Epoch 20/20\n",
      "340/340 [==============================] - 50s 148ms/step - loss: 0.0354 - accuracy: 0.9917 - val_loss: 0.1201 - val_accuracy: 0.9701\n"
     ]
    }
   ],
   "source": [
    "\n",
    "model = get_model()\n",
    "\n",
    "model.compile(tf.optimizers.Adam(1e-3),loss = tf.keras.losses.SparseCategoricalCrossentropy(),metrics=[\"accuracy\"])\n",
    "\n",
    "hist1 = model.fit(train_ds,epochs = 2,validation_data=val_ds,initial_epoch=0,class_weight=class_weights)\n",
    "model = unfreeze_model(model)\n",
    "model.compile(tf.optimizers.Adam(1e-4 * 5),loss = tf.keras.losses.SparseCategoricalCrossentropy(),metrics=[\"accuracy\"])\n",
    "\n",
    "early_stop = tf.keras.callbacks.EarlyStopping(\n",
    "    monitor='val_loss',\n",
    "    min_delta=0,\n",
    "    patience=4,\n",
    "    restore_best_weights=True)\n",
    "\n",
    "try:\n",
    "    hist2 = model.fit(train_ds,epochs = 20,validation_data=val_ds,initial_epoch=2, callbacks= [early_stop],class_weight=class_weights)\n",
    "except KeyboardInterrupt:\n",
    "    pass\n"
   ]
  },
  {
   "cell_type": "code",
   "execution_count": 17,
   "metadata": {},
   "outputs": [
    {
     "name": "stdout",
     "output_type": "stream",
     "text": [
      "Found 2673 files belonging to 5 classes.\n",
      "42/42 [==============================] - 3s 64ms/step - loss: 0.1308 - accuracy: 0.9697\n"
     ]
    },
    {
     "data": {
      "text/plain": [
       "[0.13084641098976135, 0.9696969985961914]"
      ]
     },
     "execution_count": 17,
     "metadata": {},
     "output_type": "execute_result"
    }
   ],
   "source": [
    "test_ds = tf.keras.utils.image_dataset_from_directory(r\"C:\\Felix\\weather_data_set_ready_to_train\\test\",\n",
    "shuffle=False,\n",
    "batch_size=BATCH_SIZE,\n",
    "image_size=(Image_shape,Image_shape))\n",
    "model.evaluate(test_ds)\n"
   ]
  },
  {
   "cell_type": "code",
   "execution_count": 20,
   "metadata": {},
   "outputs": [
    {
     "name": "stdout",
     "output_type": "stream",
     "text": [
      "42/42 [==============================] - 2s 53ms/step\n"
     ]
    }
   ],
   "source": [
    "labels = np.concatenate(list(test_ds.map(lambda x,y: y)))\n",
    "pred = model.predict(test_ds,verbose=1)\n",
    "\n",
    "confusion_mtx = tf.math.confusion_matrix(labels,np.argmax(pred,axis=-1))\n"
   ]
  },
  {
   "cell_type": "code",
   "execution_count": 21,
   "metadata": {},
   "outputs": [
    {
     "name": "stdout",
     "output_type": "stream",
     "text": [
      "Clear 0.9865900383141762\n",
      "Cloudy 0.9848275862068966\n",
      "Foggy 0.9333333333333333\n",
      "Rainy 0.9384422110552764\n",
      "Snowy 0.9916666666666667\n"
     ]
    }
   ],
   "source": [
    "p = np.argmax(pred,axis=1)\n",
    "for i in range(5):\n",
    "\n",
    "    mask = labels == i\n",
    "    acc = (labels[mask]==p[mask]).mean()\n",
    "    print(val_ds.class_names[i],acc)"
   ]
  },
  {
   "cell_type": "code",
   "execution_count": 29,
   "metadata": {},
   "outputs": [
    {
     "data": {
      "image/png": "[encoded data removed]",
      "text/plain": [
       "<Figure size 720x576 with 2 Axes>"
      ]
     },
     "metadata": {
      "needs_background": "light"
     },
     "output_type": "display_data"
    }
   ],
   "source": [
    "\n",
    "plt.figure(figsize=(10, 8))\n",
    "\n",
    "names =val_ds.class_names\n",
    "\n",
    "\n",
    "sns.heatmap(confusion_mtx, xticklabels=names, yticklabels=names, \n",
    "          annot=True, fmt='g')\n",
    "#plt.title(f\"Val Confusion Matrix - ACC {acc*100:.2f}%\",fontsize=18)\n",
    "plt.xlabel('Prediction')\n",
    "plt.ylabel('Label')\n",
    "plt.title(\"Test Dataset Confusion Matrix - ACC: 97%\")\n",
    "plt.savefig(\"Weather_Confusion_Matrix.jpg\")\n",
    "plt.show()"
   ]
  },
  {
   "cell_type": "code",
   "execution_count": 30,
   "metadata": {},
   "outputs": [
    {
     "name": "stdout",
     "output_type": "stream",
     "text": [
      "INFO:tensorflow:Assets written to: weathter_model\\assets\n"
     ]
    }
   ],
   "source": [
    "model.save(\"weathter_model\")"
   ]
  },
  {
   "cell_type": "code",
   "execution_count": 31,
   "metadata": {},
   "outputs": [],
   "source": [
    "os.makedirs(\"weather_model_weights\")\n",
    "model.save_weights(\"weather_model_weights/weights.ckpt\")"
   ]
  },
  {
   "cell_type": "code",
   "execution_count": 13,
   "metadata": {},
   "outputs": [
    {
     "data": {
      "text/plain": [
       "{'Clear': 0, 'Cloudy': 1, 'Foggy': 2, 'Rainy': 3, 'Snowy': 4}"
      ]
     },
     "execution_count": 13,
     "metadata": {},
     "output_type": "execute_result"
    }
   ],
   "source": [
    "{a:i for i,a in enumerate(test_ds.class_names)}"
   ]
  },
  {
   "cell_type": "code",
   "execution_count": 23,
   "metadata": {},
   "outputs": [
    {
     "data": {
      "text/plain": [
       "1.0"
      ]
     },
     "execution_count": 23,
     "metadata": {},
     "output_type": "execute_result"
    }
   ],
   "source": [
    "import pandas as pd\n",
    "df = pd.read_feather(\"../../weather_data_set_ready_to_train/df.feather\").query(\"ds_type == 'test'\")\n",
    "df[\"labels\"] = df.weather.map({a:i for i,a in enumerate(test_ds.class_names)})\n",
    "df.path = \"../../weather_data_set_ready_to_train/test/\"+df.weather + \"/\" + df.id\n",
    "df.path.apply(os.path.exists).mean()"
   ]
  },
  {
   "cell_type": "code",
   "execution_count": 24,
   "metadata": {},
   "outputs": [],
   "source": [
    "def mapping(path,label):\n",
    "\n",
    "    image = tf.io.read_file(path)\n",
    "    image = tf.io.decode_jpeg(image, channels=3)\n",
    "    image = tf.image.resize(image,[Image_shape,Image_shape])\n",
    "    return image, label\n",
    "ds = tf.data.Dataset.from_tensor_slices((df.path.values,df.labels.values)).map(mapping).batch(32)\n"
   ]
  },
  {
   "cell_type": "code",
   "execution_count": 25,
   "metadata": {},
   "outputs": [],
   "source": [
    "preds = np.argmax(model.predict(ds),axis=-1)"
   ]
  },
  {
   "cell_type": "code",
   "execution_count": 26,
   "metadata": {},
   "outputs": [
    {
     "data": {
      "text/plain": [
       "0.9696969696969697"
      ]
     },
     "execution_count": 26,
     "metadata": {},
     "output_type": "execute_result"
    }
   ],
   "source": [
    "(preds == df.labels).mean()"
   ]
  },
  {
   "cell_type": "code",
   "execution_count": 27,
   "metadata": {},
   "outputs": [
    {
     "name": "stderr",
     "output_type": "stream",
     "text": [
      "100%|██████████| 81/81 [00:05<00:00, 15.77it/s]\n"
     ]
    }
   ],
   "source": [
    "false = df[preds!=df.labels]\n",
    "f_pred = preds[preds!=df.labels]\n",
    "import tqdm\n",
    "out = \"false/\"\n",
    "os.makedirs(out,exist_ok=True)\n",
    "for i in tqdm.tqdm(range(len(false))):\n",
    "    row = false.iloc[i]\n",
    "    plt.figure(figsize=(10,10))\n",
    "    plt.imshow(plt.imread(row.path))\n",
    "    plt.axis(\"off\")\n",
    "    plt.title(f\"Prediction: {test_ds.class_names[f_pred[i]]} - Label: {row.weather} - {row.origin}\")\n",
    "    plt.savefig(out+str(i)+ \".jpg\")\n",
    "    plt.close()"
   ]
  },
  {
   "cell_type": "code",
   "execution_count": null,
   "metadata": {},
   "outputs": [],
   "source": []
  }
 ],
 "metadata": {
  "kernelspec": {
   "display_name": "Python 3.10.5 ('felix')",
   "language": "python",
   "name": "python3"
  },
  "language_info": {
   "codemirror_mode": {
    "name": "ipython",
    "version": 3
   },
   "file_extension": ".py",
   "mimetype": "text/x-python",
   "name": "python",
   "nbconvert_exporter": "python",
   "pygments_lexer": "ipython3",
   "version": "3.10.5"
  },
  "orig_nbformat": 4,
  "vscode": {
   "interpreter": {
    "hash": "64aad402826e5067045a3f2545cdf45209700db649eac24e1eb71cad2d7c755c"
   }
  }
 },
 "nbformat": 4,
 "nbformat_minor": 2
}
