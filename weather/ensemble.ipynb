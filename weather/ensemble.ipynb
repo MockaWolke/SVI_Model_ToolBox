{
 "cells": [
  {
   "cell_type": "code",
   "execution_count": 1,
   "metadata": {},
   "outputs": [],
   "source": [
    "import tensorflow as tf\n",
    "import os\n",
    "import seaborn as sns\n",
    "import matplotlib.pyplot as plt\n",
    "import sklearn\n",
    "import numpy as np\n",
    "exp_pat = \"ensemble\"\n",
    "Image_shape = 224\n",
    "BATCH_SIZE = 64\n"
   ]
  },
  {
   "cell_type": "code",
   "execution_count": 2,
   "metadata": {},
   "outputs": [
    {
     "name": "stdout",
     "output_type": "stream",
     "text": [
      "Found 16567 files belonging to 5 classes.\n",
      "Found 1571 files belonging to 5 classes.\n"
     ]
    }
   ],
   "source": [
    "train_ds = tf.keras.utils.image_dataset_from_directory(r\"C:\\Felix\\weather_data_set_ready_to_train\\train\",\n",
    "shuffle=True,\n",
    "batch_size=BATCH_SIZE,\n",
    "image_size=(300,300))\n",
    "val_ds = tf.keras.utils.image_dataset_from_directory(r\"C:\\Felix\\weather_data_set_ready_to_train\\val\",\n",
    "shuffle=False,\n",
    "batch_size=BATCH_SIZE,\n",
    "image_size=(300,300))\n",
    "\n",
    "\n",
    "y_train = np.concatenate(list(train_ds.map(lambda x,y: y)))\n",
    "class_weights = sklearn.utils.class_weight.compute_class_weight(class_weight='balanced', classes=np.unique(y_train),  y=y_train)\n",
    "class_weights = {i:o for i,o in enumerate(class_weights)}"
   ]
  },
  {
   "cell_type": "code",
   "execution_count": 3,
   "metadata": {},
   "outputs": [],
   "source": [
    "def get_model(weights=None):\n",
    "\n",
    "    inputs = tf.keras.Input((300,300 ,3))\n",
    "\n",
    "    img_augmentation = tf.keras.models.Sequential(\n",
    "    [\n",
    "        tf.keras.layers.RandomRotation(factor=0.2),\n",
    "        tf.keras.layers.RandomTranslation(height_factor=0.15, width_factor=0.15),\n",
    "        tf.keras.layers.RandomFlip(mode=\"horizontal\"),\n",
    "        tf.keras.layers.RandomContrast(factor=0.2),\n",
    "        tf.keras.layers.RandomCrop(Image_shape,Image_shape)\n",
    "\n",
    "    ],\n",
    "    name=\"img_augmentation\",\n",
    "    )\n",
    "\n",
    "    x = img_augmentation(inputs)\n",
    "\n",
    "\n",
    "    base = tf.keras.applications.EfficientNetV2B0(\n",
    "    include_top=False,\n",
    "    weights='imagenet',\n",
    "    pooling=\"avg\"\n",
    "    )\n",
    "\n",
    "    base.trainable = False\n",
    "    x = base(x)\n",
    "\n",
    "    x = tf.keras.layers.BatchNormalization()(x)\n",
    "    x = tf.keras.layers.Dropout(.3, name=\"top_dropout\")(x)\n",
    "    outputs = tf.keras.layers.Dense(5, activation=\"softmax\", name=\"pred\",kernel_regularizer=tf.keras.regularizers.L2())(x)\n",
    "    model = tf.keras.Model(inputs, outputs)\n",
    "    if weights:\n",
    "        model.compile(tf.optimizers.Adam(1e-4 * 5),loss = tf.keras.losses.SparseCategoricalCrossentropy(),metrics=[\"accuracy\"])\n",
    "        model.load_weights(weights)\n",
    "    return model\n",
    "\n",
    "def unfreeze_model(model,n_layers = 20):\n",
    "    # We unfreeze the top 20 layers while leaving BatchNorm layers frozen\n",
    "    for layer in model.layers[-n_layers:]:\n",
    "        if not isinstance(layer, tf.keras.layers.BatchNormalization) and not isinstance(layer, tf.keras.layers.LayerNormalization):\n",
    "            layer.trainable = True\n",
    "    return model\n"
   ]
  },
  {
   "cell_type": "code",
   "execution_count": 4,
   "metadata": {},
   "outputs": [
    {
     "name": "stdout",
     "output_type": "stream",
     "text": [
      "Epoch 1/2\n",
      "259/259 [==============================] - 30s 87ms/step - loss: 0.6100 - accuracy: 0.8253 - val_loss: 0.6882 - val_accuracy: 0.8440\n",
      "Epoch 2/2\n",
      "259/259 [==============================] - 21s 79ms/step - loss: 0.3533 - accuracy: 0.9099 - val_loss: 0.7800 - val_accuracy: 0.8415\n",
      "Epoch 3/20\n",
      "259/259 [==============================] - 50s 163ms/step - loss: 0.2382 - accuracy: 0.9419 - val_loss: 1.6421 - val_accuracy: 0.7670\n",
      "Epoch 4/20\n",
      "259/259 [==============================] - 41s 157ms/step - loss: 0.1416 - accuracy: 0.9698 - val_loss: 1.5315 - val_accuracy: 0.8542\n",
      "Epoch 5/20\n",
      "259/259 [==============================] - 41s 157ms/step - loss: 0.0991 - accuracy: 0.9809 - val_loss: 1.4255 - val_accuracy: 0.8523\n",
      "Epoch 6/20\n",
      "259/259 [==============================] - 41s 156ms/step - loss: 0.0893 - accuracy: 0.9801 - val_loss: 1.2857 - val_accuracy: 0.8593\n",
      "Epoch 7/20\n",
      "223/259 [========================>.....] - ETA: 5s - loss: 0.0728 - accuracy: 0.9851"
     ]
    }
   ],
   "source": [
    "\n",
    "model = get_model()\n",
    "\n",
    "model.compile(tf.optimizers.Adam(1e-3),loss = tf.keras.losses.SparseCategoricalCrossentropy(),metrics=[\"accuracy\"])\n",
    "\n",
    "hist1 = model.fit(train_ds,epochs = 2,validation_data=val_ds,initial_epoch=0,class_weight=class_weights)\n",
    "model = unfreeze_model(model)\n",
    "model.compile(tf.optimizers.Adam(1e-4 * 5),loss = tf.keras.losses.SparseCategoricalCrossentropy(),metrics=[\"accuracy\"])\n",
    "\n",
    "early_stop = tf.keras.callbacks.EarlyStopping(\n",
    "    monitor='val_loss',\n",
    "    min_delta=0,\n",
    "    patience=4,\n",
    "    restore_best_weights=True)\n",
    "\n",
    "try:\n",
    "    hist2 = model.fit(train_ds,epochs = 20,validation_data=val_ds,initial_epoch=2, callbacks= [early_stop],class_weight=class_weights)\n",
    "except KeyboardInterrupt:\n",
    "    pass\n"
   ]
  },
  {
   "cell_type": "code",
   "execution_count": 9,
   "metadata": {},
   "outputs": [
    {
     "name": "stdout",
     "output_type": "stream",
     "text": [
      "Found 1602 files belonging to 5 classes.\n",
      "26/26 [==============================] - 3s 64ms/step - loss: 2.2614 - accuracy: 0.6717\n"
     ]
    },
    {
     "data": {
      "text/plain": [
       "[2.261406898498535, 0.6716604232788086]"
      ]
     },
     "execution_count": 9,
     "metadata": {},
     "output_type": "execute_result"
    }
   ],
   "source": [
    "test_ds = tf.keras.utils.image_dataset_from_directory(r\"C:\\Felix\\weather_data_set_ready_to_train\\test\",\n",
    "shuffle=False,\n",
    "batch_size=BATCH_SIZE,\n",
    "image_size=(Image_shape,Image_shape))\n",
    "model.evaluate(test_ds)\n"
   ]
  },
  {
   "cell_type": "code",
   "execution_count": 5,
   "metadata": {},
   "outputs": [
    {
     "name": "stdout",
     "output_type": "stream",
     "text": [
      "25/25 [==============================] - 3s 78ms/step\n"
     ]
    }
   ],
   "source": [
    "labels = np.concatenate(list(val_ds.map(lambda x,y: y)))\n",
    "pred = model.predict(val_ds,verbose=1)\n",
    "\n",
    "confusion_mtx = tf.math.confusion_matrix(labels,np.argmax(pred,axis=-1))\n"
   ]
  },
  {
   "cell_type": "code",
   "execution_count": 6,
   "metadata": {},
   "outputs": [
    {
     "name": "stdout",
     "output_type": "stream",
     "text": [
      "Clear 0.9942307692307693\n",
      "Cloudy 0.556\n",
      "Foggy 0.7567567567567568\n",
      "Rainy 0.7897435897435897\n",
      "Snowy 0.9566666666666667\n"
     ]
    }
   ],
   "source": [
    "p = np.argmax(pred,axis=1)\n",
    "for i in range(5):\n",
    "\n",
    "    mask = labels == i\n",
    "    acc = (labels[mask]==p[mask]).mean()\n",
    "    print(val_ds.class_names[i],acc)"
   ]
  },
  {
   "cell_type": "code",
   "execution_count": 7,
   "metadata": {},
   "outputs": [
    {
     "data": {
      "image/png": "[encoded data removed]",
      "text/plain": [
       "<Figure size 720x576 with 2 Axes>"
      ]
     },
     "metadata": {
      "needs_background": "light"
     },
     "output_type": "display_data"
    }
   ],
   "source": [
    "\n",
    "plt.figure(figsize=(10, 8))\n",
    "\n",
    "names =val_ds.class_names\n",
    "\n",
    "\n",
    "sns.heatmap(confusion_mtx, xticklabels=names, yticklabels=names, \n",
    "          annot=True, fmt='g')\n",
    "#plt.title(f\"Val Confusion Matrix - ACC {acc*100:.2f}%\",fontsize=18)\n",
    "plt.xlabel('Prediction')\n",
    "plt.ylabel('Label')\n",
    "\n",
    "plt.show()"
   ]
  },
  {
   "cell_type": "code",
   "execution_count": 13,
   "metadata": {},
   "outputs": [
    {
     "data": {
      "text/plain": [
       "{'Clear': 0, 'Cloudy': 1, 'Foggy': 2, 'Rainy': 3, 'Snowy': 4}"
      ]
     },
     "execution_count": 13,
     "metadata": {},
     "output_type": "execute_result"
    }
   ],
   "source": [
    "{a:i for i,a in enumerate(test_ds.class_names)}"
   ]
  },
  {
   "cell_type": "code",
   "execution_count": 14,
   "metadata": {},
   "outputs": [
    {
     "data": {
      "text/plain": [
       "1.0"
      ]
     },
     "execution_count": 14,
     "metadata": {},
     "output_type": "execute_result"
    }
   ],
   "source": [
    "import pandas as pd\n",
    "df = pd.read_feather(\"../../weather_data_set_ready_to_train/df.feather\").query(\"ds_type == 'test'\")\n",
    "df[\"labels\"] = df.weather.map({a:i for i,a in enumerate(test_ds.class_names)})\n",
    "df.path = \"../../weather_data_set_ready_to_train/test/\"+df.weather + \"/\" + df.id\n",
    "df.path.apply(os.path.exists).mean()"
   ]
  },
  {
   "cell_type": "code",
   "execution_count": 15,
   "metadata": {},
   "outputs": [],
   "source": [
    "def mapping(path,label):\n",
    "\n",
    "    image = tf.io.read_file(path)\n",
    "    image = tf.io.decode_jpeg(image, channels=3)\n",
    "    image = tf.image.resize(image,[Image_shape,Image_shape])\n",
    "    return image, label\n",
    "ds = tf.data.Dataset.from_tensor_slices((df.path.values,df.labels.values)).map(mapping).batch(32)\n"
   ]
  },
  {
   "cell_type": "code",
   "execution_count": 16,
   "metadata": {},
   "outputs": [],
   "source": [
    "preds = np.argmax(model.predict(ds),axis=-1)"
   ]
  },
  {
   "cell_type": "code",
   "execution_count": 17,
   "metadata": {},
   "outputs": [
    {
     "data": {
      "text/plain": [
       "0.6716604244694132"
      ]
     },
     "execution_count": 17,
     "metadata": {},
     "output_type": "execute_result"
    }
   ],
   "source": [
    "(preds == df.labels).mean()"
   ]
  },
  {
   "cell_type": "code",
   "execution_count": 18,
   "metadata": {},
   "outputs": [
    {
     "name": "stderr",
     "output_type": "stream",
     "text": [
      "100%|██████████| 526/526 [00:29<00:00, 17.68it/s]\n"
     ]
    }
   ],
   "source": [
    "false = df[preds!=df.labels]\n",
    "f_pred = preds[preds!=df.labels]\n",
    "import tqdm\n",
    "out = \"false/\"\n",
    "os.makedirs(out,exist_ok=True)\n",
    "for i in tqdm.tqdm(range(len(false))):\n",
    "    row = false.iloc[i]\n",
    "    plt.figure(figsize=(10,10))\n",
    "    plt.imshow(plt.imread(row.path))\n",
    "    plt.axis(\"off\")\n",
    "    plt.title(f\"{test_ds.class_names[f_pred[i]]} - Label: {row.weather} - {row.origin}\")\n",
    "    plt.savefig(out+str(i)+ \".jpg\")\n",
    "    plt.close()"
   ]
  },
  {
   "cell_type": "code",
   "execution_count": null,
   "metadata": {},
   "outputs": [],
   "source": []
  }
 ],
 "metadata": {
  "kernelspec": {
   "display_name": "Python 3.10.5 ('felix')",
   "language": "python",
   "name": "python3"
  },
  "language_info": {
   "codemirror_mode": {
    "name": "ipython",
    "version": 3
   },
   "file_extension": ".py",
   "mimetype": "text/x-python",
   "name": "python",
   "nbconvert_exporter": "python",
   "pygments_lexer": "ipython3",
   "version": "3.10.5"
  },
  "orig_nbformat": 4,
  "vscode": {
   "interpreter": {
    "hash": "64aad402826e5067045a3f2545cdf45209700db649eac24e1eb71cad2d7c755c"
   }
  }
 },
 "nbformat": 4,
 "nbformat_minor": 2
}
