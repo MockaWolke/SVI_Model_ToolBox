{
  "nbformat": 4,
  "nbformat_minor": 0,
  "metadata": {
    "colab": {
      "name": "ND_Traininng_own_cnn.ipynb",
      "provenance": [],
      "collapsed_sections": [],
      "authorship_tag": "ABX9TyOu7xHKZVZ29bgvrQVGn2kW",
      "include_colab_link": true
    },
    "kernelspec": {
      "name": "python3",
      "display_name": "Python 3"
    },
    "language_info": {
      "name": "python"
    },
    "accelerator": "GPU",
    "gpuClass": "standard"
  },
  "cells": [
    {
      "cell_type": "markdown",
      "metadata": {
        "id": "view-in-github",
        "colab_type": "text"
      },
      "source": [
        "<a href=\"https://colab.research.google.com/github/MockaWolke/SVI_Model_ToolBox/blob/master/ND_Traininng_own_cnn.ipynb\" target=\"_parent\"><img src=\"https://colab.research.google.com/assets/colab-badge.svg\" alt=\"Open In Colab\"/></a>"
      ]
    },
    {
      "cell_type": "code",
      "execution_count": null,
      "metadata": {
        "colab": {
          "base_uri": "https://localhost:8080/"
        },
        "id": "E5wMo4CX9J4a",
        "outputId": "2bd1556d-fc70-4bc1-b1ba-209a08f3fa50"
      },
      "outputs": [
        {
          "output_type": "stream",
          "name": "stdout",
          "text": [
            "Cloning into 'SVI_Model_ToolBox'...\n",
            "remote: Enumerating objects: 110, done.\u001b[K\n",
            "remote: Total 110 (delta 0), reused 0 (delta 0), pack-reused 110\u001b[K\n",
            "Receiving objects: 100% (110/110), 94.16 MiB | 13.91 MiB/s, done.\n",
            "Resolving deltas: 100% (20/20), done.\n",
            "Checking out files: 100% (80/80), done.\n",
            "Mounted at /content/drive\n"
          ]
        }
      ],
      "source": [
        "!git clone https://github.com/MockaWolke/SVI_Model_ToolBox.git\n",
        "from google.colab import drive\n",
        "drive.mount('/content/drive')\n",
        "!cp drive/MyDrive/UAL/ND_Data.zip ND_Data.zip \n",
        "!unzip -q ND_Data.zip -d SVI_Model_ToolBox\n",
        "!rm  ND_Data.zip\n",
        "!mkdir SVI_Model_ToolBox/model_info\n",
        "!mkdir SVI_Model_ToolBox/model_info/logs\n",
        "!mkdir SVI_Model_ToolBox/model_info/weights\n",
        "!mkdir SVI_Model_ToolBox/model_info/models\n",
        "\n",
        "import tensorflow as tf\n",
        "import pandas as pd\n",
        "import numpy as np\n",
        "import tensorflow_datasets as tfds\n",
        "import os\n",
        "os.chdir(\"SVI_Model_ToolBox\")\n",
        "import ds_generator\n",
        "import models\n",
        "import plotting"
      ]
    },
    {
      "cell_type": "code",
      "source": [
        "df = pd.read_csv(\"ND_Data/data.csv\",index_col = 0)\n",
        "train_df = df.loc[df[\"ds_type\"]==\"train\"]\n",
        "val_df = df.loc[df[\"ds_type\"]==\"val\"]"
      ],
      "metadata": {
        "id": "lgtlts1B_Ht_"
      },
      "execution_count": null,
      "outputs": []
    },
    {
      "cell_type": "code",
      "source": [
        "df.head()"
      ],
      "metadata": {
        "colab": {
          "base_uri": "https://localhost:8080/",
          "height": 206
        },
        "id": "ldECfJvZ_aDp",
        "outputId": "58cc4f44-9d03-49c6-8483-04c7f6688694"
      },
      "execution_count": null,
      "outputs": [
        {
          "output_type": "execute_result",
          "data": {
            "text/plain": [
              "                      key        easting      northing view_direction  \\\n",
              "0  08X75PE9Ij8oqD9SH2GJZw  415481.066516  6.188003e+06        Forward   \n",
              "1  sf9VFjm2v6Apae8ASW3MTA  330192.964011 -4.197296e+06        Forward   \n",
              "2  CrIzVu-uN3Ri8R30Exjo_g  623775.788294  5.804146e+06        Forward   \n",
              "3  tWUUxtJHfAvnGkD4wGzn2Q  411252.605886  3.716269e+06        Forward   \n",
              "4  rJ91PhdsaVVVYSUDWpiQhg  382706.691773  6.671440e+06        Forward   \n",
              "\n",
              "             sequence_key                                      Path  \\\n",
              "0  qqbnlmi5l2fv5z7ktpxqa0     Places_Data/train_val/moscow/database   \n",
              "1  ppvzgiujnoc1eoeyi2j1zk     Places_Data/train_val/melbourne/query   \n",
              "2  E7PW3VQOLaw2vS44WjULkw  Places_Data/train_val/amsterdam/database   \n",
              "3  ZWzBdDt6Rqu3obfFvHOdEA    Places_Data/train_val/phoenix/database   \n",
              "4  qVzgSOt-Be6mKEy_zVAomw   Places_Data/train_val/helsinki/database   \n",
              "\n",
              "        City night_name ds_type  \n",
              "0     moscow      Night   train  \n",
              "1  melbourne        Day   train  \n",
              "2  amsterdam        Day   train  \n",
              "3    phoenix        Day   train  \n",
              "4   helsinki        Day   train  "
            ],
            "text/html": [
              "\n",
              "  <div id=\"df-bbc7d920-0212-4a73-8bae-be664bed4783\">\n",
              "    <div class=\"colab-df-container\">\n",
              "      <div>\n",
              "<style scoped>\n",
              "    .dataframe tbody tr th:only-of-type {\n",
              "        vertical-align: middle;\n",
              "    }\n",
              "\n",
              "    .dataframe tbody tr th {\n",
              "        vertical-align: top;\n",
              "    }\n",
              "\n",
              "    .dataframe thead th {\n",
              "        text-align: right;\n",
              "    }\n",
              "</style>\n",
              "<table border=\"1\" class=\"dataframe\">\n",
              "  <thead>\n",
              "    <tr style=\"text-align: right;\">\n",
              "      <th></th>\n",
              "      <th>key</th>\n",
              "      <th>easting</th>\n",
              "      <th>northing</th>\n",
              "      <th>view_direction</th>\n",
              "      <th>sequence_key</th>\n",
              "      <th>Path</th>\n",
              "      <th>City</th>\n",
              "      <th>night_name</th>\n",
              "      <th>ds_type</th>\n",
              "    </tr>\n",
              "  </thead>\n",
              "  <tbody>\n",
              "    <tr>\n",
              "      <th>0</th>\n",
              "      <td>08X75PE9Ij8oqD9SH2GJZw</td>\n",
              "      <td>415481.066516</td>\n",
              "      <td>6.188003e+06</td>\n",
              "      <td>Forward</td>\n",
              "      <td>qqbnlmi5l2fv5z7ktpxqa0</td>\n",
              "      <td>Places_Data/train_val/moscow/database</td>\n",
              "      <td>moscow</td>\n",
              "      <td>Night</td>\n",
              "      <td>train</td>\n",
              "    </tr>\n",
              "    <tr>\n",
              "      <th>1</th>\n",
              "      <td>sf9VFjm2v6Apae8ASW3MTA</td>\n",
              "      <td>330192.964011</td>\n",
              "      <td>-4.197296e+06</td>\n",
              "      <td>Forward</td>\n",
              "      <td>ppvzgiujnoc1eoeyi2j1zk</td>\n",
              "      <td>Places_Data/train_val/melbourne/query</td>\n",
              "      <td>melbourne</td>\n",
              "      <td>Day</td>\n",
              "      <td>train</td>\n",
              "    </tr>\n",
              "    <tr>\n",
              "      <th>2</th>\n",
              "      <td>CrIzVu-uN3Ri8R30Exjo_g</td>\n",
              "      <td>623775.788294</td>\n",
              "      <td>5.804146e+06</td>\n",
              "      <td>Forward</td>\n",
              "      <td>E7PW3VQOLaw2vS44WjULkw</td>\n",
              "      <td>Places_Data/train_val/amsterdam/database</td>\n",
              "      <td>amsterdam</td>\n",
              "      <td>Day</td>\n",
              "      <td>train</td>\n",
              "    </tr>\n",
              "    <tr>\n",
              "      <th>3</th>\n",
              "      <td>tWUUxtJHfAvnGkD4wGzn2Q</td>\n",
              "      <td>411252.605886</td>\n",
              "      <td>3.716269e+06</td>\n",
              "      <td>Forward</td>\n",
              "      <td>ZWzBdDt6Rqu3obfFvHOdEA</td>\n",
              "      <td>Places_Data/train_val/phoenix/database</td>\n",
              "      <td>phoenix</td>\n",
              "      <td>Day</td>\n",
              "      <td>train</td>\n",
              "    </tr>\n",
              "    <tr>\n",
              "      <th>4</th>\n",
              "      <td>rJ91PhdsaVVVYSUDWpiQhg</td>\n",
              "      <td>382706.691773</td>\n",
              "      <td>6.671440e+06</td>\n",
              "      <td>Forward</td>\n",
              "      <td>qVzgSOt-Be6mKEy_zVAomw</td>\n",
              "      <td>Places_Data/train_val/helsinki/database</td>\n",
              "      <td>helsinki</td>\n",
              "      <td>Day</td>\n",
              "      <td>train</td>\n",
              "    </tr>\n",
              "  </tbody>\n",
              "</table>\n",
              "</div>\n",
              "      <button class=\"colab-df-convert\" onclick=\"convertToInteractive('df-bbc7d920-0212-4a73-8bae-be664bed4783')\"\n",
              "              title=\"Convert this dataframe to an interactive table.\"\n",
              "              style=\"display:none;\">\n",
              "        \n",
              "  <svg xmlns=\"http://www.w3.org/2000/svg\" height=\"24px\"viewBox=\"0 0 24 24\"\n",
              "       width=\"24px\">\n",
              "    <path d=\"M0 0h24v24H0V0z\" fill=\"none\"/>\n",
              "    <path d=\"M18.56 5.44l.94 2.06.94-2.06 2.06-.94-2.06-.94-.94-2.06-.94 2.06-2.06.94zm-11 1L8.5 8.5l.94-2.06 2.06-.94-2.06-.94L8.5 2.5l-.94 2.06-2.06.94zm10 10l.94 2.06.94-2.06 2.06-.94-2.06-.94-.94-2.06-.94 2.06-2.06.94z\"/><path d=\"M17.41 7.96l-1.37-1.37c-.4-.4-.92-.59-1.43-.59-.52 0-1.04.2-1.43.59L10.3 9.45l-7.72 7.72c-.78.78-.78 2.05 0 2.83L4 21.41c.39.39.9.59 1.41.59.51 0 1.02-.2 1.41-.59l7.78-7.78 2.81-2.81c.8-.78.8-2.07 0-2.86zM5.41 20L4 18.59l7.72-7.72 1.47 1.35L5.41 20z\"/>\n",
              "  </svg>\n",
              "      </button>\n",
              "      \n",
              "  <style>\n",
              "    .colab-df-container {\n",
              "      display:flex;\n",
              "      flex-wrap:wrap;\n",
              "      gap: 12px;\n",
              "    }\n",
              "\n",
              "    .colab-df-convert {\n",
              "      background-color: #E8F0FE;\n",
              "      border: none;\n",
              "      border-radius: 50%;\n",
              "      cursor: pointer;\n",
              "      display: none;\n",
              "      fill: #1967D2;\n",
              "      height: 32px;\n",
              "      padding: 0 0 0 0;\n",
              "      width: 32px;\n",
              "    }\n",
              "\n",
              "    .colab-df-convert:hover {\n",
              "      background-color: #E2EBFA;\n",
              "      box-shadow: 0px 1px 2px rgba(60, 64, 67, 0.3), 0px 1px 3px 1px rgba(60, 64, 67, 0.15);\n",
              "      fill: #174EA6;\n",
              "    }\n",
              "\n",
              "    [theme=dark] .colab-df-convert {\n",
              "      background-color: #3B4455;\n",
              "      fill: #D2E3FC;\n",
              "    }\n",
              "\n",
              "    [theme=dark] .colab-df-convert:hover {\n",
              "      background-color: #434B5C;\n",
              "      box-shadow: 0px 1px 3px 1px rgba(0, 0, 0, 0.15);\n",
              "      filter: drop-shadow(0px 1px 2px rgba(0, 0, 0, 0.3));\n",
              "      fill: #FFFFFF;\n",
              "    }\n",
              "  </style>\n",
              "\n",
              "      <script>\n",
              "        const buttonEl =\n",
              "          document.querySelector('#df-bbc7d920-0212-4a73-8bae-be664bed4783 button.colab-df-convert');\n",
              "        buttonEl.style.display =\n",
              "          google.colab.kernel.accessAllowed ? 'block' : 'none';\n",
              "\n",
              "        async function convertToInteractive(key) {\n",
              "          const element = document.querySelector('#df-bbc7d920-0212-4a73-8bae-be664bed4783');\n",
              "          const dataTable =\n",
              "            await google.colab.kernel.invokeFunction('convertToInteractive',\n",
              "                                                     [key], {});\n",
              "          if (!dataTable) return;\n",
              "\n",
              "          const docLinkHtml = 'Like what you see? Visit the ' +\n",
              "            '<a target=\"_blank\" href=https://colab.research.google.com/notebooks/data_table.ipynb>data table notebook</a>'\n",
              "            + ' to learn more about interactive tables.';\n",
              "          element.innerHTML = '';\n",
              "          dataTable['output_type'] = 'display_data';\n",
              "          await google.colab.output.renderOutput(dataTable, element);\n",
              "          const docLink = document.createElement('div');\n",
              "          docLink.innerHTML = docLinkHtml;\n",
              "          element.appendChild(docLink);\n",
              "        }\n",
              "      </script>\n",
              "    </div>\n",
              "  </div>\n",
              "  "
            ]
          },
          "metadata": {},
          "execution_count": 3
        }
      ]
    },
    {
      "cell_type": "code",
      "source": [
        "\"\"\"\n",
        "Generate tf Datasets for training\n",
        "\"\"\"\n",
        "\n",
        "import pandas as pd\n",
        "import numpy as np\n",
        "import tensorflow as tf\n",
        "import tensorflow_datasets as tfds\n",
        "\n",
        "label_dict = {\"Night\":1, \"Day\":0}\n",
        "batch_size = 64\n",
        "\n",
        "def mapping(path,label):\n",
        "\n",
        "    image = tf.io.read_file(path)\n",
        "    image = tf.cast(tf.io.decode_jpeg(image, channels=3),tf.float32)\n",
        "    label = tf.one_hot(label,2)\n",
        "    return image, label\n",
        "\n",
        "\n",
        "\n",
        "def get_ds(df, kind = \"train\"): \n",
        "\n",
        "    path = f\"ND_Data/{kind}/\"\n",
        "    imgs = df[\"key\"] + \".jpg\"\n",
        "\n",
        "    #assert all([img in os.listdir(path) for img in imgs]), \"Immage not found\"\n",
        "\n",
        "    image_paths = path + imgs\n",
        "\n",
        "    labels = df[\"night_name\"].map(label_dict)\n",
        "\n",
        "    ds = tf.data.Dataset.from_tensor_slices((image_paths,labels))\n",
        "\n",
        "    ds = ds.map(mapping)\n",
        "    ds = ds.batch(batch_size=batch_size, drop_remainder=True)\n",
        "    ds = ds.prefetch(tf.data.AUTOTUNE)\n",
        "\n",
        "    return ds\n",
        "\n",
        "\n",
        "def get_train_and_val():\n",
        "\n",
        "    train_ds = get_ds(train_df,kind=\"train\")\n",
        "    val_ds = get_ds(val_df,kind=\"val\")\n",
        "\n",
        "    return train_ds,val_ds\n",
        "\n",
        "\n",
        "train_ds, val_ds = get_train_and_val()"
      ],
      "metadata": {
        "id": "Qt0JuCyG_ZX6"
      },
      "execution_count": null,
      "outputs": []
    },
    {
      "cell_type": "code",
      "source": [
        "import tensorflow.keras.layers as layers\n",
        "\n",
        "# some img_augmentation\n",
        "img_augmentation = tf.keras.models.Sequential(\n",
        "    [\n",
        "        tf.keras.layers.RandomRotation(factor=0.15),\n",
        "        tf.keras.layers.RandomTranslation(height_factor=0.1, width_factor=0.1),\n",
        "        tf.keras.layers.RandomFlip(mode=\"horizontal\"),\n",
        "        tf.keras.layers.RandomContrast(factor=0.1),\n",
        "    ],\n",
        "    name=\"img_augmentation\",\n",
        ")\n",
        "\n",
        "def transfer_model(number_classes,loss,architecture = tf.keras.applications.efficientnet.EfficientNetB2,name=None):\n",
        "\n",
        "    inputs = tf.keras.Input([260,260,3])\n",
        "    x = tf.keras.layers.Resizing(224,224)(inputs)\n",
        "\n",
        "    x = img_augmentation(x) # apply image augmentaion\n",
        "\n",
        "    print(x.shape)\n",
        "\n",
        "    model = architecture(\n",
        "        include_top=False,\n",
        "        weights='imagenet',\n",
        "        input_tensor= x)\n",
        "\n",
        "    # Freeze the pretrained weights\n",
        "    model.trainable = False\n",
        "\n",
        "    # Rebuild top\n",
        "    x = layers.GlobalAveragePooling2D(name=\"avg_pool\")(model.output)\n",
        "    x = layers.BatchNormalization()(x)\n",
        "\n",
        "    top_dropout_rate = 0.45\n",
        "    x = layers.Dropout(top_dropout_rate, name=\"top_dropout\")(x)\n",
        "    outputs = layers.Dense(number_classes, activation=\"softmax\", name=\"pred\",kernel_regularizer=tf.keras.regularizers.L2())(x)\n",
        "\n",
        "    # Compile\n",
        "    model = tf.keras.Model(inputs, outputs, name=name)\n",
        "\n",
        "    return model\n",
        "\n",
        "\n",
        "inputs = tf.keras.Input([260,260,3])\n",
        "\n",
        "x = img_augmentation(inputs)\n",
        "\n",
        "x = layers.Conv2D(32,9,strides=4) (x)\n",
        "x = layers.BatchNormalization()(x)\n",
        "x = layers.ReLU() (x)\n",
        "x = layers.MaxPool2D(2) (x)\n",
        "x = layers.Conv2D(64,7,strides=3) (x)\n",
        "x = layers.BatchNormalization()(x)\n",
        "x = layers.ReLU() (x)\n",
        "x = layers.MaxPool2D(2) (x)\n",
        "\n",
        "x = layers.Conv2D(64,3,strides=2)(x)\n",
        "x = layers.BatchNormalization()(x)\n",
        "x = layers.ReLU() (x)\n",
        "x = layers.GlobalMaxPooling2D(name=\"avg_pool\")(x)\n",
        "x = layers.Dropout(0.15, name=\"top_dropout\")(x)\n",
        "outputs = layers.Dense(2, activation=\"softmax\", name=\"pred\",kernel_regularizer=tf.keras.regularizers.L2())(x)\n",
        "model = tf.keras.Model(inputs, outputs, name=\"try_drop\")"
      ],
      "metadata": {
        "id": "XLy1bknGJ_ro"
      },
      "execution_count": null,
      "outputs": []
    },
    {
      "cell_type": "code",
      "source": [
        "\n",
        "model.compile(optimizer=tf.keras.optimizers.Adam(0.0001),loss=tf.keras.losses.BinaryCrossentropy(),metrics=[\"accuracy\"])"
      ],
      "metadata": {
        "id": "9qL3C0rN_yVJ"
      },
      "execution_count": null,
      "outputs": []
    },
    {
      "cell_type": "code",
      "source": [
        "log_dir = f\"model_info/logs/\" + model.name \n",
        "checkpoint_path = f\"model_info/weights/{model.name}/\"\n",
        "last_model = f\"model_info/models/{model.name}\"\n",
        "\n",
        "# os.makedirs(log_dir)\n",
        "# os.makedirs(checkpoint_path)\n",
        "# os.makedirs(last_model)\n",
        "\n",
        "tensorboard_callback = tf.keras.callbacks.TensorBoard(log_dir=log_dir)\n",
        "\n",
        "cp_callback = tf.keras.callbacks.ModelCheckpoint(\n",
        "    filepath=checkpoint_path+ \"weights\",\n",
        "    verbose=1,\n",
        "    monitor='val_accuracy',\n",
        "    save_weights_only=True,\n",
        "    save_best_only=True)\n",
        "\n",
        "early_stopping_callback = tf.keras.callbacks.EarlyStopping(\n",
        "    monitor='val_accuracy',\n",
        "    min_delta=0.02,\n",
        "    patience=8,\n",
        "    verbose=1,\n",
        "    mode='auto',\n",
        "    restore_best_weights=True\n",
        ") "
      ],
      "metadata": {
        "id": "yMO4IWtsA26a"
      },
      "execution_count": null,
      "outputs": []
    },
    {
      "cell_type": "code",
      "source": [
        "hist = model.fit(train_ds, epochs=10, validation_data=val_ds,callbacks=[tensorboard_callback,cp_callback,early_stopping_callback])"
      ],
      "metadata": {
        "colab": {
          "base_uri": "https://localhost:8080/"
        },
        "id": "7wxjhNPfA-vh",
        "outputId": "d02dba44-57ac-4633-9b99-8a61015ebf68"
      },
      "execution_count": null,
      "outputs": [
        {
          "output_type": "stream",
          "name": "stdout",
          "text": [
            "Epoch 1/10\n",
            "347/347 [==============================] - ETA: 0s - loss: 0.2220 - accuracy: 0.9742\n",
            "Epoch 1: val_accuracy improved from -inf to 0.94271, saving model to model_info/weights/try_drop/weights\n",
            "347/347 [==============================] - 37s 64ms/step - loss: 0.2220 - accuracy: 0.9742 - val_loss: 0.2173 - val_accuracy: 0.9427\n",
            "Epoch 2/10\n",
            "347/347 [==============================] - ETA: 0s - loss: 0.1406 - accuracy: 0.9858\n",
            "Epoch 2: val_accuracy improved from 0.94271 to 0.95685, saving model to model_info/weights/try_drop/weights\n",
            "347/347 [==============================] - 22s 63ms/step - loss: 0.1406 - accuracy: 0.9858 - val_loss: 0.1891 - val_accuracy: 0.9568\n",
            "Epoch 3/10\n",
            "347/347 [==============================] - ETA: 0s - loss: 0.1185 - accuracy: 0.9859\n",
            "Epoch 3: val_accuracy did not improve from 0.95685\n",
            "347/347 [==============================] - 26s 74ms/step - loss: 0.1185 - accuracy: 0.9859 - val_loss: 0.1917 - val_accuracy: 0.9479\n",
            "Epoch 4/10\n",
            "346/347 [============================>.] - ETA: 0s - loss: 0.1041 - accuracy: 0.9876\n",
            "Epoch 4: val_accuracy did not improve from 0.95685\n",
            "347/347 [==============================] - 24s 69ms/step - loss: 0.1041 - accuracy: 0.9876 - val_loss: 0.1844 - val_accuracy: 0.9484\n",
            "Epoch 5/10\n",
            "347/347 [==============================] - ETA: 0s - loss: 0.0961 - accuracy: 0.9884\n",
            "Epoch 5: val_accuracy improved from 0.95685 to 0.96131, saving model to model_info/weights/try_drop/weights\n",
            "347/347 [==============================] - 24s 70ms/step - loss: 0.0961 - accuracy: 0.9884 - val_loss: 0.1641 - val_accuracy: 0.9613\n",
            "Epoch 6/10\n",
            "347/347 [==============================] - ETA: 0s - loss: 0.0901 - accuracy: 0.9883\n",
            "Epoch 6: val_accuracy did not improve from 0.96131\n",
            "347/347 [==============================] - 24s 68ms/step - loss: 0.0901 - accuracy: 0.9883 - val_loss: 0.1631 - val_accuracy: 0.9596\n",
            "Epoch 7/10\n",
            "347/347 [==============================] - ETA: 0s - loss: 0.0840 - accuracy: 0.9887\n",
            "Epoch 7: val_accuracy improved from 0.96131 to 0.96627, saving model to model_info/weights/try_drop/weights\n",
            "347/347 [==============================] - 22s 64ms/step - loss: 0.0840 - accuracy: 0.9887 - val_loss: 0.1659 - val_accuracy: 0.9663\n",
            "Epoch 8/10\n",
            "346/347 [============================>.] - ETA: 0s - loss: 0.0807 - accuracy: 0.9888\n",
            "Epoch 8: val_accuracy did not improve from 0.96627\n",
            "347/347 [==============================] - 22s 63ms/step - loss: 0.0806 - accuracy: 0.9889 - val_loss: 0.1477 - val_accuracy: 0.9653\n",
            "Epoch 9/10\n",
            "347/347 [==============================] - ETA: 0s - loss: 0.0747 - accuracy: 0.9902\n",
            "Epoch 9: val_accuracy did not improve from 0.96627\n",
            "347/347 [==============================] - 26s 74ms/step - loss: 0.0747 - accuracy: 0.9902 - val_loss: 0.1442 - val_accuracy: 0.9625\n",
            "Epoch 10/10\n",
            "347/347 [==============================] - ETA: 0s - loss: 0.0734 - accuracy: 0.9888\n",
            "Epoch 10: val_accuracy improved from 0.96627 to 0.96974, saving model to model_info/weights/try_drop/weights\n",
            "347/347 [==============================] - 25s 71ms/step - loss: 0.0734 - accuracy: 0.9888 - val_loss: 0.1402 - val_accuracy: 0.9697\n"
          ]
        }
      ]
    },
    {
      "cell_type": "code",
      "source": [
        "model._name = \"try_drop_fur\"\n",
        "log_dir = f\"model_info/logs/\" + model.name \n",
        "checkpoint_path = f\"model_info/weights/{model.name}/\"\n",
        "last_model = f\"model_info/models/{model.name}\"\n",
        "\n",
        "# os.makedirs(log_dir)\n",
        "# os.makedirs(checkpoint_path)\n",
        "# os.makedirs(last_model)\n",
        "\n",
        "tensorboard_callback = tf.keras.callbacks.TensorBoard(log_dir=log_dir)\n",
        "\n",
        "cp_callback = tf.keras.callbacks.ModelCheckpoint(\n",
        "    filepath=checkpoint_path+ \"weights\",\n",
        "    verbose=1,\n",
        "    monitor='val_accuracy',\n",
        "    save_weights_only=True,\n",
        "    save_best_only=True)\n",
        "\n",
        "early_stopping_callback = tf.keras.callbacks.EarlyStopping(\n",
        "    monitor='val_accuracy',\n",
        "    min_delta=0.02,\n",
        "    patience=8,\n",
        "    verbose=1,\n",
        "    mode='auto',\n",
        "    restore_best_weights=True\n",
        ") "
      ],
      "metadata": {
        "id": "ZsOZxJnJ4H3A"
      },
      "execution_count": null,
      "outputs": []
    },
    {
      "cell_type": "code",
      "source": [
        "hist2 = model.fit(train_ds, epochs=20, validation_data=val_ds,callbacks=[tensorboard_callback,cp_callback,early_stopping_callback],initial_epoch=10)"
      ],
      "metadata": {
        "colab": {
          "base_uri": "https://localhost:8080/"
        },
        "id": "PJaWMqi34OG5",
        "outputId": "30e2b8ff-72b5-43e9-dedc-3ba4f93c3836"
      },
      "execution_count": null,
      "outputs": [
        {
          "output_type": "stream",
          "name": "stdout",
          "text": [
            "Epoch 11/20\n",
            "347/347 [==============================] - ETA: 0s - loss: 0.0707 - accuracy: 0.9892\n",
            "Epoch 11: val_accuracy improved from -inf to 0.97197, saving model to model_info/weights/try_drop_fur/weights\n",
            "347/347 [==============================] - 36s 104ms/step - loss: 0.0707 - accuracy: 0.9892 - val_loss: 0.1371 - val_accuracy: 0.9720\n",
            "Epoch 12/20\n",
            "347/347 [==============================] - ETA: 0s - loss: 0.0666 - accuracy: 0.9897\n",
            "Epoch 12: val_accuracy did not improve from 0.97197\n",
            "347/347 [==============================] - 22s 64ms/step - loss: 0.0666 - accuracy: 0.9897 - val_loss: 0.1347 - val_accuracy: 0.9668\n",
            "Epoch 13/20\n",
            "347/347 [==============================] - ETA: 0s - loss: 0.0638 - accuracy: 0.9907\n",
            "Epoch 13: val_accuracy did not improve from 0.97197\n",
            "347/347 [==============================] - 22s 63ms/step - loss: 0.0638 - accuracy: 0.9907 - val_loss: 0.1345 - val_accuracy: 0.9688\n",
            "Epoch 14/20\n",
            "347/347 [==============================] - ETA: 0s - loss: 0.0620 - accuracy: 0.9903\n",
            "Epoch 14: val_accuracy did not improve from 0.97197\n",
            "347/347 [==============================] - 23s 65ms/step - loss: 0.0620 - accuracy: 0.9903 - val_loss: 0.1365 - val_accuracy: 0.9635\n",
            "Epoch 15/20\n",
            "347/347 [==============================] - ETA: 0s - loss: 0.0595 - accuracy: 0.9908\n",
            "Epoch 15: val_accuracy did not improve from 0.97197\n",
            "347/347 [==============================] - 26s 75ms/step - loss: 0.0595 - accuracy: 0.9908 - val_loss: 0.1324 - val_accuracy: 0.9638\n",
            "Epoch 16/20\n",
            "347/347 [==============================] - ETA: 0s - loss: 0.0572 - accuracy: 0.9909\n",
            "Epoch 16: val_accuracy did not improve from 0.97197\n",
            "347/347 [==============================] - 25s 71ms/step - loss: 0.0572 - accuracy: 0.9909 - val_loss: 0.1378 - val_accuracy: 0.9568\n",
            "Epoch 17/20\n",
            "347/347 [==============================] - ETA: 0s - loss: 0.0558 - accuracy: 0.9912\n",
            "Epoch 17: val_accuracy did not improve from 0.97197\n",
            "347/347 [==============================] - 26s 75ms/step - loss: 0.0558 - accuracy: 0.9912 - val_loss: 0.1254 - val_accuracy: 0.9695\n",
            "Epoch 18/20\n",
            "347/347 [==============================] - ETA: 0s - loss: 0.0554 - accuracy: 0.9910\n",
            "Epoch 18: val_accuracy did not improve from 0.97197\n",
            "347/347 [==============================] - 29s 82ms/step - loss: 0.0554 - accuracy: 0.9910 - val_loss: 0.1360 - val_accuracy: 0.9613\n",
            "Epoch 19/20\n",
            "347/347 [==============================] - ETA: 0s - loss: 0.0542 - accuracy: 0.9912\n",
            "Epoch 19: val_accuracy did not improve from 0.97197\n",
            "Restoring model weights from the end of the best epoch: 11.\n",
            "347/347 [==============================] - 26s 75ms/step - loss: 0.0542 - accuracy: 0.9912 - val_loss: 0.1260 - val_accuracy: 0.9675\n",
            "Epoch 19: early stopping\n"
          ]
        }
      ]
    },
    {
      "cell_type": "code",
      "source": [
        "test_df = df.loc[df[\"ds_type\"]==\"test\"]\n",
        "test_ds = get_ds(test_df,kind=\"test\")"
      ],
      "metadata": {
        "id": "z-XuqGo85RJo"
      },
      "execution_count": null,
      "outputs": []
    },
    {
      "cell_type": "code",
      "source": [
        "ls model_info/weights/try_drop_fur/"
      ],
      "metadata": {
        "colab": {
          "base_uri": "https://localhost:8080/"
        },
        "id": "uF5RkPiE5vZD",
        "outputId": "eca67b8c-b474-46e1-93ab-c243daf4c490"
      },
      "execution_count": null,
      "outputs": [
        {
          "output_type": "stream",
          "name": "stdout",
          "text": [
            "checkpoint  weights.data-00000-of-00001  weights.index\n"
          ]
        }
      ]
    },
    {
      "cell_type": "code",
      "source": [
        "model.load_weights(\"model_info/weights/try_drop_fur/weights\")"
      ],
      "metadata": {
        "colab": {
          "base_uri": "https://localhost:8080/"
        },
        "id": "-C66zjBm5eMR",
        "outputId": "4ef3d5d2-132c-44c1-b335-9cbf0841cd5f"
      },
      "execution_count": null,
      "outputs": [
        {
          "output_type": "execute_result",
          "data": {
            "text/plain": [
              "<tensorflow.python.training.tracking.util.CheckpointLoadStatus at 0x7ff7382ae110>"
            ]
          },
          "metadata": {},
          "execution_count": 19
        }
      ]
    },
    {
      "cell_type": "code",
      "source": [
        "model.evaluate(test_ds)"
      ],
      "metadata": {
        "colab": {
          "base_uri": "https://localhost:8080/"
        },
        "id": "7RfxbENECWZ1",
        "outputId": "f9d5dde1-ac22-480c-d9e9-77dc21e0b2ce"
      },
      "execution_count": null,
      "outputs": [
        {
          "output_type": "stream",
          "name": "stdout",
          "text": [
            "38/38 [==============================] - 3s 74ms/step - loss: 0.2811 - accuracy: 0.9174\n"
          ]
        },
        {
          "output_type": "execute_result",
          "data": {
            "text/plain": [
              "[0.2811254560947418, 0.9173519611358643]"
            ]
          },
          "metadata": {},
          "execution_count": 20
        }
      ]
    },
    {
      "cell_type": "code",
      "source": [
        "preds \n",
        "preds = np.argmax(preds,axis=1)"
      ],
      "metadata": {
        "id": "hUy9ps8J61fU"
      },
      "execution_count": null,
      "outputs": []
    },
    {
      "cell_type": "code",
      "source": [
        "preds"
      ],
      "metadata": {
        "colab": {
          "base_uri": "https://localhost:8080/"
        },
        "id": "n7Q011TAaHnp",
        "outputId": "1a922174-c12d-42ff-da4c-25dd9e224d9e"
      },
      "execution_count": null,
      "outputs": [
        {
          "output_type": "execute_result",
          "data": {
            "text/plain": [
              "array([0, 0, 0, ..., 1, 1, 1])"
            ]
          },
          "metadata": {},
          "execution_count": 24
        }
      ]
    },
    {
      "cell_type": "code",
      "source": [
        "labels = list(test_ds.map(lambda x,y:y))\n",
        "labels = np.concatenate([i.numpy() for i in labels])\n",
        "labels = np.argmax(labels,axis=1)\n",
        "labels"
      ],
      "metadata": {
        "colab": {
          "base_uri": "https://localhost:8080/"
        },
        "id": "9bqIMf3t-txF",
        "outputId": "c7c63322-4cf2-45b2-8a88-8ecc5f6223b5"
      },
      "execution_count": null,
      "outputs": [
        {
          "output_type": "execute_result",
          "data": {
            "text/plain": [
              "array([[1., 0.],\n",
              "       [1., 0.],\n",
              "       [1., 0.],\n",
              "       ...,\n",
              "       [0., 1.],\n",
              "       [0., 1.],\n",
              "       [0., 1.]], dtype=float32)"
            ]
          },
          "metadata": {},
          "execution_count": 27
        }
      ]
    },
    {
      "cell_type": "code",
      "source": [
        "np.mean(preds==labels)"
      ],
      "metadata": {
        "colab": {
          "base_uri": "https://localhost:8080/"
        },
        "id": "GyV2oUDU_oDo",
        "outputId": "5d1f6c70-b89c-407f-c91c-a9c229bb5ddf"
      },
      "execution_count": null,
      "outputs": [
        {
          "output_type": "execute_result",
          "data": {
            "text/plain": [
              "0.9173519736842105"
            ]
          },
          "metadata": {},
          "execution_count": 30
        }
      ]
    },
    {
      "cell_type": "code",
      "source": [
        "wrong_images"
      ],
      "metadata": {
        "colab": {
          "base_uri": "https://localhost:8080/"
        },
        "id": "XeP-le5wEnij",
        "outputId": "f5e4dae3-7c10-48ba-ebda-e1c25658dc96"
      },
      "execution_count": null,
      "outputs": [
        {
          "output_type": "execute_result",
          "data": {
            "text/plain": [
              "array([  10,   20,   56,   60,   77,   99,  102,  122,  141,  147,  153,\n",
              "        200,  203,  207,  220,  221,  223,  225,  231,  235,  267,  283,\n",
              "        285,  295,  315,  319,  321,  330,  332,  334,  345,  346,  372,\n",
              "        374,  376,  379,  384,  412,  421,  422,  449,  466,  471,  475,\n",
              "        476,  481,  522,  526,  527,  536,  543,  556,  558,  579,  582,\n",
              "        585,  603,  605,  621,  629,  630,  642,  643,  645,  650,  658,\n",
              "        680,  683,  689,  698,  710,  716,  726,  739,  743,  746,  749,\n",
              "        768,  796,  809,  814,  816,  817,  818,  847,  851,  874,  896,\n",
              "        909,  919,  928,  934,  942,  944,  947,  951,  954,  967,  969,\n",
              "        970,  971,  976,  977,  986, 1006, 1007, 1012, 1020, 1024, 1025,\n",
              "       1026, 1034, 1036, 1044, 1052, 1054, 1073, 1083, 1087, 1091, 1096,\n",
              "       1104, 1105, 1112, 1118, 1121, 1132, 1137, 1139, 1154, 1168, 1173,\n",
              "       1175, 1186, 1190, 1210, 1211, 1214, 1244, 1248, 1255, 1267, 1278,\n",
              "       1290, 1303, 1307, 1338, 1370, 1371, 1379, 1386, 1388, 1398, 1410,\n",
              "       1411, 1413, 1415, 1416, 1433, 1446, 1452, 1472, 1474, 1477, 1481,\n",
              "       1493, 1529, 1532, 1551, 1572, 1579, 1583, 1591, 1592, 2074, 2102,\n",
              "       2103, 2104, 2105, 2117, 2118, 2119, 2120, 2166, 2167, 2168, 2182,\n",
              "       2183, 2184, 2185, 2199, 2200, 2201, 2202, 2203, 2204, 2217, 2218,\n",
              "       2219, 2220, 2221])"
            ]
          },
          "metadata": {},
          "execution_count": 57
        }
      ]
    },
    {
      "cell_type": "code",
      "source": [
        "wrong_images = np.argwhere((preds==labels)==0).reshape(-1)\n",
        "len(wrong_images)"
      ],
      "metadata": {
        "colab": {
          "base_uri": "https://localhost:8080/"
        },
        "id": "6SaoTn_5_7cg",
        "outputId": "1dbfa4f9-b82f-4459-9069-75f9300f7c16"
      },
      "execution_count": null,
      "outputs": [
        {
          "output_type": "execute_result",
          "data": {
            "text/plain": [
              "201"
            ]
          },
          "metadata": {},
          "execution_count": 36
        }
      ]
    },
    {
      "cell_type": "code",
      "source": [
        "imgs = test_df.iloc[wrong_images]"
      ],
      "metadata": {
        "id": "zegzQttICEVX"
      },
      "execution_count": null,
      "outputs": []
    },
    {
      "cell_type": "code",
      "source": [
        "import matplotlib.pyplot as plt"
      ],
      "metadata": {
        "id": "r6t5QBB_C8yx"
      },
      "execution_count": null,
      "outputs": []
    },
    {
      "cell_type": "code",
      "source": [
        "imgs.iloc[0][\"key\"]"
      ],
      "metadata": {
        "colab": {
          "base_uri": "https://localhost:8080/",
          "height": 35
        },
        "id": "TB-flzBYDJOG",
        "outputId": "6022ed46-30e8-4759-d60b-4fe1ec7e99fd"
      },
      "execution_count": null,
      "outputs": [
        {
          "output_type": "execute_result",
          "data": {
            "text/plain": [
              "'xBdVDqrxiob17bPp1WwHQc'"
            ],
            "application/vnd.google.colaboratory.intrinsic+json": {
              "type": "string"
            }
          },
          "metadata": {},
          "execution_count": 48
        }
      ]
    },
    {
      "cell_type": "code",
      "source": [
        "import tqdm"
      ],
      "metadata": {
        "id": "LmHOeWROFLkP"
      },
      "execution_count": null,
      "outputs": []
    },
    {
      "cell_type": "code",
      "source": [
        "dic = {0:\"Day\",1:\"Night\"}\n",
        "\n",
        "def get_ds(i): \n",
        "\n",
        "    key = imgs.iloc[i][\"key\"] \n",
        "\n",
        "    path = f\"ND_Data/test/\"+ key + \".jpg\"\n",
        "    plt.imshow(plt.imread(path))\n",
        "    plt.axis('off')\n",
        "\n",
        "    label = dic[labels[wrong_images[i]]]\n",
        "    pred = dic[preds[wrong_images[i]]]\n",
        "\n",
        "    plt.title(f\"Label {label}  Pred: {pred}\")\n",
        "    plt.savefig(f\"wrong_labels/{key}.jpg\")\n",
        "\n",
        "\n",
        "for i in tqdm.tqdm(range(len(imgs))):\n",
        "\n",
        "  get_ds(i)\n"
      ],
      "metadata": {
        "colab": {
          "base_uri": "https://localhost:8080/",
          "height": 281
        },
        "id": "WOwV0NGiCSMW",
        "outputId": "623bb21c-ea82-4b73-db59-fbb13de7fa54"
      },
      "execution_count": null,
      "outputs": [
        {
          "output_type": "stream",
          "name": "stderr",
          "text": [
            "100%|██████████| 201/201 [04:23<00:00,  1.31s/it]\n"
          ]
        },
        {
          "output_type": "display_data",
          "data": {
            "text/plain": [
              "<Figure size 432x288 with 1 Axes>"
            ],
            "image/png": "[encoded data removed]"
          },
          "metadata": {
            "needs_background": "light"
          }
        }
      ]
    },
    {
      "cell_type": "code",
      "source": [
        "mkdir results_day_night"
      ],
      "metadata": {
        "id": "bjTjIX3aH3XU"
      },
      "execution_count": null,
      "outputs": []
    },
    {
      "cell_type": "code",
      "source": [
        "imgs = test_df.iloc[wrong_images]\n",
        "len(imgs)"
      ],
      "metadata": {
        "colab": {
          "base_uri": "https://localhost:8080/"
        },
        "id": "BfSlOURjJMPV",
        "outputId": "c8aee9e2-ac31-42ce-a9db-8cfb02600afd"
      },
      "execution_count": null,
      "outputs": [
        {
          "output_type": "execute_result",
          "data": {
            "text/plain": [
              "201"
            ]
          },
          "metadata": {},
          "execution_count": 73
        }
      ]
    },
    {
      "cell_type": "code",
      "source": [
        "df = test_df.iloc[:38*64].copy()\n",
        "df[\"pred\"]=preds\n",
        "df[\"labels\"]=labels"
      ],
      "metadata": {
        "id": "2E4s0s6XJU64"
      },
      "execution_count": null,
      "outputs": []
    },
    {
      "cell_type": "code",
      "source": [
        "df"
      ],
      "metadata": {
        "colab": {
          "base_uri": "https://localhost:8080/",
          "height": 424
        },
        "id": "giAWcZ4OI38d",
        "outputId": "fb50975c-560e-47ce-8545-65bf5996de2c"
      },
      "execution_count": null,
      "outputs": [
        {
          "output_type": "execute_result",
          "data": {
            "text/plain": [
              "                          key        easting      northing view_direction  \\\n",
              "26273  uqEgrwPayhEZ-sLiUKzyIA  315472.793342  7.386815e+06        Forward   \n",
              "26274  ZWpCCy1vrGV5GBnzkExhor  326427.216377  7.397452e+06        Forward   \n",
              "26275  RMRJQKjP4lAAriX8j_KqIA  328479.187109  7.398110e+06        Forward   \n",
              "26276  ldmBLAJv-ooSGhy5Xy-1_Q  332249.379896  7.396232e+06        Forward   \n",
              "26277  OqCy8ula241IcqRc_lAaAg  319398.355208  7.390784e+06        Forward   \n",
              "...                       ...            ...           ...            ...   \n",
              "28700  2IxYESOQjlOV8OJi8c872L  337478.240353  7.390546e+06        Forward   \n",
              "28701  osenWUEyfj_K669jKbpo4F  337474.362106  7.390545e+06        Forward   \n",
              "28702  ga-cnrWkIw2EfUjKpcVNLe  337470.483982  7.390544e+06        Forward   \n",
              "28703  LCPu0ppVDSH_tJcnAahMrm  337468.539817  7.390543e+06        Forward   \n",
              "28704  SMND5lcLhFTkofJCaUaB8r  337464.661694  7.390542e+06        Forward   \n",
              "\n",
              "                 sequence_key                                     Path  \\\n",
              "26273  hUH_PDbyQMyeuu-OETfBwg  Places_Data/train_val/saopaulo/database   \n",
              "26274  45c3olap4kgv6jy4oal8bs     Places_Data/train_val/saopaulo/query   \n",
              "26275  mifAHnwLS_CYcu1Tn52Ouw  Places_Data/train_val/saopaulo/database   \n",
              "26276  ti93sIGeQoOBGHfnKUJXRA  Places_Data/train_val/saopaulo/database   \n",
              "26277  vmrk929p4r4a59hb99hqnl  Places_Data/train_val/saopaulo/database   \n",
              "...                       ...                                      ...   \n",
              "28700  l8rg583c6djphmy4ta1m4s  Places_Data/train_val/saopaulo/database   \n",
              "28701  l8rg583c6djphmy4ta1m4s  Places_Data/train_val/saopaulo/database   \n",
              "28702  l8rg583c6djphmy4ta1m4s  Places_Data/train_val/saopaulo/database   \n",
              "28703  l8rg583c6djphmy4ta1m4s  Places_Data/train_val/saopaulo/database   \n",
              "28704  l8rg583c6djphmy4ta1m4s  Places_Data/train_val/saopaulo/database   \n",
              "\n",
              "           City night_name ds_type  pred  labels  \n",
              "26273  saopaulo        Day    test     0       0  \n",
              "26274  saopaulo        Day    test     0       0  \n",
              "26275  saopaulo        Day    test     0       0  \n",
              "26276  saopaulo        Day    test     0       0  \n",
              "26277  saopaulo        Day    test     0       0  \n",
              "...         ...        ...     ...   ...     ...  \n",
              "28700  saopaulo      Night    test     1       1  \n",
              "28701  saopaulo      Night    test     1       1  \n",
              "28702  saopaulo      Night    test     1       1  \n",
              "28703  saopaulo      Night    test     1       1  \n",
              "28704  saopaulo      Night    test     1       1  \n",
              "\n",
              "[2432 rows x 11 columns]"
            ],
            "text/html": [
              "\n",
              "  <div id=\"df-2e15b18d-b007-44d6-996d-4a9f27436d23\">\n",
              "    <div class=\"colab-df-container\">\n",
              "      <div>\n",
              "<style scoped>\n",
              "    .dataframe tbody tr th:only-of-type {\n",
              "        vertical-align: middle;\n",
              "    }\n",
              "\n",
              "    .dataframe tbody tr th {\n",
              "        vertical-align: top;\n",
              "    }\n",
              "\n",
              "    .dataframe thead th {\n",
              "        text-align: right;\n",
              "    }\n",
              "</style>\n",
              "<table border=\"1\" class=\"dataframe\">\n",
              "  <thead>\n",
              "    <tr style=\"text-align: right;\">\n",
              "      <th></th>\n",
              "      <th>key</th>\n",
              "      <th>easting</th>\n",
              "      <th>northing</th>\n",
              "      <th>view_direction</th>\n",
              "      <th>sequence_key</th>\n",
              "      <th>Path</th>\n",
              "      <th>City</th>\n",
              "      <th>night_name</th>\n",
              "      <th>ds_type</th>\n",
              "      <th>pred</th>\n",
              "      <th>labels</th>\n",
              "    </tr>\n",
              "  </thead>\n",
              "  <tbody>\n",
              "    <tr>\n",
              "      <th>26273</th>\n",
              "      <td>uqEgrwPayhEZ-sLiUKzyIA</td>\n",
              "      <td>315472.793342</td>\n",
              "      <td>7.386815e+06</td>\n",
              "      <td>Forward</td>\n",
              "      <td>hUH_PDbyQMyeuu-OETfBwg</td>\n",
              "      <td>Places_Data/train_val/saopaulo/database</td>\n",
              "      <td>saopaulo</td>\n",
              "      <td>Day</td>\n",
              "      <td>test</td>\n",
              "      <td>0</td>\n",
              "      <td>0</td>\n",
              "    </tr>\n",
              "    <tr>\n",
              "      <th>26274</th>\n",
              "      <td>ZWpCCy1vrGV5GBnzkExhor</td>\n",
              "      <td>326427.216377</td>\n",
              "      <td>7.397452e+06</td>\n",
              "      <td>Forward</td>\n",
              "      <td>45c3olap4kgv6jy4oal8bs</td>\n",
              "      <td>Places_Data/train_val/saopaulo/query</td>\n",
              "      <td>saopaulo</td>\n",
              "      <td>Day</td>\n",
              "      <td>test</td>\n",
              "      <td>0</td>\n",
              "      <td>0</td>\n",
              "    </tr>\n",
              "    <tr>\n",
              "      <th>26275</th>\n",
              "      <td>RMRJQKjP4lAAriX8j_KqIA</td>\n",
              "      <td>328479.187109</td>\n",
              "      <td>7.398110e+06</td>\n",
              "      <td>Forward</td>\n",
              "      <td>mifAHnwLS_CYcu1Tn52Ouw</td>\n",
              "      <td>Places_Data/train_val/saopaulo/database</td>\n",
              "      <td>saopaulo</td>\n",
              "      <td>Day</td>\n",
              "      <td>test</td>\n",
              "      <td>0</td>\n",
              "      <td>0</td>\n",
              "    </tr>\n",
              "    <tr>\n",
              "      <th>26276</th>\n",
              "      <td>ldmBLAJv-ooSGhy5Xy-1_Q</td>\n",
              "      <td>332249.379896</td>\n",
              "      <td>7.396232e+06</td>\n",
              "      <td>Forward</td>\n",
              "      <td>ti93sIGeQoOBGHfnKUJXRA</td>\n",
              "      <td>Places_Data/train_val/saopaulo/database</td>\n",
              "      <td>saopaulo</td>\n",
              "      <td>Day</td>\n",
              "      <td>test</td>\n",
              "      <td>0</td>\n",
              "      <td>0</td>\n",
              "    </tr>\n",
              "    <tr>\n",
              "      <th>26277</th>\n",
              "      <td>OqCy8ula241IcqRc_lAaAg</td>\n",
              "      <td>319398.355208</td>\n",
              "      <td>7.390784e+06</td>\n",
              "      <td>Forward</td>\n",
              "      <td>vmrk929p4r4a59hb99hqnl</td>\n",
              "      <td>Places_Data/train_val/saopaulo/database</td>\n",
              "      <td>saopaulo</td>\n",
              "      <td>Day</td>\n",
              "      <td>test</td>\n",
              "      <td>0</td>\n",
              "      <td>0</td>\n",
              "    </tr>\n",
              "    <tr>\n",
              "      <th>...</th>\n",
              "      <td>...</td>\n",
              "      <td>...</td>\n",
              "      <td>...</td>\n",
              "      <td>...</td>\n",
              "      <td>...</td>\n",
              "      <td>...</td>\n",
              "      <td>...</td>\n",
              "      <td>...</td>\n",
              "      <td>...</td>\n",
              "      <td>...</td>\n",
              "      <td>...</td>\n",
              "    </tr>\n",
              "    <tr>\n",
              "      <th>28700</th>\n",
              "      <td>2IxYESOQjlOV8OJi8c872L</td>\n",
              "      <td>337478.240353</td>\n",
              "      <td>7.390546e+06</td>\n",
              "      <td>Forward</td>\n",
              "      <td>l8rg583c6djphmy4ta1m4s</td>\n",
              "      <td>Places_Data/train_val/saopaulo/database</td>\n",
              "      <td>saopaulo</td>\n",
              "      <td>Night</td>\n",
              "      <td>test</td>\n",
              "      <td>1</td>\n",
              "      <td>1</td>\n",
              "    </tr>\n",
              "    <tr>\n",
              "      <th>28701</th>\n",
              "      <td>osenWUEyfj_K669jKbpo4F</td>\n",
              "      <td>337474.362106</td>\n",
              "      <td>7.390545e+06</td>\n",
              "      <td>Forward</td>\n",
              "      <td>l8rg583c6djphmy4ta1m4s</td>\n",
              "      <td>Places_Data/train_val/saopaulo/database</td>\n",
              "      <td>saopaulo</td>\n",
              "      <td>Night</td>\n",
              "      <td>test</td>\n",
              "      <td>1</td>\n",
              "      <td>1</td>\n",
              "    </tr>\n",
              "    <tr>\n",
              "      <th>28702</th>\n",
              "      <td>ga-cnrWkIw2EfUjKpcVNLe</td>\n",
              "      <td>337470.483982</td>\n",
              "      <td>7.390544e+06</td>\n",
              "      <td>Forward</td>\n",
              "      <td>l8rg583c6djphmy4ta1m4s</td>\n",
              "      <td>Places_Data/train_val/saopaulo/database</td>\n",
              "      <td>saopaulo</td>\n",
              "      <td>Night</td>\n",
              "      <td>test</td>\n",
              "      <td>1</td>\n",
              "      <td>1</td>\n",
              "    </tr>\n",
              "    <tr>\n",
              "      <th>28703</th>\n",
              "      <td>LCPu0ppVDSH_tJcnAahMrm</td>\n",
              "      <td>337468.539817</td>\n",
              "      <td>7.390543e+06</td>\n",
              "      <td>Forward</td>\n",
              "      <td>l8rg583c6djphmy4ta1m4s</td>\n",
              "      <td>Places_Data/train_val/saopaulo/database</td>\n",
              "      <td>saopaulo</td>\n",
              "      <td>Night</td>\n",
              "      <td>test</td>\n",
              "      <td>1</td>\n",
              "      <td>1</td>\n",
              "    </tr>\n",
              "    <tr>\n",
              "      <th>28704</th>\n",
              "      <td>SMND5lcLhFTkofJCaUaB8r</td>\n",
              "      <td>337464.661694</td>\n",
              "      <td>7.390542e+06</td>\n",
              "      <td>Forward</td>\n",
              "      <td>l8rg583c6djphmy4ta1m4s</td>\n",
              "      <td>Places_Data/train_val/saopaulo/database</td>\n",
              "      <td>saopaulo</td>\n",
              "      <td>Night</td>\n",
              "      <td>test</td>\n",
              "      <td>1</td>\n",
              "      <td>1</td>\n",
              "    </tr>\n",
              "  </tbody>\n",
              "</table>\n",
              "<p>2432 rows × 11 columns</p>\n",
              "</div>\n",
              "      <button class=\"colab-df-convert\" onclick=\"convertToInteractive('df-2e15b18d-b007-44d6-996d-4a9f27436d23')\"\n",
              "              title=\"Convert this dataframe to an interactive table.\"\n",
              "              style=\"display:none;\">\n",
              "        \n",
              "  <svg xmlns=\"http://www.w3.org/2000/svg\" height=\"24px\"viewBox=\"0 0 24 24\"\n",
              "       width=\"24px\">\n",
              "    <path d=\"M0 0h24v24H0V0z\" fill=\"none\"/>\n",
              "    <path d=\"M18.56 5.44l.94 2.06.94-2.06 2.06-.94-2.06-.94-.94-2.06-.94 2.06-2.06.94zm-11 1L8.5 8.5l.94-2.06 2.06-.94-2.06-.94L8.5 2.5l-.94 2.06-2.06.94zm10 10l.94 2.06.94-2.06 2.06-.94-2.06-.94-.94-2.06-.94 2.06-2.06.94z\"/><path d=\"M17.41 7.96l-1.37-1.37c-.4-.4-.92-.59-1.43-.59-.52 0-1.04.2-1.43.59L10.3 9.45l-7.72 7.72c-.78.78-.78 2.05 0 2.83L4 21.41c.39.39.9.59 1.41.59.51 0 1.02-.2 1.41-.59l7.78-7.78 2.81-2.81c.8-.78.8-2.07 0-2.86zM5.41 20L4 18.59l7.72-7.72 1.47 1.35L5.41 20z\"/>\n",
              "  </svg>\n",
              "      </button>\n",
              "      \n",
              "  <style>\n",
              "    .colab-df-container {\n",
              "      display:flex;\n",
              "      flex-wrap:wrap;\n",
              "      gap: 12px;\n",
              "    }\n",
              "\n",
              "    .colab-df-convert {\n",
              "      background-color: #E8F0FE;\n",
              "      border: none;\n",
              "      border-radius: 50%;\n",
              "      cursor: pointer;\n",
              "      display: none;\n",
              "      fill: #1967D2;\n",
              "      height: 32px;\n",
              "      padding: 0 0 0 0;\n",
              "      width: 32px;\n",
              "    }\n",
              "\n",
              "    .colab-df-convert:hover {\n",
              "      background-color: #E2EBFA;\n",
              "      box-shadow: 0px 1px 2px rgba(60, 64, 67, 0.3), 0px 1px 3px 1px rgba(60, 64, 67, 0.15);\n",
              "      fill: #174EA6;\n",
              "    }\n",
              "\n",
              "    [theme=dark] .colab-df-convert {\n",
              "      background-color: #3B4455;\n",
              "      fill: #D2E3FC;\n",
              "    }\n",
              "\n",
              "    [theme=dark] .colab-df-convert:hover {\n",
              "      background-color: #434B5C;\n",
              "      box-shadow: 0px 1px 3px 1px rgba(0, 0, 0, 0.15);\n",
              "      filter: drop-shadow(0px 1px 2px rgba(0, 0, 0, 0.3));\n",
              "      fill: #FFFFFF;\n",
              "    }\n",
              "  </style>\n",
              "\n",
              "      <script>\n",
              "        const buttonEl =\n",
              "          document.querySelector('#df-2e15b18d-b007-44d6-996d-4a9f27436d23 button.colab-df-convert');\n",
              "        buttonEl.style.display =\n",
              "          google.colab.kernel.accessAllowed ? 'block' : 'none';\n",
              "\n",
              "        async function convertToInteractive(key) {\n",
              "          const element = document.querySelector('#df-2e15b18d-b007-44d6-996d-4a9f27436d23');\n",
              "          const dataTable =\n",
              "            await google.colab.kernel.invokeFunction('convertToInteractive',\n",
              "                                                     [key], {});\n",
              "          if (!dataTable) return;\n",
              "\n",
              "          const docLinkHtml = 'Like what you see? Visit the ' +\n",
              "            '<a target=\"_blank\" href=https://colab.research.google.com/notebooks/data_table.ipynb>data table notebook</a>'\n",
              "            + ' to learn more about interactive tables.';\n",
              "          element.innerHTML = '';\n",
              "          dataTable['output_type'] = 'display_data';\n",
              "          await google.colab.output.renderOutput(dataTable, element);\n",
              "          const docLink = document.createElement('div');\n",
              "          docLink.innerHTML = docLinkHtml;\n",
              "          element.appendChild(docLink);\n",
              "        }\n",
              "      </script>\n",
              "    </div>\n",
              "  </div>\n",
              "  "
            ]
          },
          "metadata": {},
          "execution_count": 81
        }
      ]
    },
    {
      "cell_type": "code",
      "source": [
        "certainty = model.predict(test_ds)"
      ],
      "metadata": {
        "id": "Js0mIjBnAOBm"
      },
      "execution_count": null,
      "outputs": []
    },
    {
      "cell_type": "code",
      "source": [
        "df[\"certainty_day\"]=certainty[:,0]\n",
        "df[\"certainty_night\"]=certainty[:,1]"
      ],
      "metadata": {
        "id": "Bv7QWhnbJwgO"
      },
      "execution_count": null,
      "outputs": []
    },
    {
      "cell_type": "code",
      "source": [
        "!du -sh  wrong_labels/"
      ],
      "metadata": {
        "colab": {
          "base_uri": "https://localhost:8080/"
        },
        "id": "FuMTUnXDKGU4",
        "outputId": "5ad2b187-da35-42ad-f6e1-78c654f3ad51"
      },
      "execution_count": null,
      "outputs": [
        {
          "output_type": "stream",
          "name": "stdout",
          "text": [
            "4.5M\twrong_labels/\n"
          ]
        }
      ]
    },
    {
      "cell_type": "code",
      "source": [
        "cp  -r results_day_night ../drive/MyDrive/UAL/results_day_night"
      ],
      "metadata": {
        "id": "cz6fGMrSKo0m"
      },
      "execution_count": null,
      "outputs": []
    },
    {
      "cell_type": "code",
      "source": [
        "ls ../drive/MyDrive/UAL/"
      ],
      "metadata": {
        "colab": {
          "base_uri": "https://localhost:8080/"
        },
        "id": "XfwrIZU9Kju3",
        "outputId": "d3ae2249-acb1-47c1-8a12-129c29a0e60d"
      },
      "execution_count": null,
      "outputs": [
        {
          "output_type": "stream",
          "name": "stdout",
          "text": [
            "\u001b[0m\u001b[01;34mmodel_info\u001b[0m/  ND_Traininng_MN_V2.ipynb    Transfer.ipynb\n",
            "\u001b[01;34mmodels\u001b[0m/      ND_Traininng_MN_V3.ipynb    Transfer_train_all_further.ipynb\n",
            "ND_Data.zip  ND_Traininng_own_cnn.ipynb  Transfer_train_all.ipynb\n"
          ]
        }
      ]
    },
    {
      "cell_type": "code",
      "source": [
        "cp -r model_info/logs results_day_night/logs"
      ],
      "metadata": {
        "id": "U4MS7tBiLEQv"
      },
      "execution_count": null,
      "outputs": []
    },
    {
      "cell_type": "code",
      "source": [
        "ls model_info"
      ],
      "metadata": {
        "colab": {
          "base_uri": "https://localhost:8080/"
        },
        "id": "wz9Ivd8iLAUU",
        "outputId": "504d01e0-7bda-489d-d8e9-9f40df3fd135"
      },
      "execution_count": null,
      "outputs": [
        {
          "output_type": "stream",
          "name": "stdout",
          "text": [
            "\u001b[0m\u001b[01;34mlogs\u001b[0m/  \u001b[01;34mmodels\u001b[0m/  \u001b[01;34mweights\u001b[0m/\n"
          ]
        }
      ]
    },
    {
      "cell_type": "code",
      "source": [
        "model.save(\"results_day_night/final_model/day_night_final\")"
      ],
      "metadata": {
        "colab": {
          "base_uri": "https://localhost:8080/"
        },
        "id": "vQtLCEWZK3Qh",
        "outputId": "057346b3-4e53-4444-8411-65014e78a218"
      },
      "execution_count": null,
      "outputs": [
        {
          "output_type": "stream",
          "name": "stdout",
          "text": [
            "INFO:tensorflow:Assets written to: results_day_night/final_model/day_night_final/assets\n"
          ]
        },
        {
          "output_type": "stream",
          "name": "stderr",
          "text": [
            "INFO:tensorflow:Assets written to: results_day_night/final_model/day_night_final/assets\n"
          ]
        }
      ]
    },
    {
      "cell_type": "code",
      "source": [
        "!mkdir results_day_night/final_model"
      ],
      "metadata": {
        "id": "xpYuch_qKvqe"
      },
      "execution_count": null,
      "outputs": []
    },
    {
      "cell_type": "code",
      "source": [
        "ls  results_day_night/wrong_labels/"
      ],
      "metadata": {
        "colab": {
          "base_uri": "https://localhost:8080/"
        },
        "id": "-w2BaFO9Kfmm",
        "outputId": "a2d23215-6413-46bf-892b-939cbf7787c8"
      },
      "execution_count": null,
      "outputs": [
        {
          "output_type": "stream",
          "name": "stdout",
          "text": [
            "0NJCSpNpl9UesiFKrQDOlA.jpg  l5hFhup2z1dBCL39vljpFK.jpg\n",
            "0oIU9Tq1X9pWWf9q9Whvtk.jpg  LHRd04a-CoDJi8JSjS8MYm.jpg\n",
            "0yEjhZqCngnrXMbFLePc9h.jpg  lJJVV1aI3Zf-Qf6m0kbT_6.jpg\n",
            "16l8p3mPa7_pVGL5KbQIgw.jpg  Lmk23DQiyawjgk6QUo7orM.jpg\n",
            "1OrAVYGoAYCUAeF24TslZz.jpg  LR6ifO3agDCjKPArg8K3Vl.jpg\n",
            "1QLM6F5c95cmb9gxqvzF4G.jpg  LsgX4klxapKioeyCLtZYi5.jpg\n",
            "1-vty23VpdC0q4cUEZm6E4.jpg  LTuz1rAKn7XZyXne4serTl.jpg\n",
            "2b0LI1PaN4AM0xyQiYQUAS.jpg  m8U4041qAiRENFgciwyn1s.jpg\n",
            "2d1Yt-Pem8OsGiG5nDTPGG.jpg  miWVvW1Aj3dnoIfe0G_OPM.jpg\n",
            "36I9Mjaj2B88m3H6OmVlVu.jpg  MuYj2OSp4OfL7TQO6kUvin.jpg\n",
            "3n-8blE4I2xwAxyNJVmpZi.jpg  MwF9Wj8glJ2YADzLw4GfRd.jpg\n",
            "3wemzhbQd7J0VMMFbJGOIi.jpg  N0b5qtKf8J0yr6RcDBrYew.jpg\n",
            "4ELgJYxi1_iUbyKte_ny2-.jpg  NJBI5sptqijm7wLZRMN301.jpg\n",
            "5D-4a1tw8xMwje-pebw2z8.jpg  NnBY8fKEV0lbW5E2xC6Al-.jpg\n",
            "7c0PJUQBrVWCgTPV3FWpBd.jpg  o1G2StaVyDLt0AFJskda49.jpg\n",
            "-7J3phmKKPmuGhBQtVvLr9.jpg  o31onszHgTxnK7GolI8RRw.jpg\n",
            "7jcGvWmeRyZrONNJOIS21j.jpg  O3e4Ghb87pUwNN9jT1T32J.jpg\n",
            "89ISUjPwBrmjISAmaQmrd9.jpg  O5LETYcFd8qd5DVMkI7nxe.jpg\n",
            "8GgbxAhYf0u1TaWLlhpJnq.jpg  O8B-6OOqGflTcfi2jD7gzs.jpg\n",
            "8gs0kVigZXgL4NmkFuEiaJ.jpg  oGcchP4GR-fkV1AidquJ4V.jpg\n",
            "8jlVtIcuT3oOVXli59d0qD.jpg  OPy5liAdlY7BIl5i4gNpYn.jpg\n",
            "8RmmeEAVAEf6ILn0D9_Z8g.jpg  oqVcZmoNv_0Y02ovqRdKfj.jpg\n",
            "8tsIoMUw9RWvkaIjQuRZrY.jpg  oTFLI3du0A4-gTVyhuqxaW.jpg\n",
            "90b6fXiujnBaORVSEQfuB6.jpg  ozPGvPFdJ5VO4a1nGZnWGF.jpg\n",
            "92jMDQtKFtUhYqC5gTSEjC.jpg  pA_crYR1DhGsmA6pvfSsZW.jpg\n",
            "9BeQZe4bU4YGzKZAqctTbp.jpg  pCthkEScjALQsBKo0XpV8X.jpg\n",
            "9bPwYe7-LPhYbWWASs9lu1.jpg  PJN3Dd86F5k-iPRw_i-yLx.jpg\n",
            "9DaRRcngTWP6TXCF0c0_4W.jpg  po_mac2NgTqK9ar8hlq90g.jpg\n",
            "9MSMgK0l-zj6RuV33cOd5Q.jpg  pPgBlH0nX4BwbOUKgUjdCv.jpg\n",
            "9oiNQ6Z-fa5V8RODLXCTo7.jpg  pulkCKJRjmedbdqkD4tX_8.jpg\n",
            "9QK8EUIQzryjiQ9FXpWgfw.jpg  q0CFd0R8mszN1xqeQP4o9G.jpg\n",
            "9uC-e6OJJSzlrqEBPfJsEs.jpg  qeaiXp0nQTuXMjelCzPmx6.jpg\n",
            "9VqOOtVR3ZzxknOUshHqGb.jpg  qgOy44RHvVtSbswGLqB6Nu.jpg\n",
            "A5vH2E-DTozz8vNkRZYZHH.jpg  QhwfpUhpLWlmIN7oC1tpKi.jpg\n",
            "aeYXLEXWCSkrickTTguFJH.jpg  QiNSr_xlx6DsinoNUcLWBU.jpg\n",
            "aiOHi7MJxRPvFF20lMo3u8.jpg  qjlQrhsGrVha1LLWOw7p_u.jpg\n",
            "aj3p1cM-m-z9vQXpg7Tamw.jpg  Qtsx6imcbMRN6bq1SKNEgN.jpg\n",
            "AJgd2psa0CUQPVgbq11p7o.jpg  qy50ebSpwmoyUfqU6oI665.jpg\n",
            "ajZNgWaGfoRUrBDhv4gD2I.jpg  r2uaP6kFAzfGzidigGCaTW.jpg\n",
            "AnHEU6EG6pMQGLefZKMQMu.jpg  RD9h7YQ08nRwWhmE9FLnCJ.jpg\n",
            "AyCkPS3aQ96h_Ri-I2Z5SA.jpg  rPxv5F2VeLKL0ehl7_ay94.jpg\n",
            "aZeUmLIKVmIFA8alz0CoAB.jpg  RuBSAB36FueNysq-Lgoq1s.jpg\n",
            "b8KEqm7A9yQaaLbuIxdtig.jpg  s9ZV7PYcSoLTOVJg8sAn9C.jpg\n",
            "bb1OMlJiKFVTBrlZp57DAQ.jpg  SHkBIuV7cXmDQQRGvtbDtv.jpg\n",
            "bGyPTKgkVdyEJUkGLcb7Ne.jpg  sn5O2bZcWHlfRlTbSx-HDF.jpg\n",
            "BT_QJHnkku2SoW5HHBgSS7.jpg  soXIEgABcL-3a_8zFw1OlU.jpg\n",
            "bvghb0C6x37UTZCzakljCM.jpg  s_pG8bMOBF0PJzHoJkhqoL.jpg\n",
            "C74j7wQH8NG4ToSjcrWCVE.jpg  Szqlgel2P_op08xhdYyXeL.jpg\n",
            "C885LZOEi98w8Gcu0AG4jy.jpg  -tiJeKas6BcUz4_i4aQSZs.jpg\n",
            "cDFVjVnO3CTRBYzEpYqLAr.jpg  tqfhy5jppsAk2FudQHd2RW.jpg\n",
            "CgDt3Wh8so8sSXgrgCGs_8.jpg  U0sR2HhNBzjl2Bf2am7xpJ.jpg\n",
            "CKwIGLqkxo2CYe55QE8dPc.jpg  u8USHMS94QaUypR_QTs4zw.jpg\n",
            "-_cn30QYaspIBK1admtTq5.jpg  uRTy9InQtij-hLvhzUsy7C.jpg\n",
            "dltrMFl79KCwcCnjZM9nyw.jpg  USZFEa-Gc0Z1Rub_T4Pwmi.jpg\n",
            "dnmC-U5W1MUHsGUMTmapmz.jpg  uUrrE5VF2z4xaby-EMpqfR.jpg\n",
            "DnuzWTOKYGXXRUUivIT_e4.jpg  UYv3fkXusvMGQA7yN-ZvN4.jpg\n",
            "dpOAPoXWfvT6LvfzU4_mLE.jpg  v30v8nHJy_EePUf1ki4IE8.jpg\n",
            "E0l21oqEV8qPHQmsaBjup5.jpg  VgQV9phKKXTCnpjcR27vnT.jpg\n",
            "e2f7Ahi7P0SCoenO8jD5oz.jpg  vlJd2BguEEctoMKmFnMGDi.jpg\n",
            "E7RiPJ_3jdvwMmsqH7CrOp.jpg  VsqKm1lF8Zq-5iZDtBwZ3R.jpg\n",
            "e9TdfzqIw7FLu8xbx6W9ww.jpg  vtusy02CeVGoqVig9LusXZ.jpg\n",
            "ecXWLi-l4xUmEiTJP-48xo.jpg  VtZycMbVCAYVGrMOf7KIQ-.jpg\n",
            "E-LXrGhKzqJiUJyzmh5T4g.jpg  vWUEa6P7Ht4-y2xgzTi8fH.jpg\n",
            "enH53teyBGZfb7cLVe6h4g.jpg  vxd2Wh1kgTJWOp00x9WEWw.jpg\n",
            "eyRW2OFFvMkQGCcZx6u3pI.jpg  W0Fex66WtAvAootHAf1MUv.jpg\n",
            "_-eYuDVL5aWF0JC1BvAWlT.jpg  w33deQqqU6QauzOAdbZfBk.jpg\n",
            "ezkIz2NDVcbAcE_5es0Dv0.jpg  w4xJ-lpNA0xuUHtEPdxYtB.jpg\n",
            "fa6D7UnJjtxqsiriAqiwRe.jpg  W6c6IBwBSyEXX1-oIGM76J.jpg\n",
            "fOgn3bTZk29KvEw1N3EksV.jpg  W7GuuwcTkKJWD_frh7zuaz.jpg\n",
            "G0gWjJIXKzNQTTBDWcyPIM.jpg  wBcH6mg4pxBxs-9ZmFhW3Q.jpg\n",
            "gc18_c_9nQTiZcU1Q6D-0r.jpg  WbG_JZcAhjilfk9EabEeCx.jpg\n",
            "Ge-taVg1SIxmcFS0uXW-Ln.jpg  WD1swzbDI5ZHYplhEqDMNw.jpg\n",
            "gFeeWpizj5CL6fmY5X9Rgl.jpg  WhpAvNTFGAdac1IRDCzihR.jpg\n",
            "GK8dFnWy4pWPX63-3TfnEb.jpg  w_UI3BM9lTMID8Au_sdSjW.jpg\n",
            "gPYkRQwgxstaj0OE2dVyW0.jpg  WWNrXuHRIjHAZskfUh0t1X.jpg\n",
            "GSrVEDVLQPMi1O09Vh4U10.jpg  wWxaVN6B9m-9lA9EsDbVWD.jpg\n",
            "GZNFymMpLYTeXHzYc0YKur.jpg  WZNKBurnccCmsTLVXJtVDg.jpg\n",
            "HDicxV-1IEKQcN5_LJY0qf.jpg  xBdVDqrxiob17bPp1WwHQc.jpg\n",
            "hFjRrCjoEw0UB2cbwN6DT0.jpg  xEGRUqKL2HueYleJbEqBUl.jpg\n",
            "hGxTQ0MI1AchIQKOU3tc4n.jpg  xEIFwjwdoudIFfBfL0_OZ6.jpg\n",
            "hobHTX8s7ZoL9ipBRCnpo7.jpg  XFulSny0n6KnuW3i90bLyy.jpg\n",
            "HR-zQLUfN14KEd_oMLzDS0.jpg  xmzAsZ9MmYIsWcvOnboqXI.jpg\n",
            "I0KpMbwuleZb7Tn6aQcON5.jpg  xRSK9j3ZsKhA0PpoAjlxYA.jpg\n",
            "ie1U29PCdvmzxYvyg-cghM.jpg  xzfPiO1lxK4dNv8VqGcKMo.jpg\n",
            "IITGnTphI0W5Z1Z3_P7WQk.jpg  y05ODISL_LGGh4mWMR2FhA.jpg\n",
            "Intv9fNyivc7se_tPBzuq7.jpg  Y0eSi712NzLyU4nQZYHylA.jpg\n",
            "Iu5momxqHdEEnwq25_6Qu2.jpg  y774fJSODL43xnC8OchFH1.jpg\n",
            "iyI-qvUKkuugNOj_Wm-GlT.jpg  yB1nJ8Wr3pQ_Uiz-pe-tRY.jpg\n",
            "J2VCfxoItmlwxPFuXaTCKQ.jpg  _ydm8HFWDp92ZDYGnn6Z3O.jpg\n",
            "j8XmjZeqDLpFoUahxeYEq5.jpg  yjWSZj-mrTZ8quKlqpH6U3.jpg\n",
            "JB_lyEcIIl1Vq-KuPiCV5N.jpg  yp_z4udxi6x4ym4IwooEYf.jpg\n",
            "jdfL6ax3GxMC2247uKI7Mx.jpg  zDw7tHPF3aq-dODHMjzCvA.jpg\n",
            "JEPJGFinTPxg5gakUH_kD8.jpg  zFZFpBrzQMl8KU0ZacgXMq.jpg\n",
            "JJg2KaATGylssgXwtWD2B9.jpg  -ZgXjb8NYw2dK7YcY1XbWc.jpg\n",
            "jQ_3fgImYHg3t9YX9HG_IZ.jpg  ZJWRIJTmS0AbpjkOJzqbbA.jpg\n",
            "jSTNFNb4GF0qK-9uWgaKg_.jpg  zqhih_15NGv5SKLzQnk394.jpg\n",
            "Jxql9Ypr5HosuYkRziArgp.jpg  zt68f6aQVx0tiZ0wulagDW.jpg\n",
            "klUz9BDtdap2rW1vfM8YXb.jpg  Z_u9YRth9i4I5MvTaFr6b1.jpg\n",
            "k_qwj47T5pHi6jB1x4Jncg.jpg  ZvHlTM6w47hVDfzPB6HBzQ.jpg\n",
            "kUNKUbIrwsYN2azWIpMSma.jpg  ZWdL1AFvZQ1nJ15tHNXDEV.jpg\n",
            "kUZYUcvDvgELc-f82QsHto.jpg\n"
          ]
        }
      ]
    },
    {
      "cell_type": "code",
      "source": [
        "mv  wrong_labels results_day_night/wrong_labels"
      ],
      "metadata": {
        "id": "gWFvTzfpKV1b"
      },
      "execution_count": null,
      "outputs": []
    },
    {
      "cell_type": "code",
      "source": [
        "df.to_csv(\"results_day_night/results_day_night.csv\")"
      ],
      "metadata": {
        "id": "iqFAziA4J_uE"
      },
      "execution_count": null,
      "outputs": []
    },
    {
      "cell_type": "code",
      "source": [
        "%load_ext tensorboard\n",
        "%tensorboard --logdir model_info/logs"
      ],
      "metadata": {
        "id": "K-RyipU5bCrP"
      },
      "execution_count": null,
      "outputs": []
    },
    {
      "cell_type": "code",
      "source": [
        "model = models.unfreeze_model(model,n_layers = 5)\n",
        "model._name = \"MNV3_A\"\n",
        "model.compile(optimizer=tf.keras.optimizers.Adam(0.0001),loss=tf.keras.losses.BinaryCrossentropy(),metrics=[\"accuracy\"])"
      ],
      "metadata": {
        "id": "nij_w1P1GLHD"
      },
      "execution_count": null,
      "outputs": []
    },
    {
      "cell_type": "code",
      "source": [
        "log_dir = f\"model_info/logs/\" + model.name \n",
        "checkpoint_path = f\"model_info/weights/{model.name}/\"\n",
        "last_model = f\"model_info/models/{model.name}\"\n",
        "\n",
        "os.makedirs(log_dir)\n",
        "os.makedirs(checkpoint_path)\n",
        "os.makedirs(last_model)\n",
        "\n",
        "tensorboard_callback = tf.keras.callbacks.TensorBoard(log_dir=log_dir)\n",
        "\n",
        "cp_callback = tf.keras.callbacks.ModelCheckpoint(\n",
        "    filepath=checkpoint_path+ \"weights\",\n",
        "    verbose=1,\n",
        "    monitor='val_accuracy',\n",
        "    save_weights_only=True,\n",
        "    save_best_only=True)\n",
        "\n",
        "early_stopping_callback = tf.keras.callbacks.EarlyStopping(\n",
        "    monitor='val_accuracy',\n",
        "    min_delta=0.02,\n",
        "    patience=4,\n",
        "    verbose=1,\n",
        "    mode='auto',\n",
        "    restore_best_weights=True\n",
        ") "
      ],
      "metadata": {
        "id": "YcxCOMmpMD6S"
      },
      "execution_count": null,
      "outputs": []
    },
    {
      "cell_type": "code",
      "source": [
        "hist_a = model.fit(train_ds, epochs=15, validation_data=val_ds,callbacks=[tensorboard_callback,cp_callback,early_stopping_callback],initial_epoch = 5)"
      ],
      "metadata": {
        "id": "b-QK9mDVMG4U"
      },
      "execution_count": null,
      "outputs": []
    },
    {
      "cell_type": "code",
      "source": [
        "import matplotlib.pyplot as plt\n",
        "acc = hist.history['accuracy']\n",
        "val_acc = hist.history['val_accuracy']\n",
        "\n",
        "loss = hist.history['loss']\n",
        "val_loss = hist.history['val_loss']\n",
        "\n",
        "plt.figure(figsize=(8, 8))\n",
        "plt.subplot(2, 1, 1)\n",
        "plt.plot(acc, label='Training Accuracy')\n",
        "plt.plot(val_acc, label='Validation Accuracy')\n",
        "plt.legend(loc='lower right')\n",
        "plt.ylabel('Accuracy')\n",
        "plt.ylim([min(plt.ylim()),1])\n",
        "plt.title('Training and Validation Accuracy')\n",
        "\n",
        "plt.subplot(2, 1, 2)\n",
        "plt.plot(loss, label='Training Loss')\n",
        "plt.plot(val_loss, label='Validation Loss')\n",
        "plt.legend(loc='upper right')\n",
        "plt.ylabel('Cross Entropy')\n",
        "plt.ylim([0,1.0])\n",
        "plt.title('Training and Validation Loss')\n",
        "plt.xlabel('epoch')\n",
        "plt.show()"
      ],
      "metadata": {
        "id": "0qIh9LRVOheg"
      },
      "execution_count": null,
      "outputs": []
    },
    {
      "cell_type": "code",
      "source": [
        "acc += hist_a.history['accuracy']\n",
        "val_acc += hist_a.history['val_accuracy']\n",
        "\n",
        "loss += hist_a.history['loss']\n",
        "val_loss += hist_a.history['val_loss']\n",
        "\n",
        "initial_epochs = 5\n",
        "\n",
        "plt.figure(figsize=(8, 8))\n",
        "plt.subplot(2, 1, 1)\n",
        "plt.plot(acc, label='Training Accuracy')\n",
        "plt.plot(val_acc, label='Validation Accuracy')\n",
        "plt.plot([initial_epochs-1,initial_epochs-1],\n",
        "          plt.ylim(), label='Start Fine Tuning')\n",
        "plt.legend(loc='lower right')\n",
        "plt.title('Training and Validation Accuracy')\n",
        "\n",
        "plt.subplot(2, 1, 2)\n",
        "plt.plot(loss, label='Training Loss')\n",
        "plt.plot(val_loss, label='Validation Loss')\n",
        "plt.ylim([0, 1.0])\n",
        "plt.plot([initial_epochs-1,initial_epochs-1],\n",
        "         plt.ylim(), label='Start Fine Tuning')\n",
        "plt.legend(loc='upper right')\n",
        "plt.title('Training and Validation Loss')\n",
        "plt.xlabel('epoch')\n",
        "plt.show()"
      ],
      "metadata": {
        "id": "-lrNqk0qOCPY"
      },
      "execution_count": null,
      "outputs": []
    },
    {
      "cell_type": "code",
      "source": [
        "!cp -r model_info/logs/try ../drive/MyDrive/UAL/model_info/logs/try\n",
        "!cp -r model_info/weights/* ../drive/MyDrive/UAL/model_info/weights/*\n"
      ],
      "metadata": {
        "id": "GOWudJzNP4ru"
      },
      "execution_count": null,
      "outputs": []
    },
    {
      "cell_type": "code",
      "source": [
        "ls model_info "
      ],
      "metadata": {
        "id": "UImyHE6YP01X"
      },
      "execution_count": null,
      "outputs": []
    }
  ]
}