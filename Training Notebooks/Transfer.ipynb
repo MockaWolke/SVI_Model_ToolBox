{
  "nbformat": 4,
  "nbformat_minor": 0,
  "metadata": {
    "colab": {
      "name": "Transfer.ipynb",
      "provenance": [],
      "collapsed_sections": [],
      "authorship_tag": "ABX9TyNSlhxM4D+B2iIsjau0g2lP",
      "include_colab_link": true
    },
    "kernelspec": {
      "name": "python3",
      "display_name": "Python 3"
    },
    "language_info": {
      "name": "python"
    },
    "gpuClass": "standard",
    "accelerator": "GPU"
  },
  "cells": [
    {
      "cell_type": "markdown",
      "metadata": {
        "id": "view-in-github",
        "colab_type": "text"
      },
      "source": [
        "<a href=\"https://colab.research.google.com/github/MockaWolke/Places/blob/master/Transfer.ipynb\" target=\"_parent\"><img src=\"https://colab.research.google.com/assets/colab-badge.svg\" alt=\"Open In Colab\"/></a>"
      ]
    },
    {
      "cell_type": "code",
      "source": [
        "model_name = \"ENB2-Aug-Transfer\""
      ],
      "metadata": {
        "id": "dDwL4Po6qg7x"
      },
      "execution_count": null,
      "outputs": []
    },
    {
      "cell_type": "code",
      "source": [
        "!git clone https://github.com/MockaWolke/Places.git\n",
        "from google.colab import drive\n",
        "drive.mount('/content/drive')\n",
        "!cp drive/MyDrive/UAL/View_Directions.zip View_Directions.zip \n",
        "!cp drive/MyDrive/UAL/data.csv Places/data.csv \n",
        "!unzip -q View_Directions.zip -d Places\n",
        "!rm  View_Directions.zip\n",
        "\n",
        "import tensorflow as tf\n",
        "import pandas as pd\n",
        "import numpy as np\n",
        "import tensorflow_datasets as tfds\n",
        "import os\n",
        "\n",
        "os.chdir(\"Places\")\n",
        "!mkdir models\n",
        "import ds_generator\n",
        "import models\n",
        "import plotting"
      ],
      "metadata": {
        "colab": {
          "base_uri": "https://localhost:8080/"
        },
        "id": "juL-WAF7ElUz",
        "outputId": "dc7b84c0-67d4-45fe-98d3-d989abf1ca8f"
      },
      "execution_count": 1,
      "outputs": [
        {
          "output_type": "stream",
          "name": "stdout",
          "text": [
            "Cloning into 'Places'...\n",
            "remote: Enumerating objects: 23, done.\u001b[K\n",
            "remote: Counting objects: 100% (23/23), done.\u001b[K\n",
            "remote: Compressing objects: 100% (15/15), done.\u001b[K\n",
            "remote: Total 23 (delta 10), reused 20 (delta 7), pack-reused 0\u001b[K\n",
            "Unpacking objects: 100% (23/23), done.\n",
            "Mounted at /content/drive\n"
          ]
        }
      ]
    },
    {
      "cell_type": "code",
      "source": [
        "train_ds, val_ds = ds_generator.get_train_and_val(name=model_name)\n",
        "model = models.transfer_model()"
      ],
      "metadata": {
        "id": "rAc_VbaD_Gj2",
        "colab": {
          "base_uri": "https://localhost:8080/"
        },
        "outputId": "776b0868-5881-4733-812d-dc30d622ee4c"
      },
      "execution_count": 2,
      "outputs": [
        {
          "output_type": "stream",
          "name": "stdout",
          "text": [
            "Downloading data from https://storage.googleapis.com/keras-applications/efficientnetb2_notop.h5\n",
            "31793152/31790344 [==============================] - 0s 0us/step\n",
            "31801344/31790344 [==============================] - 0s 0us/step\n"
          ]
        }
      ]
    },
    {
      "cell_type": "code",
      "source": [
        "model_loc = \"models/\"+ model_name\n",
        "log_dir = model_loc + \"/logs\"\n",
        "checkpoint_path = model_loc + \"/saves\"\n",
        "last_model = model_loc + \"/last_model\"\n",
        "\n",
        "if model_name not in os.listdir(\"models\"):\n",
        "\n",
        "  os.makedirs(model_loc )\n",
        "  os.makedirs(log_dir)\n",
        "  os.makedirs(checkpoint_path)\n",
        "  os.makedirs(last_model)\n",
        "  \n",
        "\n",
        "\n",
        "tensorboard_callback = tf.keras.callbacks.TensorBoard(log_dir=log_dir)\n",
        "\n",
        "cp_callback = tf.keras.callbacks.ModelCheckpoint(\n",
        "    filepath=checkpoint_path,\n",
        "    verbose=1,\n",
        "    save_weights_only=True,\n",
        "    save_best_only=True)\n",
        "\n",
        "early_stopping_callback = tf.keras.callbacks.EarlyStopping(\n",
        "    monitor='val_loss',\n",
        "    min_delta=0.01,\n",
        "    patience=10,\n",
        "    verbose=1,\n",
        "    mode='auto',\n",
        "    restore_best_weights=True\n",
        ") "
      ],
      "metadata": {
        "id": "l3clpzdyXC_R"
      },
      "execution_count": 7,
      "outputs": []
    },
    {
      "cell_type": "code",
      "source": [
        "hist = model.fit(train_ds, epochs=25, validation_data=val_ds,callbacks=[tensorboard_callback,cp_callback,early_stopping_callback])"
      ],
      "metadata": {
        "id": "oy58T4TKGTZ9",
        "colab": {
          "base_uri": "https://localhost:8080/"
        },
        "outputId": "5f639aef-e237-440e-f1a0-dc2ffebbd92b"
      },
      "execution_count": 10,
      "outputs": [
        {
          "output_type": "stream",
          "name": "stdout",
          "text": [
            "Epoch 1/25\n",
            "1616/1616 [==============================] - ETA: 0s - loss: 0.5328 - accuracy: 0.8326\n",
            "Epoch 1: val_loss improved from inf to 0.35080, saving model to models/ENB2-Start/saves\n",
            "1616/1616 [==============================] - 485s 288ms/step - loss: 0.5328 - accuracy: 0.8326 - val_loss: 0.3508 - val_accuracy: 0.8692\n",
            "Epoch 2/25\n",
            "1616/1616 [==============================] - ETA: 0s - loss: 0.3985 - accuracy: 0.8482\n",
            "Epoch 2: val_loss improved from 0.35080 to 0.34906, saving model to models/ENB2-Start/saves\n",
            "1616/1616 [==============================] - 463s 286ms/step - loss: 0.3985 - accuracy: 0.8482 - val_loss: 0.3491 - val_accuracy: 0.8686\n",
            "Epoch 3/25\n",
            "1616/1616 [==============================] - ETA: 0s - loss: 0.3972 - accuracy: 0.8470\n",
            "Epoch 3: val_loss did not improve from 0.34906\n",
            "1616/1616 [==============================] - 463s 286ms/step - loss: 0.3972 - accuracy: 0.8470 - val_loss: 0.3930 - val_accuracy: 0.8554\n",
            "Epoch 4/25\n",
            "1616/1616 [==============================] - ETA: 0s - loss: 0.4050 - accuracy: 0.8447\n",
            "Epoch 4: val_loss did not improve from 0.34906\n",
            "Restoring model weights from the end of the best epoch: 1.\n",
            "1616/1616 [==============================] - 463s 287ms/step - loss: 0.4050 - accuracy: 0.8447 - val_loss: 0.3739 - val_accuracy: 0.8629\n",
            "Epoch 4: early stopping\n"
          ]
        }
      ]
    },
    {
      "cell_type": "code",
      "source": [
        "plotting.plot_hist(hist)"
      ],
      "metadata": {
        "colab": {
          "base_uri": "https://localhost:8080/"
        },
        "id": "aCyX0DMtnvVc",
        "outputId": "7420fcad-eec7-4954-8c55-591aa26cf8a8"
      },
      "execution_count": 11,
      "outputs": [
        {
          "output_type": "execute_result",
          "data": {
            "text/plain": [
              "<keras.callbacks.History at 0x7fe8287a6c10>"
            ]
          },
          "metadata": {},
          "execution_count": 11
        }
      ]
    },
    {
      "cell_type": "code",
      "source": [
        "model.save(last_model)"
      ],
      "metadata": {
        "colab": {
          "base_uri": "https://localhost:8080/"
        },
        "id": "NqxU11fhoJ40",
        "outputId": "e5dd8b45-92d9-44b6-879a-833010e7017a"
      },
      "execution_count": 14,
      "outputs": [
        {
          "output_type": "stream",
          "name": "stdout",
          "text": [
            "INFO:tensorflow:Assets written to: models/ENB2-Start/assets\n"
          ]
        },
        {
          "output_type": "stream",
          "name": "stderr",
          "text": [
            "INFO:tensorflow:Assets written to: models/ENB2-Start/assets\n"
          ]
        }
      ]
    },
    {
      "cell_type": "code",
      "source": [
        "cp -a models/. ../drive/MyDrive/UAL/models/"
      ],
      "metadata": {
        "id": "dfEkZcoipta4"
      },
      "execution_count": 22,
      "outputs": []
    }
  ]
}