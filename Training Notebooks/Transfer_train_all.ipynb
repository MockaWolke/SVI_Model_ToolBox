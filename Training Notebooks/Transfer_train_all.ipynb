{
  "nbformat": 4,
  "nbformat_minor": 0,
  "metadata": {
    "colab": {
      "name": "Transfer_train_all.ipynb",
      "provenance": [],
      "collapsed_sections": [],
      "authorship_tag": "ABX9TyPi3ErUTRbfg6OVdAEAPYQ3",
      "include_colab_link": true
    },
    "kernelspec": {
      "name": "python3",
      "display_name": "Python 3"
    },
    "language_info": {
      "name": "python"
    },
    "gpuClass": "standard",
    "accelerator": "GPU"
  },
  "cells": [
    {
      "cell_type": "markdown",
      "metadata": {
        "id": "view-in-github",
        "colab_type": "text"
      },
      "source": [
        "<a href=\"https://colab.research.google.com/github/MockaWolke/Places/blob/master/Transfer_train_all.ipynb\" target=\"_parent\"><img src=\"https://colab.research.google.com/assets/colab-badge.svg\" alt=\"Open In Colab\"/></a>"
      ]
    },
    {
      "cell_type": "code",
      "source": [
        "model_name = \"ENB2-Aug-Transfer-All\""
      ],
      "metadata": {
        "id": "dDwL4Po6qg7x"
      },
      "execution_count": null,
      "outputs": []
    },
    {
      "cell_type": "code",
      "source": [
        "!git clone https://github.com/MockaWolke/Places.git\n",
        "from google.colab import drive\n",
        "drive.mount('/content/drive')\n",
        "!cp drive/MyDrive/UAL/View_Directions.zip View_Directions.zip \n",
        "!cp drive/MyDrive/UAL/data.csv Places/data.csv \n",
        "!unzip -q View_Directions.zip -d Places\n",
        "!rm  View_Directions.zip\n",
        "\n",
        "import tensorflow as tf\n",
        "import pandas as pd\n",
        "import numpy as np\n",
        "import tensorflow_datasets as tfds\n",
        "import os\n",
        "os.chdir(\"Places\")\n",
        "import ds_generator\n",
        "import models\n",
        "import plotting"
      ],
      "metadata": {
        "colab": {
          "base_uri": "https://localhost:8080/"
        },
        "id": "juL-WAF7ElUz",
        "outputId": "9fd1115b-0d2f-4322-eedc-9a219fcd43a5"
      },
      "execution_count": null,
      "outputs": [
        {
          "output_type": "stream",
          "name": "stdout",
          "text": [
            "Cloning into 'Places'...\n",
            "remote: Enumerating objects: 43, done.\u001b[K\n",
            "remote: Counting objects: 100% (43/43), done.\u001b[K\n",
            "remote: Compressing objects: 100% (32/32), done.\u001b[K\n",
            "remote: Total 43 (delta 23), reused 29 (delta 10), pack-reused 0\u001b[K\n",
            "Unpacking objects: 100% (43/43), done.\n",
            "Mounted at /content/drive\n"
          ]
        }
      ]
    },
    {
      "cell_type": "code",
      "source": [
        "train_ds, val_ds = ds_generator.get_train_and_val()\n",
        "model = tf.keras.models.load_model('../drive/MyDrive/UAL/models/ENB2-Aug-Transfer/last_model')\n",
        "model = models.unfreeze_model(model)"
      ],
      "metadata": {
        "id": "rAc_VbaD_Gj2"
      },
      "execution_count": null,
      "outputs": []
    },
    {
      "cell_type": "code",
      "source": [
        "model_loc = \"../drive/MyDrive/UAL/models/\"+ model_name\n",
        "log_dir = model_loc + \"/logs\"\n",
        "checkpoint_path = model_loc + \"/saves_after_e10\"\n",
        "last_model = model_loc + \"/last_model_after_e10\"\n",
        "\n",
        "if model_name not in os.listdir(\"../drive/MyDrive/UAL/models/\"):\n",
        "\n",
        "  os.makedirs(model_loc )\n",
        "  os.makedirs(log_dir)\n",
        "  os.makedirs(checkpoint_path)\n",
        "  os.makedirs(last_model)\n",
        "  \n",
        "\n",
        "\n",
        "tensorboard_callback = tf.keras.callbacks.TensorBoard(log_dir=log_dir)\n",
        "\n",
        "cp_callback = tf.keras.callbacks.ModelCheckpoint(\n",
        "    filepath=checkpoint_path,\n",
        "    verbose=1,\n",
        "    save_weights_only=True,\n",
        "    save_best_only=True)\n",
        "\n",
        "early_stopping_callback = tf.keras.callbacks.EarlyStopping(\n",
        "    monitor='val_loss',\n",
        "    min_delta=0.02,\n",
        "    patience=4,\n",
        "    verbose=1,\n",
        "    mode='auto',\n",
        "    restore_best_weights=True\n",
        ") "
      ],
      "metadata": {
        "id": "l3clpzdyXC_R"
      },
      "execution_count": null,
      "outputs": []
    },
    {
      "cell_type": "code",
      "source": [
        "hist = model.fit(train_ds, epochs=10, validation_data=val_ds,callbacks=[tensorboard_callback,cp_callback,early_stopping_callback])"
      ],
      "metadata": {
        "id": "oy58T4TKGTZ9",
        "colab": {
          "base_uri": "https://localhost:8080/"
        },
        "outputId": "022f804d-5929-46c4-aac9-424ba9223ea2"
      },
      "execution_count": null,
      "outputs": [
        {
          "output_type": "stream",
          "name": "stdout",
          "text": [
            "Epoch 1/10\n",
            "1616/1616 [==============================] - ETA: 0s - loss: 0.3481 - accuracy: 0.8659\n",
            "Epoch 1: val_loss improved from inf to 0.26133, saving model to ../drive/MyDrive/UAL/models/ENB2-Aug-Transfer-All/saves\n",
            "1616/1616 [==============================] - 501s 296ms/step - loss: 0.3481 - accuracy: 0.8659 - val_loss: 0.2613 - val_accuracy: 0.9026\n",
            "Epoch 2/10\n",
            "1616/1616 [==============================] - ETA: 0s - loss: 0.2785 - accuracy: 0.8922\n",
            "Epoch 2: val_loss improved from 0.26133 to 0.23847, saving model to ../drive/MyDrive/UAL/models/ENB2-Aug-Transfer-All/saves\n",
            "1616/1616 [==============================] - 479s 297ms/step - loss: 0.2785 - accuracy: 0.8922 - val_loss: 0.2385 - val_accuracy: 0.9075\n",
            "Epoch 3/10\n",
            "1616/1616 [==============================] - ETA: 0s - loss: 0.2485 - accuracy: 0.9046\n",
            "Epoch 3: val_loss improved from 0.23847 to 0.20600, saving model to ../drive/MyDrive/UAL/models/ENB2-Aug-Transfer-All/saves\n",
            "1616/1616 [==============================] - 479s 296ms/step - loss: 0.2485 - accuracy: 0.9046 - val_loss: 0.2060 - val_accuracy: 0.9226\n",
            "Epoch 4/10\n",
            "1616/1616 [==============================] - ETA: 0s - loss: 0.2246 - accuracy: 0.9141\n",
            "Epoch 4: val_loss improved from 0.20600 to 0.17877, saving model to ../drive/MyDrive/UAL/models/ENB2-Aug-Transfer-All/saves\n",
            "1616/1616 [==============================] - 478s 296ms/step - loss: 0.2246 - accuracy: 0.9141 - val_loss: 0.1788 - val_accuracy: 0.9334\n",
            "Epoch 5/10\n",
            "1616/1616 [==============================] - ETA: 0s - loss: 0.2070 - accuracy: 0.9206\n",
            "Epoch 5: val_loss did not improve from 0.17877\n",
            "1616/1616 [==============================] - 478s 296ms/step - loss: 0.2070 - accuracy: 0.9206 - val_loss: 0.1826 - val_accuracy: 0.9309\n",
            "Epoch 6/10\n",
            "1616/1616 [==============================] - ETA: 0s - loss: 0.1934 - accuracy: 0.9265\n",
            "Epoch 6: val_loss improved from 0.17877 to 0.16739, saving model to ../drive/MyDrive/UAL/models/ENB2-Aug-Transfer-All/saves\n",
            "1616/1616 [==============================] - 478s 296ms/step - loss: 0.1934 - accuracy: 0.9265 - val_loss: 0.1674 - val_accuracy: 0.9345\n",
            "Epoch 7/10\n",
            "1616/1616 [==============================] - ETA: 0s - loss: 0.1821 - accuracy: 0.9315\n",
            "Epoch 7: val_loss improved from 0.16739 to 0.16194, saving model to ../drive/MyDrive/UAL/models/ENB2-Aug-Transfer-All/saves\n",
            "1616/1616 [==============================] - 478s 296ms/step - loss: 0.1821 - accuracy: 0.9315 - val_loss: 0.1619 - val_accuracy: 0.9384\n",
            "Epoch 8/10\n",
            "1616/1616 [==============================] - ETA: 0s - loss: 0.1738 - accuracy: 0.9343\n",
            "Epoch 8: val_loss improved from 0.16194 to 0.15600, saving model to ../drive/MyDrive/UAL/models/ENB2-Aug-Transfer-All/saves\n",
            "1616/1616 [==============================] - 478s 296ms/step - loss: 0.1738 - accuracy: 0.9343 - val_loss: 0.1560 - val_accuracy: 0.9388\n",
            "Epoch 9/10\n",
            "1616/1616 [==============================] - ETA: 0s - loss: 0.1645 - accuracy: 0.9374\n",
            "Epoch 9: val_loss improved from 0.15600 to 0.14920, saving model to ../drive/MyDrive/UAL/models/ENB2-Aug-Transfer-All/saves\n",
            "1616/1616 [==============================] - 513s 317ms/step - loss: 0.1645 - accuracy: 0.9374 - val_loss: 0.1492 - val_accuracy: 0.9451\n",
            "Epoch 10/10\n",
            "1616/1616 [==============================] - ETA: 0s - loss: 0.1564 - accuracy: 0.9407\n",
            "Epoch 10: val_loss improved from 0.14920 to 0.13687, saving model to ../drive/MyDrive/UAL/models/ENB2-Aug-Transfer-All/saves\n",
            "1616/1616 [==============================] - 474s 293ms/step - loss: 0.1564 - accuracy: 0.9407 - val_loss: 0.1369 - val_accuracy: 0.9475\n"
          ]
        }
      ]
    },
    {
      "cell_type": "markdown",
      "source": [
        "### Stopped Training - No increases\n",
        "\n",
        "no save model"
      ],
      "metadata": {
        "id": "_Q_WfxQJChtb"
      }
    },
    {
      "cell_type": "code",
      "source": [
        "plotting.plot_hist(hist)"
      ],
      "metadata": {
        "colab": {
          "base_uri": "https://localhost:8080/",
          "height": 295
        },
        "id": "aCyX0DMtnvVc",
        "outputId": "f1fbe810-b5b6-4baa-8b4f-aba0e962b7b8"
      },
      "execution_count": null,
      "outputs": [
        {
          "output_type": "display_data",
          "data": {
            "text/plain": [
              "<Figure size 432x288 with 1 Axes>"
            ],
            "image/png": "[encoded data removed]"
          },
          "metadata": {
            "needs_background": "light"
          }
        }
      ]
    },
    {
      "cell_type": "code",
      "source": [
        "model.load_weights(checkpoint_path)"
      ],
      "metadata": {
        "colab": {
          "base_uri": "https://localhost:8080/"
        },
        "id": "mw9v-_tfBfX9",
        "outputId": "ebccbadb-cab6-4f2e-cf6b-4b252dad1102"
      },
      "execution_count": null,
      "outputs": [
        {
          "output_type": "execute_result",
          "data": {
            "text/plain": [
              "<tensorflow.python.training.tracking.util.CheckpointLoadStatus at 0x7fbe458afb10>"
            ]
          },
          "metadata": {},
          "execution_count": 8
        }
      ]
    },
    {
      "cell_type": "code",
      "source": [
        "model.save(last_model)"
      ],
      "metadata": {
        "colab": {
          "base_uri": "https://localhost:8080/"
        },
        "id": "NqxU11fhoJ40",
        "outputId": "cc844afe-917f-4707-ec70-0a4383280654"
      },
      "execution_count": null,
      "outputs": [
        {
          "output_type": "stream",
          "name": "stdout",
          "text": [
            "INFO:tensorflow:Assets written to: ../drive/MyDrive/UAL/models/ENB2-Aug-Transfer-All/last_model/assets\n"
          ]
        }
      ]
    },
    {
      "cell_type": "code",
      "source": [
        "hist = model.fit(train_ds, epochs=15, validation_data=val_ds,callbacks=[tensorboard_callback,cp_callback,early_stopping_callback],initial_epoch=10)"
      ],
      "metadata": {
        "colab": {
          "base_uri": "https://localhost:8080/"
        },
        "id": "xxH7gr3faeMs",
        "outputId": "498e0192-e450-401a-80b8-ef8d89e38931"
      },
      "execution_count": null,
      "outputs": [
        {
          "output_type": "stream",
          "name": "stdout",
          "text": [
            "Epoch 11/15\n",
            "1616/1616 [==============================] - ETA: 0s - loss: 0.1493 - accuracy: 0.9445\n",
            "Epoch 11: val_loss improved from inf to 0.14600, saving model to ../drive/MyDrive/UAL/models/ENB2-Aug-Transfer-All/saves_after_e10\n",
            "1616/1616 [==============================] - 507s 313ms/step - loss: 0.1493 - accuracy: 0.9445 - val_loss: 0.1460 - val_accuracy: 0.9462\n",
            "Epoch 12/15\n",
            "1616/1616 [==============================] - ETA: 0s - loss: 0.1434 - accuracy: 0.9458\n",
            "Epoch 12: val_loss improved from 0.14600 to 0.13779, saving model to ../drive/MyDrive/UAL/models/ENB2-Aug-Transfer-All/saves_after_e10\n",
            "1616/1616 [==============================] - 509s 315ms/step - loss: 0.1434 - accuracy: 0.9458 - val_loss: 0.1378 - val_accuracy: 0.9495\n",
            "Epoch 13/15\n",
            "1616/1616 [==============================] - ETA: 0s - loss: 0.1392 - accuracy: 0.9486\n",
            "Epoch 13: val_loss improved from 0.13779 to 0.13045, saving model to ../drive/MyDrive/UAL/models/ENB2-Aug-Transfer-All/saves_after_e10\n",
            "1616/1616 [==============================] - 473s 293ms/step - loss: 0.1392 - accuracy: 0.9486 - val_loss: 0.1304 - val_accuracy: 0.9511\n",
            "Epoch 14/15\n",
            " 302/1616 [====>.........................] - ETA: 5:45 - loss: 0.1338 - accuracy: 0.9489"
          ]
        }
      ]
    }
  ]
}