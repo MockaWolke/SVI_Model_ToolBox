{
 "cells": [
  {
   "cell_type": "code",
   "execution_count": 1,
   "metadata": {},
   "outputs": [
    {
     "name": "stderr",
     "output_type": "stream",
     "text": [
      "c:\\Users\\ual\\.conda\\envs\\felix\\lib\\site-packages\\tqdm\\auto.py:22: TqdmWarning: IProgress not found. Please update jupyter and ipywidgets. See https://ipywidgets.readthedocs.io/en/stable/user_install.html\n",
      "  from .autonotebook import tqdm as notebook_tqdm\n"
     ]
    }
   ],
   "source": [
    "import numpy as np\n",
    "import pandas as pd\n",
    "import tensorflow as tf\n",
    "import tensorflow_datasets as tfds\n",
    "import tqdm\n",
    "\n",
    "# df = pd.read_feather(\"traning_imgs.df\")\n",
    "# old = pd.read_feather(\"../data_analysis/prelim.feather\").set_index(\"key\")\n",
    "# df[\"seq_key\"] = old.loc[df[\"key\"].values,\"sequence_key\"].values\n",
    "# df[\"view_direction\"] = old.loc[df[\"key\"].values,\"view_direction\"].values\n",
    "# df[\"city\"] = df.path.apply(lambda x: x[22: x.find(\"/\",22)])\n",
    "# func = lambda s: s[s.find(\"images/\")+7:]\n",
    "# df[\"local_path\"] =  \"../seq_data/\" + df.ds_type + \"/\" + df.path.apply(func).values\n",
    "# df = df.sort_values([\"city\",\"seq_key\",\"og_cluster\"])\n",
    "# df.index = range(len(df))\n",
    "# df.to_feather(\"traning_imgs.df\")"
   ]
  },
  {
   "cell_type": "code",
   "execution_count": 2,
   "metadata": {},
   "outputs": [],
   "source": [
    "# df = pd.read_feather(\"traning_imgs.df\")\n",
    "\n",
    "# model = tf.keras.models.load_model(\"../../view_directions_task_single_image/Training/training_results/last_model/ENB0_All/model\")\n",
    "# preds = model.predict(ds,verbose=1)\n",
    "# def mapping(path,label):\n",
    "\n",
    "#     image = tf.io.read_file(path)\n",
    "#     image = tf.io.decode_jpeg(image, channels=3)\n",
    "#     label = tf.one_hot(label,2)\n",
    "#     return image, label\n",
    "# ds = tf.data.Dataset.from_tensor_slices((df.local_path.values,(df.view_direction==\"Sideways\").apply(int).values)).map(mapping).batch(64)\n",
    "\n",
    "# df[\"lon\"] = preds[:,0]\n",
    "# df[\"lat\"] = preds[:,1]\n",
    "# df.to_feather('imgs_preds.df')"
   ]
  },
  {
   "cell_type": "code",
   "execution_count": 3,
   "metadata": {},
   "outputs": [
    {
     "data": {
      "text/plain": [
       "0.11222405"
      ]
     },
     "execution_count": 3,
     "metadata": {},
     "output_type": "execute_result"
    }
   ],
   "source": [
    "y_true = [[0, 1], [1,0], [1,0]]\n",
    "y_pred = [[-18.6, 0.51], [1,0], [1,0]]\n",
    "bce = tf.keras.losses.BinaryCrossentropy(from_logits=False)\n",
    "bce(y_true, y_pred).numpy().mean()\n"
   ]
  },
  {
   "cell_type": "code",
   "execution_count": 4,
   "metadata": {},
   "outputs": [
    {
     "data": {
      "text/html": [
       "<div>\n",
       "<style scoped>\n",
       "    .dataframe tbody tr th:only-of-type {\n",
       "        vertical-align: middle;\n",
       "    }\n",
       "\n",
       "    .dataframe tbody tr th {\n",
       "        vertical-align: top;\n",
       "    }\n",
       "\n",
       "    .dataframe thead th {\n",
       "        text-align: right;\n",
       "    }\n",
       "</style>\n",
       "<table border=\"1\" class=\"dataframe\">\n",
       "  <thead>\n",
       "    <tr style=\"text-align: right;\">\n",
       "      <th></th>\n",
       "      <th>key</th>\n",
       "      <th>cluster_id</th>\n",
       "      <th>ds_type</th>\n",
       "      <th>og_cluster</th>\n",
       "      <th>path</th>\n",
       "      <th>seq_key</th>\n",
       "      <th>city</th>\n",
       "      <th>local_path</th>\n",
       "      <th>view_direction</th>\n",
       "      <th>lon</th>\n",
       "      <th>lat</th>\n",
       "      <th>label0</th>\n",
       "      <th>label1</th>\n",
       "    </tr>\n",
       "  </thead>\n",
       "  <tbody>\n",
       "    <tr>\n",
       "      <th>0</th>\n",
       "      <td>wdIMhVzUKwF-wgJxrhL0lQ</td>\n",
       "      <td>26</td>\n",
       "      <td>train</td>\n",
       "      <td>26</td>\n",
       "      <td>Places_Data/train_val/amman/query/images/wdIMh...</td>\n",
       "      <td>004Lc-M_TjGRo7Ve-0Fhqw</td>\n",
       "      <td>amman</td>\n",
       "      <td>../seq_data/train/wdIMhVzUKwF-wgJxrhL0lQ.jpg</td>\n",
       "      <td>Forward</td>\n",
       "      <td>0.999992</td>\n",
       "      <td>8.027482e-06</td>\n",
       "      <td>1.0</td>\n",
       "      <td>0.0</td>\n",
       "    </tr>\n",
       "    <tr>\n",
       "      <th>1</th>\n",
       "      <td>QdtKhFvv3cDcoHBArvcHbw</td>\n",
       "      <td>26</td>\n",
       "      <td>train</td>\n",
       "      <td>26</td>\n",
       "      <td>Places_Data/train_val/amman/query/images/QdtKh...</td>\n",
       "      <td>004Lc-M_TjGRo7Ve-0Fhqw</td>\n",
       "      <td>amman</td>\n",
       "      <td>../seq_data/train/QdtKhFvv3cDcoHBArvcHbw.jpg</td>\n",
       "      <td>Forward</td>\n",
       "      <td>1.000000</td>\n",
       "      <td>1.604972e-07</td>\n",
       "      <td>1.0</td>\n",
       "      <td>0.0</td>\n",
       "    </tr>\n",
       "    <tr>\n",
       "      <th>2</th>\n",
       "      <td>7RjQtvVfAdRd3qnm80w4Yg</td>\n",
       "      <td>26</td>\n",
       "      <td>train</td>\n",
       "      <td>26</td>\n",
       "      <td>Places_Data/train_val/amman/query/images/7RjQt...</td>\n",
       "      <td>004Lc-M_TjGRo7Ve-0Fhqw</td>\n",
       "      <td>amman</td>\n",
       "      <td>../seq_data/train/7RjQtvVfAdRd3qnm80w4Yg.jpg</td>\n",
       "      <td>Forward</td>\n",
       "      <td>0.999999</td>\n",
       "      <td>1.003697e-06</td>\n",
       "      <td>1.0</td>\n",
       "      <td>0.0</td>\n",
       "    </tr>\n",
       "    <tr>\n",
       "      <th>3</th>\n",
       "      <td>pW-u_bvOqxgZU6oGeyQjEA</td>\n",
       "      <td>26</td>\n",
       "      <td>train</td>\n",
       "      <td>26</td>\n",
       "      <td>Places_Data/train_val/amman/query/images/pW-u_...</td>\n",
       "      <td>004Lc-M_TjGRo7Ve-0Fhqw</td>\n",
       "      <td>amman</td>\n",
       "      <td>../seq_data/train/pW-u_bvOqxgZU6oGeyQjEA.jpg</td>\n",
       "      <td>Forward</td>\n",
       "      <td>0.999940</td>\n",
       "      <td>6.010981e-05</td>\n",
       "      <td>1.0</td>\n",
       "      <td>0.0</td>\n",
       "    </tr>\n",
       "    <tr>\n",
       "      <th>4</th>\n",
       "      <td>ritUetJDRquvOYH8Z5qbNQ</td>\n",
       "      <td>26</td>\n",
       "      <td>train</td>\n",
       "      <td>26</td>\n",
       "      <td>Places_Data/train_val/amman/query/images/ritUe...</td>\n",
       "      <td>004Lc-M_TjGRo7Ve-0Fhqw</td>\n",
       "      <td>amman</td>\n",
       "      <td>../seq_data/train/ritUetJDRquvOYH8Z5qbNQ.jpg</td>\n",
       "      <td>Forward</td>\n",
       "      <td>0.999498</td>\n",
       "      <td>5.021754e-04</td>\n",
       "      <td>1.0</td>\n",
       "      <td>0.0</td>\n",
       "    </tr>\n",
       "  </tbody>\n",
       "</table>\n",
       "</div>"
      ],
      "text/plain": [
       "                      key  cluster_id ds_type  og_cluster  \\\n",
       "0  wdIMhVzUKwF-wgJxrhL0lQ          26   train          26   \n",
       "1  QdtKhFvv3cDcoHBArvcHbw          26   train          26   \n",
       "2  7RjQtvVfAdRd3qnm80w4Yg          26   train          26   \n",
       "3  pW-u_bvOqxgZU6oGeyQjEA          26   train          26   \n",
       "4  ritUetJDRquvOYH8Z5qbNQ          26   train          26   \n",
       "\n",
       "                                                path                 seq_key  \\\n",
       "0  Places_Data/train_val/amman/query/images/wdIMh...  004Lc-M_TjGRo7Ve-0Fhqw   \n",
       "1  Places_Data/train_val/amman/query/images/QdtKh...  004Lc-M_TjGRo7Ve-0Fhqw   \n",
       "2  Places_Data/train_val/amman/query/images/7RjQt...  004Lc-M_TjGRo7Ve-0Fhqw   \n",
       "3  Places_Data/train_val/amman/query/images/pW-u_...  004Lc-M_TjGRo7Ve-0Fhqw   \n",
       "4  Places_Data/train_val/amman/query/images/ritUe...  004Lc-M_TjGRo7Ve-0Fhqw   \n",
       "\n",
       "    city                                    local_path view_direction  \\\n",
       "0  amman  ../seq_data/train/wdIMhVzUKwF-wgJxrhL0lQ.jpg        Forward   \n",
       "1  amman  ../seq_data/train/QdtKhFvv3cDcoHBArvcHbw.jpg        Forward   \n",
       "2  amman  ../seq_data/train/7RjQtvVfAdRd3qnm80w4Yg.jpg        Forward   \n",
       "3  amman  ../seq_data/train/pW-u_bvOqxgZU6oGeyQjEA.jpg        Forward   \n",
       "4  amman  ../seq_data/train/ritUetJDRquvOYH8Z5qbNQ.jpg        Forward   \n",
       "\n",
       "        lon           lat  label0  label1  \n",
       "0  0.999992  8.027482e-06     1.0     0.0  \n",
       "1  1.000000  1.604972e-07     1.0     0.0  \n",
       "2  0.999999  1.003697e-06     1.0     0.0  \n",
       "3  0.999940  6.010981e-05     1.0     0.0  \n",
       "4  0.999498  5.021754e-04     1.0     0.0  "
      ]
     },
     "execution_count": 4,
     "metadata": {},
     "output_type": "execute_result"
    }
   ],
   "source": [
    "df = pd.read_feather('imgs_preds.df').sort_values([\"city\",'seq_key','og_cluster'])\n",
    "labels = tf.one_hot((df.view_direction == \"Sideways\").apply(int).values,2).numpy()\n",
    "preds = np.array([df.lon,df.lat]).T\n",
    "\n",
    "df['label0'] = labels[:,0]\n",
    "df['label1'] = labels[:,1]\n",
    "\n",
    "\n",
    "df.head()"
   ]
  },
  {
   "cell_type": "code",
   "execution_count": 5,
   "metadata": {},
   "outputs": [
    {
     "name": "stderr",
     "output_type": "stream",
     "text": [
      "100%|██████████| 15325/15325 [00:29<00:00, 511.44it/s]\n"
     ]
    }
   ],
   "source": [
    "index = []\n",
    "vals = []\n",
    "bce = tf.keras.losses.BinaryCrossentropy(from_logits=False)\n",
    "for i in tqdm.tqdm(df.groupby([\"city\",'seq_key','og_cluster'])):\n",
    "\n",
    "    preds = np.array([i[1].lon.values, i[1].lat.values]).T\n",
    "    labels = np.array([i[1].label0.values, i[1].label1.values]).T\n",
    "    \n",
    "    loss = bce(labels,preds).numpy()\n",
    "    vals.append(loss)\n",
    "    index.append(i[0])"
   ]
  },
  {
   "cell_type": "code",
   "execution_count": 10,
   "metadata": {},
   "outputs": [],
   "source": [
    "losses = pd.DataFrame(vals,index=pd.MultiIndex.from_tuples(index),columns=['loss'])\n",
    "losses.sort_values(\"loss\",ascending=False,inplace=True)\n",
    "losses.reset_index().to_feather('losses.df')"
   ]
  }
 ],
 "metadata": {
  "kernelspec": {
   "display_name": "Python 3.10.5 ('felix')",
   "language": "python",
   "name": "python3"
  },
  "language_info": {
   "codemirror_mode": {
    "name": "ipython",
    "version": 3
   },
   "file_extension": ".py",
   "mimetype": "text/x-python",
   "name": "python",
   "nbconvert_exporter": "python",
   "pygments_lexer": "ipython3",
   "version": "3.10.5"
  },
  "orig_nbformat": 4,
  "vscode": {
   "interpreter": {
    "hash": "64aad402826e5067045a3f2545cdf45209700db649eac24e1eb71cad2d7c755c"
   }
  }
 },
 "nbformat": 4,
 "nbformat_minor": 2
}
