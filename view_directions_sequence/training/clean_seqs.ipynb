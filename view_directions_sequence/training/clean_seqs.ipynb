{
 "cells": [
  {
   "cell_type": "code",
   "execution_count": 31,
   "metadata": {},
   "outputs": [],
   "source": [
    "import numpy as np\n",
    "import pandas as pd\n",
    "import tensorflow as tf\n",
    "import tensorflow_datasets as tfds\n",
    "import tqdm\n",
    "\n",
    "# df = pd.read_feather(\"traning_imgs.df\")\n",
    "# old = pd.read_feather(\"../data_analysis/prelim.feather\").set_index(\"key\")\n",
    "# df[\"seq_key\"] = old.loc[df[\"key\"].values,\"sequence_key\"].values\n",
    "# df[\"view_direction\"] = old.loc[df[\"key\"].values,\"view_direction\"].values\n",
    "# df[\"city\"] = df.path.apply(lambda x: x[22: x.find(\"/\",22)])\n",
    "# func = lambda s: s[s.find(\"images/\")+7:]\n",
    "# df[\"local_path\"] =  \"../seq_data/\" + df.ds_type + \"/\" + df.path.apply(func).values\n",
    "# df = df.sort_values([\"city\",\"seq_key\",\"og_cluster\"])\n",
    "# df.index = range(len(df))\n",
    "# df.to_feather(\"traning_imgs.df\")"
   ]
  },
  {
   "cell_type": "code",
   "execution_count": 37,
   "metadata": {},
   "outputs": [
    {
     "data": {
      "text/plain": [
       "0.3235687228603985"
      ]
     },
     "execution_count": 37,
     "metadata": {},
     "output_type": "execute_result"
    }
   ],
   "source": [
    "df = pd.read_feather(\"traning_imgs.df\")\n",
    "\n",
    "(df.view_direction==\"Sideways\").apply(int).mean()"
   ]
  },
  {
   "cell_type": "code",
   "execution_count": 39,
   "metadata": {},
   "outputs": [],
   "source": [
    "ds = tf.data.Dataset.from_tensor_slices((df.local_path.values,(df.view_direction==\"Sideways\").apply(int).values))\n",
    "model = tf.keras.models.load_model()"
   ]
  },
  {
   "cell_type": "code",
   "execution_count": 9,
   "metadata": {},
   "outputs": [
    {
     "data": {
      "text/plain": [
       "22"
      ]
     },
     "execution_count": 9,
     "metadata": {},
     "output_type": "execute_result"
    }
   ],
   "source": [
    "len(\"Places_Data/train_val/\")"
   ]
  },
  {
   "cell_type": "code",
   "execution_count": 7,
   "metadata": {},
   "outputs": [
    {
     "data": {
      "text/plain": [
       "0         ../seq_data/train/KYBNnSy0RySIkI1YNkGC1w.jpg\n",
       "1         ../seq_data/train/3uz3XZ4EHqurWW9D04u62A.jpg\n",
       "2         ../seq_data/train/7bZHPrh4efxZJrleUQHZQg.jpg\n",
       "3         ../seq_data/train/RQmQk4CFgl16KSMqpEpvlA.jpg\n",
       "4         ../seq_data/train/zWIH_aORFE4Gn1sS9E9d9Q.jpg\n",
       "                              ...                     \n",
       "162350     ../seq_data/test/Sjnj9MYJlZRRAQnd0eP47r.jpg\n",
       "162351     ../seq_data/test/BzgzU8TWvAJSF6zha8-Z1_.jpg\n",
       "162352     ../seq_data/test/f8xCd8phDohvCcOb3xEyDL.jpg\n",
       "162353     ../seq_data/test/crdg_zMtmLo2TnwpQ-vWTz.jpg\n",
       "162354     ../seq_data/test/T9oQ9d0vh0VgWFE_M0nxSu.jpg\n",
       "Name: ds_type, Length: 162355, dtype: object"
      ]
     },
     "execution_count": 7,
     "metadata": {},
     "output_type": "execute_result"
    }
   ],
   "source": [
    "\n",
    "paths"
   ]
  }
 ],
 "metadata": {
  "kernelspec": {
   "display_name": "Python 3.10.4 ('r')",
   "language": "python",
   "name": "python3"
  },
  "language_info": {
   "codemirror_mode": {
    "name": "ipython",
    "version": 3
   },
   "file_extension": ".py",
   "mimetype": "text/x-python",
   "name": "python",
   "nbconvert_exporter": "python",
   "pygments_lexer": "ipython3",
   "version": "3.10.4"
  },
  "orig_nbformat": 4,
  "vscode": {
   "interpreter": {
    "hash": "2b1fae9b4f84de5a0151293b92063dea66447e44ce8e797ae8cc1ec46d1c2819"
   }
  }
 },
 "nbformat": 4,
 "nbformat_minor": 2
}
