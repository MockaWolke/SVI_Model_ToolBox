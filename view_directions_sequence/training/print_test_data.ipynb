{
 "cells": [
  {
   "cell_type": "code",
   "execution_count": 1,
   "metadata": {},
   "outputs": [],
   "source": [
    "import matplotlib.pyplot as plt\n",
    "import pandas as pd\n",
    "import numpy as np\n",
    "import tqdm\n",
    "import os"
   ]
  },
  {
   "cell_type": "code",
   "execution_count": 2,
   "metadata": {},
   "outputs": [],
   "source": [
    "df = pd.read_feather('cleaned_seqs.df').set_index('index').query(\"ds_type == 'test'\")\n",
    "func = lambda s: s[s.find(\"images/\")+7:]\n",
    "df[\"local_path\"] = np.array([[f\"../seq_data/{s}/{func(i)}\"for i in c] for c,s in zip(df.Paths,df.ds_type)]).tolist()"
   ]
  },
  {
   "cell_type": "code",
   "execution_count": 9,
   "metadata": {},
   "outputs": [],
   "source": [
    "!mkdir tmp/test_data/front/\n",
    "!mkdir tmp/test_data/side/\n",
    "!mkdir tmp/test_data/new_front/\n",
    "!mkdir tmp/test_data/new_side/\n"
   ]
  },
  {
   "cell_type": "code",
   "execution_count": 6,
   "metadata": {},
   "outputs": [],
   "source": [
    "!rm tmp/test_data/front/*"
   ]
  },
  {
   "cell_type": "code",
   "execution_count": 5,
   "metadata": {},
   "outputs": [
    {
     "name": "stderr",
     "output_type": "stream",
     "text": [
      "100%|██████████| 2295/2295 [05:33<00:00,  6.88it/s] \n"
     ]
    }
   ],
   "source": [
    "hhh = 0\n",
    "for x,y in tqdm.tqdm(df.groupby([\"seq_key\",\"og_cluster\"])):\n",
    "    row = y.iloc[0]\n",
    "\n",
    "    if hhh< 720:\n",
    "        hhh += 1\n",
    "        continue\n",
    "\n",
    "    hhh +=1\n",
    "    fig, ax = plt.subplots(2,2,figsize=(12,12))\n",
    "    keys = row['local_path']\n",
    "    #np.random.shuffle(keys)\n",
    "    for i,a in enumerate(ax.flatten()):\n",
    "        try:\n",
    "            a.imshow(plt.imread(keys[i]))\n",
    "        except: pass\n",
    "        a.axis('off')\n",
    "    plt.suptitle(f\"{row['view_direction']}\")\n",
    "    if row['view_direction'] == 'Forward':\n",
    "        path = \"tmp/test_data/front/\" +  x[0]+\"Ä\" +str(x[1]) + \".jpg\"\n",
    "    else:\n",
    "        path = \"tmp/test_data/side/\" +  x[0]+\"Ä\" +str(x[1]) + \".jpg\"\n",
    "\n",
    "    plt.savefig(path)\n",
    "    plt.close()\n"
   ]
  },
  {
   "cell_type": "code",
   "execution_count": 3,
   "metadata": {},
   "outputs": [
    {
     "data": {
      "text/plain": [
       "1941"
      ]
     },
     "execution_count": 3,
     "metadata": {},
     "output_type": "execute_result"
    }
   ],
   "source": [
    "len(os.listdir('tmp/test_data/front/'))"
   ]
  },
  {
   "cell_type": "code",
   "execution_count": 4,
   "metadata": {},
   "outputs": [
    {
     "data": {
      "text/plain": [
       "1282"
      ]
     },
     "execution_count": 4,
     "metadata": {},
     "output_type": "execute_result"
    }
   ],
   "source": [
    "sorted(os.listdir('tmp/test_data/front/')).index(\"le8ayfdqjthe0si96h1crpÄ711.jpg\")"
   ]
  },
  {
   "cell_type": "code",
   "execution_count": 3,
   "metadata": {},
   "outputs": [
    {
     "name": "stderr",
     "output_type": "stream",
     "text": [
      "100%|██████████| 26/26 [00:44<00:00,  1.71s/it]\n"
     ]
    }
   ],
   "source": [
    "# inspect = [i[:-4] for i in os.listdir(\"tmp/test_data/new_front/\")]\n",
    "# import os\n",
    "# os.makedirs(\"tmp/test_data/inspect\",exist_ok=True)\n",
    "# for c in tqdm.tqdm(inspect):\n",
    "#     eins,zwei = c.split('Ä')\n",
    "#     vv = df[(df[\"og_cluster\"] == int(zwei)) & (df[\"seq_key\"] == eins)]\n",
    "#     os.makedirs(f\"tmp/test_data/inspect/{c}\",exist_ok=True)\n",
    "#     for d in range(len(vv)):\n",
    "#         row = vv.iloc[d]\n",
    "#         fig, ax = plt.subplots(2,2,figsize=(12,12))\n",
    "#         keys = row['local_path']\n",
    "#         #np.random.shuffle(keys)\n",
    "#         for i,a in enumerate(ax.flatten()):\n",
    "#             try:\n",
    "#                 a.imshow(plt.imread(keys[i]))\n",
    "#             except: pass\n",
    "#             a.axis('off')\n",
    "#         plt.suptitle(f\"{row['view_direction']}\")\n",
    "#         plt.savefig(f\"tmp/test_data/inspect/{c}/{vv.index[d]}.jpg\")\n",
    "#         plt.close()\n",
    "\n",
    "    "
   ]
  },
  {
   "cell_type": "code",
   "execution_count": null,
   "metadata": {},
   "outputs": [],
   "source": [
    "new"
   ]
  },
  {
   "cell_type": "code",
   "execution_count": 15,
   "metadata": {},
   "outputs": [
    {
     "name": "stderr",
     "output_type": "stream",
     "text": [
      "100%|██████████| 2295/2295 [00:04<00:00, 468.07it/s]\n",
      "100%|██████████| 2295/2295 [00:00<00:00, 3751.75it/s]\n"
     ]
    }
   ],
   "source": [
    "dels_f = [x for x,y in tqdm.tqdm(df.groupby([\"seq_key\",\"og_cluster\"])) if y.iloc[0].view_direction ==\"Forward\" and x[0]+\"Ä\" + str(x[1])+\".jpg\" not in os.listdir('tmp/test_data/front')]\n",
    "dels_s = [x for x,y in tqdm.tqdm(df.groupby([\"seq_key\",\"og_cluster\"])) if y.iloc[0].view_direction ==\"Sideways\" and x[0]+\"Ä\" + str(x[1])+\".jpg\" not in os.listdir('tmp/test_data/side')]"
   ]
  },
  {
   "cell_type": "code",
   "execution_count": 17,
   "metadata": {},
   "outputs": [],
   "source": [
    "del_s = ([x for x in dels_s if x[0]+\"Ä\" + str(x[1])+\".jpg\" not in os.listdir('tmp/test_data/new_front')])"
   ]
  },
  {
   "cell_type": "code",
   "execution_count": 24,
   "metadata": {},
   "outputs": [],
   "source": [
    "dels_s.extend(dels_f)"
   ]
  },
  {
   "cell_type": "code",
   "execution_count": 29,
   "metadata": {},
   "outputs": [
    {
     "data": {
      "text/plain": [
       "164"
      ]
     },
     "execution_count": 29,
     "metadata": {},
     "output_type": "execute_result"
    }
   ],
   "source": [
    "index = np.concatenate([df.loc[(df['seq_key']==seq) & (df['cluster_id']==cl)].index for seq,cl in dels_s])"
   ]
  },
  {
   "cell_type": "code",
   "execution_count": 30,
   "metadata": {},
   "outputs": [],
   "source": [
    "df.drop(index = index, inplace= True)"
   ]
  },
  {
   "cell_type": "code",
   "execution_count": 38,
   "metadata": {},
   "outputs": [],
   "source": [
    "front = [i[:-4].split('Ä') for i in os.listdir('tmp/test_data/new_front/')]\n",
    "for seq,cl in front:\n",
    "    df.loc[(df['seq_key']==seq) & (df['cluster_id']==cl),\"view_direction\"] == \"Forward\""
   ]
  },
  {
   "cell_type": "code",
   "execution_count": 39,
   "metadata": {},
   "outputs": [
    {
     "data": {
      "text/plain": [
       "view_direction\n",
       "Forward     2228\n",
       "Sideways    1920\n",
       "Backward       1\n",
       "dtype: int64"
      ]
     },
     "execution_count": 39,
     "metadata": {},
     "output_type": "execute_result"
    }
   ],
   "source": [
    "df.value_counts('view_direction')"
   ]
  },
  {
   "cell_type": "code",
   "execution_count": 40,
   "metadata": {},
   "outputs": [],
   "source": [
    "df.reset_index().to_feather(\"test.df\")"
   ]
  }
 ],
 "metadata": {
  "kernelspec": {
   "display_name": "Python 3.10.4 ('r')",
   "language": "python",
   "name": "python3"
  },
  "language_info": {
   "codemirror_mode": {
    "name": "ipython",
    "version": 3
   },
   "file_extension": ".py",
   "mimetype": "text/x-python",
   "name": "python",
   "nbconvert_exporter": "python",
   "pygments_lexer": "ipython3",
   "version": "3.10.4"
  },
  "orig_nbformat": 4,
  "vscode": {
   "interpreter": {
    "hash": "2b1fae9b4f84de5a0151293b92063dea66447e44ce8e797ae8cc1ec46d1c2819"
   }
  }
 },
 "nbformat": 4,
 "nbformat_minor": 2
}
