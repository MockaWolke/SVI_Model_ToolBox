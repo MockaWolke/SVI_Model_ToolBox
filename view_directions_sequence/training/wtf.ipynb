{
 "cells": [
  {
   "cell_type": "code",
   "execution_count": 7,
   "metadata": {},
   "outputs": [
    {
     "data": {
      "text/plain": [
       "ds_type\n",
       "train    128689\n",
       "val       16547\n",
       "test      16242\n",
       "dtype: int64"
      ]
     },
     "execution_count": 7,
     "metadata": {},
     "output_type": "execute_result"
    }
   ],
   "source": [
    "import tensorflow as tf\n",
    "import numpy as np\n",
    "import matplotlib.pyplot as plt\n",
    "import os\n",
    "import tensorflow_datasets as tfds\n",
    "import tqdm\n",
    "import pandas as pd\n",
    "import argparse\n",
    "\n",
    "df = pd.read_feather(\"cleaned_images.df\").set_index(\"key\")\n",
    "train_df = df.loc[df.ds_type==\"train\"]\n",
    "val_df = df.loc[df.ds_type==\"val\"]\n",
    "test_df = df.loc[df.ds_type==\"test\"]\n",
    "\n",
    "df.value_counts(\"ds_type\")"
   ]
  },
  {
   "cell_type": "code",
   "execution_count": null,
   "metadata": {},
   "outputs": [],
   "source": [
    "model = tf.keras.models.load_model()\n",
    "\n",
    "def mapping(path,label):\n",
    "\n",
    "    image = tf.io.read_file(path)\n",
    "    image = tf.io.decode_jpeg(image, channels=3)\n",
    "    label = tf.one_hot(label,2)\n",
    "    return image, label\n",
    "\n",
    "def get_ds(df,bs):\n",
    "    ds = tf.data.Dataset.from_tensor_slices((df.local_path.values,(df.view_direction==\"Sideways\").apply(int).values))\n",
    "\n",
    "    ds = ds.map(mapping).shuffle(1000).batch(bs).prefetch(tf.data.AUTOTUNE)\n",
    "\n",
    "    return ds\n",
    "    \n",
    "val_ds = get_ds(val_df)"
   ]
  },
  {
   "cell_type": "code",
   "execution_count": null,
   "metadata": {},
   "outputs": [],
   "source": [
    "preds = model.predict(ds,verbose=1)"
   ]
  },
  {
   "cell_type": "code",
   "execution_count": 2,
   "metadata": {},
   "outputs": [
    {
     "data": {
      "text/plain": [
       "ds_type  view_direction\n",
       "train    Forward           0.540185\n",
       "         Sideways          0.252901\n",
       "test     Forward           0.068313\n",
       "val      Forward           0.065922\n",
       "         Sideways          0.034754\n",
       "test     Sideways          0.032240\n",
       "train    Backward          0.003858\n",
       "val      Backward          0.001796\n",
       "test     Backward          0.000031\n",
       "dtype: float64"
      ]
     },
     "execution_count": 2,
     "metadata": {},
     "output_type": "execute_result"
    }
   ],
   "source": [
    "df.value_counts([\"ds_type\",\"view_direction\"],normalize=True)"
   ]
  }
 ],
 "metadata": {
  "kernelspec": {
   "display_name": "Python 3.10.4 ('r')",
   "language": "python",
   "name": "python3"
  },
  "language_info": {
   "codemirror_mode": {
    "name": "ipython",
    "version": 3
   },
   "file_extension": ".py",
   "mimetype": "text/x-python",
   "name": "python",
   "nbconvert_exporter": "python",
   "pygments_lexer": "ipython3",
   "version": "3.10.4"
  },
  "orig_nbformat": 4,
  "vscode": {
   "interpreter": {
    "hash": "2b1fae9b4f84de5a0151293b92063dea66447e44ce8e797ae8cc1ec46d1c2819"
   }
  }
 },
 "nbformat": 4,
 "nbformat_minor": 2
}
