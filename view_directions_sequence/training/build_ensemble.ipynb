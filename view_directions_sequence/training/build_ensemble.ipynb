{
 "cells": [
  {
   "cell_type": "code",
   "execution_count": 1,
   "metadata": {},
   "outputs": [
    {
     "name": "stderr",
     "output_type": "stream",
     "text": [
      "c:\\Users\\ual\\.conda\\envs\\felix\\lib\\site-packages\\tqdm\\auto.py:22: TqdmWarning: IProgress not found. Please update jupyter and ipywidgets. See https://ipywidgets.readthedocs.io/en/stable/user_install.html\n",
      "  from .autonotebook import tqdm as notebook_tqdm\n"
     ]
    }
   ],
   "source": [
    "import tensorflow as tf\n",
    "import numpy as np\n",
    "import keras_tuner as kt\n",
    "import pandas as pd\n",
    "import seq_generator\n",
    "import tensorflow.keras.layers as layers\n",
    "import tensorflow_datasets as tfds\n",
    "import json\n",
    "import os\n",
    "import tqdm\n",
    "\n",
    "pars = json.load(open(\"tuner_run/best_hps.json\"))\n",
    "\n",
    "def build_cnn():\n",
    "\n",
    "    inputs = tf.keras.Input([260,260,3])\n",
    "\n",
    "    img_augmentation = tf.keras.models.Sequential(\n",
    "        [\n",
    "            tf.keras.layers.RandomRotation(factor=0.15),\n",
    "            tf.keras.layers.RandomTranslation(height_factor=0.1, width_factor=0.1),\n",
    "            tf.keras.layers.RandomContrast(factor=0.1),\n",
    "        ],\n",
    "        name=\"img_augmentation\",\n",
    "    )\n",
    "\n",
    "    x = tf.keras.layers.Resizing(224,224) (inputs)\n",
    "\n",
    "    x = img_augmentation(x)\n",
    "\n",
    "    base = tf.keras.applications.EfficientNetB0(\n",
    "                include_top=False,\n",
    "                weights='imagenet',\n",
    "                input_tensor= x)\n",
    "\n",
    "    base.trainable = False\n",
    "\n",
    "    x = tf.keras.layers.GlobalAveragePooling2D(name=\"avg_pool\")(base.output)\n",
    "\n",
    "    return tf.keras.Model(inputs,x)\n",
    "\n",
    "def build_model(hps,cnn):\n",
    "\n",
    "\n",
    "    inputs = tf.keras.Input([5,260,260,3])\n",
    "    x = layers.TimeDistributed(cnn)(inputs)\n",
    "\n",
    "    drop1 = hps[\"drop1\"]\n",
    "\n",
    "    x = layers.TimeDistributed( layers.Dropout(drop1), name = \"drop1\") (x)\n",
    "\n",
    "    hidden_units =  hps[\"hidden_units\"]\n",
    "\n",
    "    if hps[\"rnn\"] == \"lstm\":\n",
    "        x = layers.LSTM(hidden_units, name = \"lstm\")(x)\n",
    "    else:\n",
    "        x = layers.GRU(hidden_units, name = \"gru\") (x)\n",
    "\n",
    "    drop2 = hps[\"drop2\"]\n",
    "    x = layers.Dropout(drop2,name =\"drop2\")(x)\n",
    "\n",
    "    outputs = tf.keras.layers.Dense(2, activation=\"softmax\", name=\"pred\",kernel_regularizer=tf.keras.regularizers.L2())(x)\n",
    "\n",
    "    learning_rate = hps[\"lr\"]\n",
    "\n",
    "    model = tf.keras.Model(inputs,outputs)\n",
    "    model.compile(\n",
    "        optimizer=tf.keras.optimizers.Adam(learning_rate=learning_rate),\n",
    "        loss=\"binary_crossentropy\",\n",
    "        metrics=[\"accuracy\"],\n",
    "    )\n",
    "    return model\n",
    "\n",
    "def load_model(i):\n",
    "    cnn = build_cnn()\n",
    "    model = build_model(pars,cnn)\n",
    "    name = f\"b0_ensemple_{i}\"\n",
    "    model.load_weights(f\"tuner_run/ensemble/weights/{name}_warm/cp.cpkt\")\n",
    "    return model\n",
    "\n",
    "_ , val_ds = seq_generator.get_train_and_val(batch_size=20)\n",
    "val_ds = val_ds.map(lambda x,y: (x,tf.one_hot(y,2)))"
   ]
  },
  {
   "cell_type": "code",
   "execution_count": 2,
   "metadata": {},
   "outputs": [],
   "source": [
    "# losses = {}\n",
    "# cnn = build_cnn()\n",
    "# model = build_model(pars,cnn)\n",
    "# for i in tqdm.tqdm(range(21)): \n",
    "\n",
    "#     name = f\"b0_ensemple_{i}\"\n",
    "#     model.load_weights(f\"tuner_run/ensemble/weights/{name}_warm/cp.cpkt\")\n",
    "#     _, acc = model.evaluate(val_ds,verbose=0)\n",
    "    \n",
    "#     losses[i]= acc\n",
    "\n",
    "#     with open(\"tmp/new_results.json\",\"w\") as f:\n",
    "#         json.dump(losses,f)"
   ]
  },
  {
   "cell_type": "code",
   "execution_count": 3,
   "metadata": {},
   "outputs": [
    {
     "data": {
      "text/plain": [
       "array([20,  4,  2,  1, 16, 17,  5,  3, 18, 10, 19,  8, 14, 11, 15, 12,  7,\n",
       "        9,  0,  6, 13], dtype=int64)"
      ]
     },
     "execution_count": 3,
     "metadata": {},
     "output_type": "execute_result"
    }
   ],
   "source": [
    "with open(\"tmp/new_results.json\",\"r\") as f:\n",
    "    losses = json.load(f)\n",
    "losses = np.array(list(losses.values()))\n",
    "best = np.argsort(-losses)\n",
    "losses[best]\n",
    "best"
   ]
  },
  {
   "cell_type": "code",
   "execution_count": 3,
   "metadata": {},
   "outputs": [
    {
     "name": "stdout",
     "output_type": "stream",
     "text": [
      "225/225 [==============================] - 47s 157ms/step - loss: 0.1829 - accuracy: 0.9513\n"
     ]
    },
    {
     "data": {
      "text/plain": [
       "[0.1828595995903015, 0.9513117074966431]"
      ]
     },
     "execution_count": 3,
     "metadata": {},
     "output_type": "execute_result"
    }
   ],
   "source": [
    "# ensemble of 3\n",
    "inputs = tf.keras.Input([5,260,260,3])\n",
    "x = [load_model(i)(inputs) for i in best[:3]]\n",
    "\n",
    "outputs = tf.math.reduce_mean(x,axis = 0)\n",
    "\n",
    "ensemble = tf.keras.Model(inputs,outputs)\n",
    "ensemble.compile(\n",
    "        optimizer=tf.keras.optimizers.Adam(),\n",
    "        loss=\"binary_crossentropy\",\n",
    "        metrics=[\"accuracy\"],\n",
    "    )\n",
    "ensemble.evaluate(val_ds)"
   ]
  },
  {
   "cell_type": "code",
   "execution_count": 4,
   "metadata": {},
   "outputs": [
    {
     "name": "stdout",
     "output_type": "stream",
     "text": [
      "WARNING:tensorflow:Detecting that an object or model or tf.train.Checkpoint is being deleted with unrestored values. See the following logs for the specific values in question. To silence these warnings, use `status.expect_partial()`. See https://www.tensorflow.org/api_docs/python/tf/train/Checkpoint#restorefor details about the status object returned by the restore function.\n",
      "WARNING:tensorflow:Value in checkpoint could not be found in the restored object: (root).optimizer.iter\n",
      "WARNING:tensorflow:Value in checkpoint could not be found in the restored object: (root).optimizer.beta_1\n",
      "WARNING:tensorflow:Value in checkpoint could not be found in the restored object: (root).optimizer.beta_2\n",
      "WARNING:tensorflow:Value in checkpoint could not be found in the restored object: (root).optimizer.decay\n",
      "WARNING:tensorflow:Value in checkpoint could not be found in the restored object: (root).optimizer.learning_rate\n",
      "WARNING:tensorflow:Detecting that an object or model or tf.train.Checkpoint is being deleted with unrestored values. See the following logs for the specific values in question. To silence these warnings, use `status.expect_partial()`. See https://www.tensorflow.org/api_docs/python/tf/train/Checkpoint#restorefor details about the status object returned by the restore function.\n",
      "WARNING:tensorflow:Value in checkpoint could not be found in the restored object: (root).optimizer.iter\n",
      "WARNING:tensorflow:Value in checkpoint could not be found in the restored object: (root).optimizer.beta_1\n",
      "WARNING:tensorflow:Value in checkpoint could not be found in the restored object: (root).optimizer.beta_2\n",
      "WARNING:tensorflow:Value in checkpoint could not be found in the restored object: (root).optimizer.decay\n",
      "WARNING:tensorflow:Value in checkpoint could not be found in the restored object: (root).optimizer.learning_rate\n",
      "225/225 [==============================] - 72s 256ms/step - loss: 0.1861 - accuracy: 0.9533\n"
     ]
    },
    {
     "data": {
      "text/plain": [
       "[0.18611377477645874, 0.9533125758171082]"
      ]
     },
     "execution_count": 4,
     "metadata": {},
     "output_type": "execute_result"
    }
   ],
   "source": [
    "# ensemble of 5\n",
    "inputs = tf.keras.Input([5,260,260,3])\n",
    "x = [load_model(i)(inputs) for i in best[:5]]\n",
    "\n",
    "outputs = tf.math.reduce_mean(x,axis = 0)\n",
    "\n",
    "ensemble = tf.keras.Model(inputs,outputs)\n",
    "ensemble.compile(\n",
    "        optimizer=tf.keras.optimizers.Adam(),\n",
    "        loss=\"binary_crossentropy\",\n",
    "        metrics=[\"accuracy\"],\n",
    "    )\n",
    "ensemble.evaluate(val_ds)"
   ]
  },
  {
   "cell_type": "code",
   "execution_count": 6,
   "metadata": {},
   "outputs": [
    {
     "name": "stdout",
     "output_type": "stream",
     "text": [
      "WARNING:tensorflow:Detecting that an object or model or tf.train.Checkpoint is being deleted with unrestored values. See the following logs for the specific values in question. To silence these warnings, use `status.expect_partial()`. See https://www.tensorflow.org/api_docs/python/tf/train/Checkpoint#restorefor details about the status object returned by the restore function.\n",
      "WARNING:tensorflow:Value in checkpoint could not be found in the restored object: (root).optimizer.iter\n",
      "WARNING:tensorflow:Value in checkpoint could not be found in the restored object: (root).optimizer.beta_1\n",
      "WARNING:tensorflow:Value in checkpoint could not be found in the restored object: (root).optimizer.beta_2\n",
      "WARNING:tensorflow:Value in checkpoint could not be found in the restored object: (root).optimizer.decay\n",
      "WARNING:tensorflow:Value in checkpoint could not be found in the restored object: (root).optimizer.learning_rate\n",
      "WARNING:tensorflow:Detecting that an object or model or tf.train.Checkpoint is being deleted with unrestored values. See the following logs for the specific values in question. To silence these warnings, use `status.expect_partial()`. See https://www.tensorflow.org/api_docs/python/tf/train/Checkpoint#restorefor details about the status object returned by the restore function.\n",
      "WARNING:tensorflow:Value in checkpoint could not be found in the restored object: (root).optimizer.iter\n",
      "WARNING:tensorflow:Value in checkpoint could not be found in the restored object: (root).optimizer.beta_1\n",
      "WARNING:tensorflow:Value in checkpoint could not be found in the restored object: (root).optimizer.beta_2\n",
      "WARNING:tensorflow:Value in checkpoint could not be found in the restored object: (root).optimizer.decay\n",
      "WARNING:tensorflow:Value in checkpoint could not be found in the restored object: (root).optimizer.learning_rate\n",
      "WARNING:tensorflow:Detecting that an object or model or tf.train.Checkpoint is being deleted with unrestored values. See the following logs for the specific values in question. To silence these warnings, use `status.expect_partial()`. See https://www.tensorflow.org/api_docs/python/tf/train/Checkpoint#restorefor details about the status object returned by the restore function.\n",
      "WARNING:tensorflow:Value in checkpoint could not be found in the restored object: (root).optimizer.iter\n",
      "WARNING:tensorflow:Value in checkpoint could not be found in the restored object: (root).optimizer.beta_1\n",
      "WARNING:tensorflow:Value in checkpoint could not be found in the restored object: (root).optimizer.beta_2\n",
      "WARNING:tensorflow:Value in checkpoint could not be found in the restored object: (root).optimizer.decay\n",
      "WARNING:tensorflow:Value in checkpoint could not be found in the restored object: (root).optimizer.learning_rate\n",
      "WARNING:tensorflow:Detecting that an object or model or tf.train.Checkpoint is being deleted with unrestored values. See the following logs for the specific values in question. To silence these warnings, use `status.expect_partial()`. See https://www.tensorflow.org/api_docs/python/tf/train/Checkpoint#restorefor details about the status object returned by the restore function.\n",
      "WARNING:tensorflow:Value in checkpoint could not be found in the restored object: (root).optimizer.iter\n",
      "WARNING:tensorflow:Value in checkpoint could not be found in the restored object: (root).optimizer.beta_1\n",
      "WARNING:tensorflow:Value in checkpoint could not be found in the restored object: (root).optimizer.beta_2\n",
      "WARNING:tensorflow:Value in checkpoint could not be found in the restored object: (root).optimizer.decay\n",
      "WARNING:tensorflow:Value in checkpoint could not be found in the restored object: (root).optimizer.learning_rate\n",
      "225/225 [==============================] - 73s 256ms/step - loss: 0.1952 - accuracy: 0.9511\n"
     ]
    },
    {
     "data": {
      "text/plain": [
       "[0.19520433247089386, 0.9510893821716309]"
      ]
     },
     "execution_count": 6,
     "metadata": {},
     "output_type": "execute_result"
    }
   ],
   "source": [
    "# ensemble of 5\n",
    "inputs = tf.keras.Input([5,260,260,3])\n",
    "x = [load_model(i)(inputs) for i in range(5)]\n",
    "\n",
    "outputs = tf.math.reduce_mean(x,axis = 0)\n",
    "\n",
    "ensemble = tf.keras.Model(inputs,outputs)\n",
    "ensemble.compile(\n",
    "        optimizer=tf.keras.optimizers.Adam(),\n",
    "        loss=\"binary_crossentropy\",\n",
    "        metrics=[\"accuracy\"],\n",
    "    )\n",
    "ensemble.evaluate(val_ds)"
   ]
  }
 ],
 "metadata": {
  "kernelspec": {
   "display_name": "Python 3.10.5 ('felix')",
   "language": "python",
   "name": "python3"
  },
  "language_info": {
   "codemirror_mode": {
    "name": "ipython",
    "version": 3
   },
   "file_extension": ".py",
   "mimetype": "text/x-python",
   "name": "python",
   "nbconvert_exporter": "python",
   "pygments_lexer": "ipython3",
   "version": "3.10.5"
  },
  "orig_nbformat": 4,
  "vscode": {
   "interpreter": {
    "hash": "64aad402826e5067045a3f2545cdf45209700db649eac24e1eb71cad2d7c755c"
   }
  }
 },
 "nbformat": 4,
 "nbformat_minor": 2
}
