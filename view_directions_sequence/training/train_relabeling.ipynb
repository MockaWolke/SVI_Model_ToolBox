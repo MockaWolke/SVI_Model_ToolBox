{
 "cells": [
  {
   "cell_type": "code",
   "execution_count": 22,
   "metadata": {},
   "outputs": [],
   "source": [
    "import matplotlib.pyplot as plt\n",
    "import numpy as np\n",
    "import pandas as pd\n",
    "import tqdm\n",
    "import os"
   ]
  },
  {
   "cell_type": "code",
   "execution_count": 23,
   "metadata": {},
   "outputs": [],
   "source": [
    "df = pd.read_feather('imgl.df').set_index('index').query('ds_type == \"train\"')\n",
    "func = lambda s: s[s.find(\"images/\")+7:]\n",
    "df[\"local_path\"] = np.array([[f\"../seq_data/{s}/{func(i)}\"for i in c] for c,s in zip(df.Paths,df.ds_type)]).tolist()"
   ]
  },
  {
   "cell_type": "code",
   "execution_count": 24,
   "metadata": {},
   "outputs": [
    {
     "data": {
      "text/plain": [
       "seq_key\n",
       "20GnnQaw7R2pR0a_ecPDnA     4.756585\n",
       "2gqajn4lerxvknrsnx1fbm     3.986484\n",
       "2taddw3rpf3tr95ze9ht1u    10.385349\n",
       "6oz1jib283lzg70asqy2wx     3.367256\n",
       "8ighk3bcrezamulw4vd3vd     3.057056\n",
       "99tbbk7jfc8k8b17mono0y     5.404414\n",
       "9Gx4zJlSqjhghpFlVcGU3Q     1.716154\n",
       "GMWGQtu0jlAUXsRCE1Asag     4.333782\n",
       "H7hbf3RBlB_tOOGqBfHDaA    10.313719\n",
       "MHfiPqEc6AmLDW2xLCsixw     6.299242\n",
       "UMZX7LdDAdkK6Qul-nA-1g     4.711794\n",
       "UiGpDEQrzX_Q5PGB1aNiDg     7.062361\n",
       "VK8smP0CTeOZmHlU2fWCeA     4.447124\n",
       "daOCuCCLxkeZOqPpRX8PMA     8.764616\n",
       "eFJyH89rnxO-lRYfJ7Q_QQ     7.842801\n",
       "f49i4w199yp01usz30lx45     4.415981\n",
       "gs2ymgvpz7g7qd4fn4mwpn     5.375650\n",
       "ufNPIv1mpUKOii9oDVdGOw     9.078372\n",
       "wRe_Ed0B1O5lIuk2DU8wUQ     2.898792\n",
       "Name: loss, dtype: float32"
      ]
     },
     "execution_count": 24,
     "metadata": {},
     "output_type": "execute_result"
    }
   ],
   "source": [
    "ns = df.groupby('seq_key')['loss'].count()\n",
    "losses = df.groupby('seq_key')['loss'].mean().loc[ns > 3]\n",
    "\n",
    "losses"
   ]
  },
  {
   "cell_type": "code",
   "execution_count": 39,
   "metadata": {},
   "outputs": [],
   "source": [
    "# commands = []\n",
    "# for seq in losses.index:\n",
    "\n",
    "#     a = df.query(f'seq_key == \"{seq}\"')\n",
    "#     name = f\"tmp/seqs/{seq}Ä{a.view_direction.iloc[0]}Ä{losses.loc[seq]:.2f}\"\n",
    "#     os.makedirs(name,exist_ok=True)\n",
    "#     imgs = \"../seq_data/train/\" + np.unique(np.concatenate(a['keys'].values))  + \".jpg\"\n",
    "\n",
    "#     paths = \"cp \" + imgs +  \" \" + name\n",
    "#     commands.extend(paths.tolist())\n",
    "\n",
    "# text = \"\\n\".join(commands)"
   ]
  },
  {
   "cell_type": "code",
   "execution_count": 40,
   "metadata": {},
   "outputs": [],
   "source": [
    "# with open('copys.sh',\"w\") as f:\n",
    "#     f.write(text)"
   ]
  },
  {
   "cell_type": "code",
   "execution_count": 52,
   "metadata": {},
   "outputs": [],
   "source": [
    "for seq in ns.loc[ns < 4].index:\n",
    "\n",
    "    a = df.query(f'seq_key == \"{seq}\"')\n",
    "    for index, row in a.iterrows():\n",
    "        plot_row(row,f\"tmp/saves/{index}.jpg\")"
   ]
  },
  {
   "cell_type": "code",
   "execution_count": 50,
   "metadata": {},
   "outputs": [],
   "source": [
    "def plot_row(row,save = None):\n",
    "    fig, ax = plt.subplots(2,2,figsize=(8,8))\n",
    "    keys = row['local_path']\n",
    "    np.random.shuffle(keys)\n",
    "    for i,a in enumerate(ax.flatten()):\n",
    "        try:\n",
    "            a.imshow(plt.imread(keys[i]))\n",
    "        except:\n",
    "            pass\n",
    "        a.axis('off')\n",
    "    plt.suptitle(f\"{row['view_direction']} {row['loss'] :.2f}\")\n",
    "\n",
    "    if save is None:\n",
    "        plt.show()\n",
    "    else:\n",
    "        plt.savefig(save)\n",
    "        plt.close()"
   ]
  },
  {
   "cell_type": "code",
   "execution_count": 61,
   "metadata": {},
   "outputs": [],
   "source": [
    "side = set([i[:i.find('Ä')]  for i in os.listdir('tmp/seqs/side/')])\n",
    "front = set([i[:i.find('Ä')]  for i in os.listdir('tmp/seqs/front/')])\n",
    "side = df.seq_key.apply(lambda x : x in side)\n",
    "front = df.seq_key.apply(lambda x : x in front)\n"
   ]
  },
  {
   "cell_type": "code",
   "execution_count": 64,
   "metadata": {},
   "outputs": [
    {
     "data": {
      "text/plain": [
       "40"
      ]
     },
     "execution_count": 64,
     "metadata": {},
     "output_type": "execute_result"
    }
   ],
   "source": [
    "(df.loc[front,\"view_direction\"] == 'Sideways').sum()"
   ]
  },
  {
   "cell_type": "code",
   "execution_count": 65,
   "metadata": {},
   "outputs": [
    {
     "data": {
      "text/plain": [
       "0"
      ]
     },
     "execution_count": 65,
     "metadata": {},
     "output_type": "execute_result"
    }
   ],
   "source": [
    "(df.loc[side,\"view_direction\"] == 'Forward').sum()"
   ]
  },
  {
   "cell_type": "code",
   "execution_count": 67,
   "metadata": {},
   "outputs": [],
   "source": [
    "df.loc[side,\"view_direction\"] = 'Sideways'\n",
    "df.loc[front,\"view_direction\"] = 'Forward'"
   ]
  },
  {
   "cell_type": "code",
   "execution_count": 68,
   "metadata": {},
   "outputs": [
    {
     "data": {
      "text/plain": [
       "307"
      ]
     },
     "execution_count": 68,
     "metadata": {},
     "output_type": "execute_result"
    }
   ],
   "source": [
    "len(df)"
   ]
  },
  {
   "cell_type": "code",
   "execution_count": 72,
   "metadata": {},
   "outputs": [],
   "source": [
    "real = pd.read_feather(\"new_train_seqs.df\").set_index('index')\n",
    "real.loc[df.index] = df\n",
    "real.reset_index().to_feather(\"new_train_seqs.df\")"
   ]
  },
  {
   "cell_type": "code",
   "execution_count": null,
   "metadata": {},
   "outputs": [],
   "source": []
  }
 ],
 "metadata": {
  "kernelspec": {
   "display_name": "Python 3.10.4 ('r')",
   "language": "python",
   "name": "python3"
  },
  "language_info": {
   "codemirror_mode": {
    "name": "ipython",
    "version": 3
   },
   "file_extension": ".py",
   "mimetype": "text/x-python",
   "name": "python",
   "nbconvert_exporter": "python",
   "pygments_lexer": "ipython3",
   "version": "3.10.4"
  },
  "orig_nbformat": 4,
  "vscode": {
   "interpreter": {
    "hash": "2b1fae9b4f84de5a0151293b92063dea66447e44ce8e797ae8cc1ec46d1c2819"
   }
  }
 },
 "nbformat": 4,
 "nbformat_minor": 2
}
