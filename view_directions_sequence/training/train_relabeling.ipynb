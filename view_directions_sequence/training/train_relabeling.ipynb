{
 "cells": [
  {
   "cell_type": "code",
   "execution_count": 73,
   "metadata": {},
   "outputs": [],
   "source": [
    "import matplotlib.pyplot as plt\n",
    "import numpy as np\n",
    "import pandas as pd\n",
    "import tqdm\n",
    "import os"
   ]
  },
  {
   "cell_type": "code",
   "execution_count": 74,
   "metadata": {},
   "outputs": [],
   "source": [
    "df = pd.read_feather('imgl.df').set_index('index').query('ds_type == \"train\"')\n",
    "func = lambda s: s[s.find(\"images/\")+7:]\n",
    "df[\"local_path\"] = np.array([[f\"../seq_data/{s}/{func(i)}\"for i in c] for c,s in zip(df.Paths,df.ds_type)]).tolist()"
   ]
  },
  {
   "cell_type": "code",
   "execution_count": 75,
   "metadata": {},
   "outputs": [
    {
     "data": {
      "text/plain": [
       "seq_key\n",
       "07sOb7T1hUxqVoSCtqbX5g    1.170758\n",
       "0k_HaRGQSjfnVlCW_yYMqg    4.015885\n",
       "20GnnQaw7R2pR0a_ecPDnA    1.072728\n",
       "216rnoeymisb3onr095pmn    1.217315\n",
       "2gqajn4lerxvknrsnx1fbm    6.192456\n",
       "                            ...   \n",
       "wne465ma9irobxhskc9hcv    2.568761\n",
       "x9ja8kHoqBejxFRFsqtl6Q    0.746313\n",
       "yaKPBJ9QvW34iNOT453O7Q    1.639655\n",
       "zt6fbpghjd3b3r53un91ke    1.229541\n",
       "zuetq3q1nsyolpsid5rbfk    2.297334\n",
       "Name: loss, Length: 89, dtype: float32"
      ]
     },
     "execution_count": 75,
     "metadata": {},
     "output_type": "execute_result"
    }
   ],
   "source": [
    "ns = df.groupby('seq_key')['loss'].count()\n",
    "losses = df.groupby('seq_key')['loss'].mean().loc[ns > 3]\n",
    "\n",
    "losses"
   ]
  },
  {
   "cell_type": "code",
   "execution_count": 76,
   "metadata": {},
   "outputs": [],
   "source": [
    "commands = []\n",
    "for seq in losses.index:\n",
    "\n",
    "    a = df.query(f'seq_key == \"{seq}\"')\n",
    "    name = f\"tmp/seqs/{seq}Ä{a.view_direction.iloc[0]}Ä{losses.loc[seq]:.2f}\"\n",
    "    os.makedirs(name,exist_ok=True)\n",
    "    imgs = \"../seq_data/train/\" + np.unique(np.concatenate(a['keys'].values))  + \".jpg\"\n",
    "\n",
    "    paths = \"cp \" + imgs +  \" \" + name\n",
    "    commands.extend(paths.tolist())\n",
    "\n",
    "text = \"\\n\".join(commands)"
   ]
  },
  {
   "cell_type": "code",
   "execution_count": 77,
   "metadata": {},
   "outputs": [],
   "source": [
    "with open('copys.sh',\"w\") as f:\n",
    "    f.write(text)"
   ]
  },
  {
   "cell_type": "code",
   "execution_count": 85,
   "metadata": {},
   "outputs": [
    {
     "data": {
      "text/plain": [
       "44"
      ]
     },
     "execution_count": 85,
     "metadata": {},
     "output_type": "execute_result"
    }
   ],
   "source": [
    "len(os.listdir('tmp/seqs/side')) + len(os.listdir('tmp/seqs/front'))\n"
   ]
  },
  {
   "cell_type": "code",
   "execution_count": 52,
   "metadata": {},
   "outputs": [],
   "source": [
    "for seq in ns.loc[ns < 4].index:\n",
    "\n",
    "    a = df.query(f'seq_key == \"{seq}\"')\n",
    "    for index, row in a.iterrows():\n",
    "        plot_row(row,f\"tmp/saves/{index}.jpg\")"
   ]
  },
  {
   "cell_type": "code",
   "execution_count": 50,
   "metadata": {},
   "outputs": [],
   "source": [
    "def plot_row(row,save = None):\n",
    "    fig, ax = plt.subplots(2,2,figsize=(8,8))\n",
    "    keys = row['local_path']\n",
    "    np.random.shuffle(keys)\n",
    "    for i,a in enumerate(ax.flatten()):\n",
    "        try:\n",
    "            a.imshow(plt.imread(keys[i]))\n",
    "        except:\n",
    "            pass\n",
    "        a.axis('off')\n",
    "    plt.suptitle(f\"{row['view_direction']} {row['loss'] :.2f}\")\n",
    "\n",
    "    if save is None:\n",
    "        plt.show()\n",
    "    else:\n",
    "        plt.savefig(save)\n",
    "        plt.close()"
   ]
  },
  {
   "cell_type": "code",
   "execution_count": 86,
   "metadata": {},
   "outputs": [],
   "source": [
    "side = set([i[:i.find('Ä')]  for i in os.listdir('tmp/seqs/side/')])\n",
    "front = set([i[:i.find('Ä')]  for i in os.listdir('tmp/seqs/front/')])\n",
    "side = df.seq_key.apply(lambda x : x in side)\n",
    "front = df.seq_key.apply(lambda x : x in front)\n"
   ]
  },
  {
   "cell_type": "code",
   "execution_count": 87,
   "metadata": {},
   "outputs": [
    {
     "data": {
      "text/plain": [
       "120"
      ]
     },
     "execution_count": 87,
     "metadata": {},
     "output_type": "execute_result"
    }
   ],
   "source": [
    "(df.loc[front,\"view_direction\"] == 'Sideways').sum()"
   ]
  },
  {
   "cell_type": "code",
   "execution_count": 88,
   "metadata": {},
   "outputs": [
    {
     "data": {
      "text/plain": [
       "0"
      ]
     },
     "execution_count": 88,
     "metadata": {},
     "output_type": "execute_result"
    }
   ],
   "source": [
    "(df.loc[side,\"view_direction\"] == 'Forward').sum()"
   ]
  },
  {
   "cell_type": "code",
   "execution_count": 89,
   "metadata": {},
   "outputs": [],
   "source": [
    "df.loc[side,\"view_direction\"] = 'Sideways'\n",
    "df.loc[front,\"view_direction\"] = 'Forward'"
   ]
  },
  {
   "cell_type": "code",
   "execution_count": 68,
   "metadata": {},
   "outputs": [
    {
     "data": {
      "text/plain": [
       "307"
      ]
     },
     "execution_count": 68,
     "metadata": {},
     "output_type": "execute_result"
    }
   ],
   "source": [
    "len(df)"
   ]
  },
  {
   "cell_type": "code",
   "execution_count": 90,
   "metadata": {},
   "outputs": [],
   "source": [
    "real = pd.read_feather(\"new_train_seqs.df\").set_index('index')\n",
    "real.loc[df.index] = df\n",
    "real.reset_index().to_feather(\"new_train_seqs.df\")"
   ]
  },
  {
   "cell_type": "code",
   "execution_count": null,
   "metadata": {},
   "outputs": [],
   "source": []
  }
 ],
 "metadata": {
  "kernelspec": {
   "display_name": "Python 3.10.4 ('r')",
   "language": "python",
   "name": "python3"
  },
  "language_info": {
   "codemirror_mode": {
    "name": "ipython",
    "version": 3
   },
   "file_extension": ".py",
   "mimetype": "text/x-python",
   "name": "python",
   "nbconvert_exporter": "python",
   "pygments_lexer": "ipython3",
   "version": "3.10.4"
  },
  "orig_nbformat": 4,
  "vscode": {
   "interpreter": {
    "hash": "2b1fae9b4f84de5a0151293b92063dea66447e44ce8e797ae8cc1ec46d1c2819"
   }
  }
 },
 "nbformat": 4,
 "nbformat_minor": 2
}
