{
 "cells": [
  {
   "cell_type": "code",
   "execution_count": 1,
   "metadata": {},
   "outputs": [],
   "source": [
    "import numpy as np\n",
    "import os\n",
    "import tqdm\n",
    "import pandas as pd\n",
    "import matplotlib.pyplot as plt\n",
    "import seaborn as sns\n",
    "\n",
    "distances = pd.read_feather(\"max_distance_of_50.feather\")\n",
    "df = pd.read_feather(\"prelim.feather\").set_index(\"key\")"
   ]
  },
  {
   "cell_type": "code",
   "execution_count": 2,
   "metadata": {},
   "outputs": [],
   "source": [
    "keys = np.concatenate(distances[\"keys\"].values)\n",
    "\n",
    "df = df.loc[keys]"
   ]
  },
  {
   "cell_type": "code",
   "execution_count": 3,
   "metadata": {},
   "outputs": [],
   "source": [
    "mins = df.groupby(\"sequence_key\")[[\"easting\",\"northing\",\"City\"]].min()\n",
    "maxs = df.groupby(\"sequence_key\")[[\"easting\",\"northing\"]].max()\n",
    "\n",
    "maxs.columns = [\"x_max\",\"y_max\"]\n",
    "mins.columns = [\"x_min\",\"y_min\",\"City\"]\n",
    "bounding_boxes = pd.concat([maxs,mins],axis=1)"
   ]
  },
  {
   "cell_type": "code",
   "execution_count": 8,
   "metadata": {},
   "outputs": [
    {
     "name": "stdout",
     "output_type": "stream",
     "text": [
      "Now Doing City amman, 27 seqs, 24 left\n"
     ]
    },
    {
     "name": "stderr",
     "output_type": "stream",
     "text": [
      "100%|██████████| 27/27 [00:01<00:00, 23.20it/s]\n"
     ]
    },
    {
     "name": "stdout",
     "output_type": "stream",
     "text": [
      "Now Doing City amsterdam, 343 seqs, 23 left\n"
     ]
    },
    {
     "name": "stderr",
     "output_type": "stream",
     "text": [
      "100%|██████████| 343/343 [02:50<00:00,  2.01it/s]\n"
     ]
    },
    {
     "name": "stdout",
     "output_type": "stream",
     "text": [
      "Now Doing City austin, 336 seqs, 22 left\n"
     ]
    },
    {
     "name": "stderr",
     "output_type": "stream",
     "text": [
      "  5%|▌         | 18/336 [00:08<02:40,  1.98it/s]"
     ]
    }
   ],
   "source": [
    "matches = {}\n",
    "\n",
    "for pos,i in enumerate(bounding_boxes.groupby(\"City\")):\n",
    "\n",
    "    print(f\"Now Doing City {i[0]}, {len(i[1])} seqs, {n_citis - pos} left\")\n",
    "    val_df = i[1]\n",
    "    seqs = val_df.index\n",
    "    border = 1000\n",
    "\n",
    "    for seq1 in tqdm.tqdm(seqs):\n",
    "        \n",
    "        x_min,x_max,y_min,y_max = val_df.loc[seq1,['x_min','x_max','y_min','y_max']]\n",
    "        hits = []\n",
    "\n",
    "        for seq2 in seqs:\n",
    "\n",
    "            if seq1!=seq2:\n",
    "                row = val_df.loc[seq2]\n",
    "\n",
    "\n",
    "                x1 = any([x_min -border <= i  <= x_max + border for i in row[[\"x_max\",\"x_min\"]]])\n",
    "                x2 = any([row[\"x_min\"] -border <= i  <= row[\"x_max\"] + border for i in [x_min,x_max]])\n",
    "\n",
    "                y1 = any([y_min -border <= i  <= y_min + border for i in row[[\"y_min\",\"y_min\"]]])\n",
    "                y2 = any([row[\"y_min\"] -border <= i  <= row[\"y_min\"] + border for i in [y_min,y_max]])\n",
    "\n",
    "                if (x1 or x2) and (y1 or y2):\n",
    "\n",
    "                    hits.append(seq2)\n",
    "\n",
    "        if hits:\n",
    "            matches[seq1] = [hits]\n",
    "\n",
    "matches = pd.DataFrame.from_dict(matches,orient='index')\n",
    "matches.columns = [\"Mathes\"]\n",
    "matches.reset_index().to_feather(f\"matches_with_{border}_border.feather\")            "
   ]
  },
  {
   "cell_type": "code",
   "execution_count": null,
   "metadata": {},
   "outputs": [],
   "source": []
  }
 ],
 "metadata": {
  "kernelspec": {
   "display_name": "Python 3.10.4 ('r')",
   "language": "python",
   "name": "python3"
  },
  "language_info": {
   "codemirror_mode": {
    "name": "ipython",
    "version": 3
   },
   "file_extension": ".py",
   "mimetype": "text/x-python",
   "name": "python",
   "nbconvert_exporter": "python",
   "pygments_lexer": "ipython3",
   "version": "3.10.4"
  },
  "orig_nbformat": 4,
  "vscode": {
   "interpreter": {
    "hash": "2b1fae9b4f84de5a0151293b92063dea66447e44ce8e797ae8cc1ec46d1c2819"
   }
  }
 },
 "nbformat": 4,
 "nbformat_minor": 2
}
